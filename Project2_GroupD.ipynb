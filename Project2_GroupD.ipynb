{
  "cells": [
    {
      "cell_type": "markdown",
      "metadata": {
        "id": "view-in-github",
        "colab_type": "text"
      },
      "source": [
        "<a href=\"https://colab.research.google.com/github/omarja12/DS_Project2/blob/main/Project2_GroupD.ipynb\" target=\"_parent\"><img src=\"https://colab.research.google.com/assets/colab-badge.svg\" alt=\"Open In Colab\"/></a>"
      ]
    },
    {
      "cell_type": "markdown",
      "metadata": {
        "id": "rqPtAhKhRbQc"
      },
      "source": [
        "# Project 2 - Classification\n",
        "## Credit card default\n",
        "### This notebook uses the dateset *default_credit_card_clients.xlsx*\n",
        "\n",
        "(c) Nuno António 2022 - Rev. 1.0"
      ]
    },
    {
      "cell_type": "markdown",
      "metadata": {
        "id": "sGY89WweRbQj"
      },
      "source": [
        "## Dataset description\n",
        "\n",
        "- **X1**: Amount of the given credit (NT dollar): it includes both the individual consumer credit and his/her family (supplementary) credit. \n",
        "- **X2**: Gender (1 = male; 2 = female). \n",
        "- **X3**: Education (1 = graduate school; 2 = university; 3 = high school; 4 = others). \n",
        "- **X4**: Marital status (1 = married; 2 = single; 3 = others). \n",
        "- **X5**: Age (year). \n",
        "- **X6** - X11: History of past payment. We tracked the past monthly payment records (from April to September, 2005) as follows: X6 = the repayment status in September, 2005; X7 = the repayment status in August, 2005; . . .;X11 = the repayment status in April, 2005. The measurement scale for the repayment status is: -1 = pay duly; 1 = payment delay for one month; 2 = payment delay for two months; . . .; 8 = payment delay for eight months; 9 = payment delay for nine months and above. \n",
        "- **X12-X17**: Amount of bill statement (NT dollar). X12 = amount of bill statement in September, 2005; X13 = amount of bill statement in August, 2005; . . .; X17 = amount of bill statement in April, 2005. \n",
        "- **X18-X23**: Amount of previous payment (NT dollar). X18 = amount paid in September, 2005; X19 = amount paid in August, 2005; . . .;X23 = amount paid in April, 2005.\n",
        "- **Y**: Indication if the customer defaulted in the following month (0-no, 1-yes).\n",
        "\n",
        "For additional information on the dataset check https://www.sciencedirect.com/science/article/abs/pii/S0957417407006719"
      ]
    },
    {
      "cell_type": "markdown",
      "metadata": {
        "id": "ggyG-U2_RbQo"
      },
      "source": [
        "## Work description\n",
        "\n",
        "### Overview\n",
        "<p>You should organize into groups of 3 to 5 students, where you will assume the role of a consultant. You are asked to develop a model to predict which customers are likely to default on their credit card in the following month. The bank wants to use the model the decrease operational losses.</p>\n",
        "<p>Employing the CRISP-DM process model, you are expected to define, describe and explain the model built. Simultaneous, you should explain how your model can help the bank reaching its objectives.</p>\n",
        "\n",
        "### Questions or additional informations\n",
        "For any additional questions, don't hesitate to get in touch with the instructor. The instructor will also act as the bank business/project stakeholder."
      ]
    },
    {
      "cell_type": "markdown",
      "metadata": {
        "id": "c5VkqBS4RbQr"
      },
      "source": [
        "## Defining the necessary functions."
      ]
    },
    {
      "cell_type": "code",
      "execution_count": 805,
      "metadata": {
        "id": "_-O9brpfRbQt"
      },
      "outputs": [],
      "source": [
        "# Function to create dataframe with metrics\n",
        "\n",
        "def performanceMetricsDF(metricsObj, yTrain, yProbaPredTrain, yPredTrain, yTest, yProbaPredTest, yPredTest):\n",
        "    measures_list = ['ACCURACY','PRECISION', 'RECALL','F1 SCORE','AUC', 'AUC_Proba']\n",
        "    train_results = [metricsObj.accuracy_score(yTrain, yPredTrain),\n",
        "                metricsObj.precision_score(yTrain, yPredTrain),\n",
        "                metricsObj.recall_score(yTrain, yPredTrain),\n",
        "                metricsObj.f1_score(yTrain, yPredTrain, average='weighted'),\n",
        "                metricsObj.roc_auc_score(yTrain, yPredTrain),\n",
        "                metricsObj.roc_auc_score(yTrain, yProbaPredTrain)     \n",
        "                ]\n",
        "    test_results = [metricsObj.accuracy_score(yTest, yPredTest),\n",
        "               metricsObj.precision_score(yTest, yPredTest),\n",
        "               metricsObj.recall_score(yTest, yPredTest),\n",
        "               metricsObj.f1_score(yTest, yPredTest, average='weighted'),\n",
        "               metricsObj.roc_auc_score(yTest, yPredTest),\n",
        "               metricsObj.roc_auc_score(yTest, yProbaPredTest) \n",
        "               ]\n",
        "    resultsDF = pd.DataFrame({'Measure': measures_list, 'Train': train_results, 'Test':test_results})\n",
        "    return(resultsDF)"
      ]
    },
    {
      "cell_type": "code",
      "source": [
        "# Function to plot confusion matrix - Adapted from https://github.com/DTrimarchi10/confusion_matrix/blob/master/cf_matrix.py\n",
        "def make_confusion_matrix(cf,\n",
        "                          group_names=None,\n",
        "                          categories='auto',\n",
        "                          count=True,\n",
        "                          percent=True,\n",
        "                          cbar=True,\n",
        "                          xyticks=True,\n",
        "                          xyplotlabels=True,\n",
        "                          sum_stats=True,\n",
        "                          figsize=None,\n",
        "                          cmap='Blues',\n",
        "                          title=None):\n",
        "    '''\n",
        "    This function will make a pretty plot of an sklearn Confusion Matrix cm using a Seaborn heatmap visualization.\n",
        "    Arguments\n",
        "    ---------\n",
        "    cf:            confusion matrix to be passed in\n",
        "    group_names:   List of strings that represent the labels row by row to be shown in each square.\n",
        "    categories:    List of strings containing the categories to be displayed on the x,y axis. Default is 'auto'\n",
        "    count:         If True, show the raw number in the confusion matrix. Default is True.\n",
        "    normalize:     If True, show the proportions for each category. Default is True.\n",
        "    cbar:          If True, show the color bar. The cbar values are based off the values in the confusion matrix.\n",
        "                   Default is True.\n",
        "    xyticks:       If True, show x and y ticks. Default is True.\n",
        "    xyplotlabels:  If True, show 'True Label' and 'Predicted Label' on the figure. Default is True.\n",
        "    sum_stats:     If True, display summary statistics below the figure. Default is True.\n",
        "    figsize:       Tuple representing the figure size. Default will be the matplotlib rcParams value.\n",
        "    cmap:          Colormap of the values displayed from matplotlib.pyplot.cm. Default is 'Blues'\n",
        "                   See http://matplotlib.org/examples/color/colormaps_reference.html\n",
        "                   \n",
        "    title:         Title for the heatmap. Default is None.\n",
        "    '''\n",
        "\n",
        "\n",
        "    # CODE TO GENERATE TEXT INSIDE EACH SQUARE\n",
        "    blanks = ['' for i in range(cf.size)]\n",
        "\n",
        "    if group_names and len(group_names)==cf.size:\n",
        "        group_labels = [\"{}\\n\".format(value) for value in group_names]\n",
        "    else:\n",
        "        group_labels = blanks\n",
        "\n",
        "    if count:\n",
        "        group_counts = [\"{0:0.0f}\\n\".format(value) for value in cf.flatten()]\n",
        "    else:\n",
        "        group_counts = blanks\n",
        "\n",
        "    if percent:\n",
        "        group_percentages = [\"{0:.2%}\".format(value) for value in cf.flatten()/np.sum(cf)]\n",
        "    else:\n",
        "        group_percentages = blanks\n",
        "\n",
        "    box_labels = [f\"{v1}{v2}{v3}\".strip() for v1, v2, v3 in zip(group_labels,group_counts,group_percentages)]\n",
        "    box_labels = np.asarray(box_labels).reshape(cf.shape[0],cf.shape[1])\n",
        "\n",
        "\n",
        "    # CODE TO GENERATE SUMMARY STATISTICS & TEXT FOR SUMMARY STATS\n",
        "    if sum_stats:\n",
        "        #Accuracy is sum of diagonal divided by total observations\n",
        "        accuracy  = np.trace(cf) / float(np.sum(cf))\n",
        "\n",
        "        #if it is a binary confusion matrix, show some more stats\n",
        "        if len(cf)==2:\n",
        "            #Metrics for Binary Confusion Matrices\n",
        "            precision = cf[1,1] / sum(cf[:,1])\n",
        "            recall    = cf[1,1] / sum(cf[1,:])\n",
        "            f1_score  = 2*precision*recall / (precision + recall)\n",
        "            stats_text = \"\\n\\nAccuracy={:0.3f}\\nPrecision={:0.3f}\\nRecall={:0.3f}\\nF1 Score={:0.3f}\".format(\n",
        "                accuracy,precision,recall,f1_score)\n",
        "        else:\n",
        "            stats_text = \"\\n\\nAccuracy={:0.3f}\".format(accuracy)\n",
        "    else:\n",
        "        stats_text = \"\"\n",
        "\n",
        "\n",
        "    # SET FIGURE PARAMETERS ACCORDING TO OTHER ARGUMENTS\n",
        "    if figsize==None:\n",
        "        #Get default figure size if not set\n",
        "        figsize = plt.rcParams.get('figure.figsize')\n",
        "\n",
        "    if xyticks==False:\n",
        "        #Do not show categories if xyticks is False\n",
        "        categories=False\n",
        "\n",
        "\n",
        "    # MAKE THE HEATMAP VISUALIZATION\n",
        "    plt.figure(figsize=figsize)\n",
        "    ax = sns.heatmap(cf,annot=box_labels, fmt=\"\",cmap=cmap,cbar=cbar,xticklabels=categories,yticklabels=categories)\n",
        "\n",
        "    if xyplotlabels:\n",
        "        plt.ylabel('True label')\n",
        "        plt.xlabel('Predicted label' + stats_text)\n",
        "    else:\n",
        "        plt.xlabel(stats_text)\n",
        "    \n",
        "    if title:\n",
        "        plt.title(title)# From above we can see that our dataset does not contains any missing values."
      ],
      "metadata": {
        "id": "oIApCLGwlUrA"
      },
      "execution_count": 806,
      "outputs": []
    },
    {
      "cell_type": "code",
      "execution_count": 807,
      "metadata": {
        "id": "o3cgQJYfRbQx"
      },
      "outputs": [],
      "source": [
        "# Function to find outliers on columns based on percentile\n",
        "def removeOutliers(df, colList, lowPercentile=0.05, highPercentile=0.95, verbose=False):\n",
        "    quant_df = df[colList].quantile([lowPercentile, highPercentile])\n",
        "    if verbose:\n",
        "        print(quant_df)\n",
        "    for name in list(df[colList].columns):\n",
        "        df = df[(df[name] >= quant_df.loc[lowPercentile, name]) & (df[name] <= quant_df.loc[highPercentile, name])]\n",
        "    return df"
      ]
    },
    {
      "cell_type": "markdown",
      "metadata": {
        "id": "R5AymPINRbQz"
      },
      "source": [
        "## Initializations and data loading"
      ]
    },
    {
      "cell_type": "code",
      "source": [
        "!pip install category_encoders"
      ],
      "metadata": {
        "colab": {
          "base_uri": "https://localhost:8080/"
        },
        "id": "dEsCVAqBT9Di",
        "outputId": "a67554a8-275a-4d10-97b4-c3615824f06a"
      },
      "execution_count": 808,
      "outputs": [
        {
          "output_type": "stream",
          "name": "stdout",
          "text": [
            "Requirement already satisfied: category_encoders in /usr/local/lib/python3.7/dist-packages (2.4.0)\n",
            "Requirement already satisfied: statsmodels>=0.9.0 in /usr/local/lib/python3.7/dist-packages (from category_encoders) (0.10.2)\n",
            "Requirement already satisfied: scikit-learn>=0.20.0 in /usr/local/lib/python3.7/dist-packages (from category_encoders) (1.0.2)\n",
            "Requirement already satisfied: pandas>=0.21.1 in /usr/local/lib/python3.7/dist-packages (from category_encoders) (1.3.5)\n",
            "Requirement already satisfied: patsy>=0.5.1 in /usr/local/lib/python3.7/dist-packages (from category_encoders) (0.5.2)\n",
            "Requirement already satisfied: numpy>=1.14.0 in /usr/local/lib/python3.7/dist-packages (from category_encoders) (1.21.5)\n",
            "Requirement already satisfied: scipy>=1.0.0 in /usr/local/lib/python3.7/dist-packages (from category_encoders) (1.4.1)\n",
            "Requirement already satisfied: python-dateutil>=2.7.3 in /usr/local/lib/python3.7/dist-packages (from pandas>=0.21.1->category_encoders) (2.8.2)\n",
            "Requirement already satisfied: pytz>=2017.3 in /usr/local/lib/python3.7/dist-packages (from pandas>=0.21.1->category_encoders) (2018.9)\n",
            "Requirement already satisfied: six in /usr/local/lib/python3.7/dist-packages (from patsy>=0.5.1->category_encoders) (1.15.0)\n",
            "Requirement already satisfied: joblib>=0.11 in /usr/local/lib/python3.7/dist-packages (from scikit-learn>=0.20.0->category_encoders) (1.1.0)\n",
            "Requirement already satisfied: threadpoolctl>=2.0.0 in /usr/local/lib/python3.7/dist-packages (from scikit-learn>=0.20.0->category_encoders) (3.1.0)\n"
          ]
        }
      ]
    },
    {
      "cell_type": "code",
      "execution_count": 809,
      "metadata": {
        "id": "tp9-V2HDRbQ1"
      },
      "outputs": [],
      "source": [
        "# Loading packages\n",
        "import pandas as pd\n",
        "import seaborn as sns\n",
        "import matplotlib.pyplot as plt\n",
        "import numpy as np\n",
        "\n",
        "from sklearn import preprocessing\n",
        "from sklearn.model_selection import train_test_split,cross_val_score\n",
        "from sklearn import linear_model\n",
        "from sklearn import metrics\n",
        "from sklearn import tree\n",
        "from sklearn.ensemble import RandomForestClassifier\n",
        "from imblearn.ensemble import BalancedRandomForestClassifier\n",
        "from imblearn.ensemble import BalancedBaggingClassifier\n",
        "from sklearn.ensemble import HistGradientBoostingClassifier\n",
        "from sklearn.ensemble import GradientBoostingClassifier\n",
        "from sklearn.model_selection import GridSearchCV\n",
        "from sklearn.metrics import confusion_matrix\n",
        "import category_encoders as ce\n",
        "from sklearn.metrics import accuracy_score,classification_report,confusion_matrix,mean_squared_error\n",
        "\n",
        "from imblearn.pipeline import make_pipeline\n",
        "from sklearn.pipeline import Pipeline\n",
        "from imblearn.under_sampling import RandomUnderSampler"
      ]
    },
    {
      "cell_type": "code",
      "source": [
        "import requests as rq\n",
        "from io import BytesIO\n",
        "\n",
        "url = \"https://raw.githubusercontent.com/omarja12/DS_Project2/main/default_credit_card_clients.xlsx\"\n",
        "data = rq.get(url).content\n",
        "ds = pd.read_excel(BytesIO(data), engine='openpyxl')"
      ],
      "metadata": {
        "id": "FsE5ekBOSCfq"
      },
      "execution_count": 810,
      "outputs": []
    },
    {
      "cell_type": "code",
      "execution_count": 811,
      "metadata": {
        "colab": {
          "base_uri": "https://localhost:8080/",
          "height": 833
        },
        "id": "97hQHHZTRbQ2",
        "outputId": "578e613a-7fb3-4d1f-df0a-7a1f2dcda9d8"
      },
      "outputs": [
        {
          "output_type": "execute_result",
          "data": {
            "text/plain": [
              "            count unique    top   freq\n",
              "Unnamed: 0  30001  30001     ID      1\n",
              "X1          30001     82  50000   3365\n",
              "X2          30001      3      2  18112\n",
              "X3          30001      8      2  14030\n",
              "X4          30001      5      2  15964\n",
              "X5          30001     57     29   1605\n",
              "X6          30001     12      0  14737\n",
              "X7          30001     12      0  15730\n",
              "X8          30001     12      0  15764\n",
              "X9          30001     12      0  16455\n",
              "X10         30001     11      0  16947\n",
              "X11         30001     11      0  16286\n",
              "X12         30001  22724      0   2008\n",
              "X13         30001  22347      0   2506\n",
              "X14         30001  22027      0   2870\n",
              "X15         30001  21549      0   3195\n",
              "X16         30001  21011      0   3506\n",
              "X17         30001  20605      0   4020\n",
              "X18         30001   7944      0   5249\n",
              "X19         30001   7900      0   5396\n",
              "X20         30001   7519      0   5968\n",
              "X21         30001   6938      0   6408\n",
              "X22         30001   6898      0   6703\n",
              "X23         30001   6940      0   7173\n",
              "Y           30001      3      0  23364"
            ],
            "text/html": [
              "\n",
              "  <div id=\"df-a206ec75-e7fd-47d5-8a10-1eceb2aa637d\">\n",
              "    <div class=\"colab-df-container\">\n",
              "      <div>\n",
              "<style scoped>\n",
              "    .dataframe tbody tr th:only-of-type {\n",
              "        vertical-align: middle;\n",
              "    }\n",
              "\n",
              "    .dataframe tbody tr th {\n",
              "        vertical-align: top;\n",
              "    }\n",
              "\n",
              "    .dataframe thead th {\n",
              "        text-align: right;\n",
              "    }\n",
              "</style>\n",
              "<table border=\"1\" class=\"dataframe\">\n",
              "  <thead>\n",
              "    <tr style=\"text-align: right;\">\n",
              "      <th></th>\n",
              "      <th>count</th>\n",
              "      <th>unique</th>\n",
              "      <th>top</th>\n",
              "      <th>freq</th>\n",
              "    </tr>\n",
              "  </thead>\n",
              "  <tbody>\n",
              "    <tr>\n",
              "      <th>Unnamed: 0</th>\n",
              "      <td>30001</td>\n",
              "      <td>30001</td>\n",
              "      <td>ID</td>\n",
              "      <td>1</td>\n",
              "    </tr>\n",
              "    <tr>\n",
              "      <th>X1</th>\n",
              "      <td>30001</td>\n",
              "      <td>82</td>\n",
              "      <td>50000</td>\n",
              "      <td>3365</td>\n",
              "    </tr>\n",
              "    <tr>\n",
              "      <th>X2</th>\n",
              "      <td>30001</td>\n",
              "      <td>3</td>\n",
              "      <td>2</td>\n",
              "      <td>18112</td>\n",
              "    </tr>\n",
              "    <tr>\n",
              "      <th>X3</th>\n",
              "      <td>30001</td>\n",
              "      <td>8</td>\n",
              "      <td>2</td>\n",
              "      <td>14030</td>\n",
              "    </tr>\n",
              "    <tr>\n",
              "      <th>X4</th>\n",
              "      <td>30001</td>\n",
              "      <td>5</td>\n",
              "      <td>2</td>\n",
              "      <td>15964</td>\n",
              "    </tr>\n",
              "    <tr>\n",
              "      <th>X5</th>\n",
              "      <td>30001</td>\n",
              "      <td>57</td>\n",
              "      <td>29</td>\n",
              "      <td>1605</td>\n",
              "    </tr>\n",
              "    <tr>\n",
              "      <th>X6</th>\n",
              "      <td>30001</td>\n",
              "      <td>12</td>\n",
              "      <td>0</td>\n",
              "      <td>14737</td>\n",
              "    </tr>\n",
              "    <tr>\n",
              "      <th>X7</th>\n",
              "      <td>30001</td>\n",
              "      <td>12</td>\n",
              "      <td>0</td>\n",
              "      <td>15730</td>\n",
              "    </tr>\n",
              "    <tr>\n",
              "      <th>X8</th>\n",
              "      <td>30001</td>\n",
              "      <td>12</td>\n",
              "      <td>0</td>\n",
              "      <td>15764</td>\n",
              "    </tr>\n",
              "    <tr>\n",
              "      <th>X9</th>\n",
              "      <td>30001</td>\n",
              "      <td>12</td>\n",
              "      <td>0</td>\n",
              "      <td>16455</td>\n",
              "    </tr>\n",
              "    <tr>\n",
              "      <th>X10</th>\n",
              "      <td>30001</td>\n",
              "      <td>11</td>\n",
              "      <td>0</td>\n",
              "      <td>16947</td>\n",
              "    </tr>\n",
              "    <tr>\n",
              "      <th>X11</th>\n",
              "      <td>30001</td>\n",
              "      <td>11</td>\n",
              "      <td>0</td>\n",
              "      <td>16286</td>\n",
              "    </tr>\n",
              "    <tr>\n",
              "      <th>X12</th>\n",
              "      <td>30001</td>\n",
              "      <td>22724</td>\n",
              "      <td>0</td>\n",
              "      <td>2008</td>\n",
              "    </tr>\n",
              "    <tr>\n",
              "      <th>X13</th>\n",
              "      <td>30001</td>\n",
              "      <td>22347</td>\n",
              "      <td>0</td>\n",
              "      <td>2506</td>\n",
              "    </tr>\n",
              "    <tr>\n",
              "      <th>X14</th>\n",
              "      <td>30001</td>\n",
              "      <td>22027</td>\n",
              "      <td>0</td>\n",
              "      <td>2870</td>\n",
              "    </tr>\n",
              "    <tr>\n",
              "      <th>X15</th>\n",
              "      <td>30001</td>\n",
              "      <td>21549</td>\n",
              "      <td>0</td>\n",
              "      <td>3195</td>\n",
              "    </tr>\n",
              "    <tr>\n",
              "      <th>X16</th>\n",
              "      <td>30001</td>\n",
              "      <td>21011</td>\n",
              "      <td>0</td>\n",
              "      <td>3506</td>\n",
              "    </tr>\n",
              "    <tr>\n",
              "      <th>X17</th>\n",
              "      <td>30001</td>\n",
              "      <td>20605</td>\n",
              "      <td>0</td>\n",
              "      <td>4020</td>\n",
              "    </tr>\n",
              "    <tr>\n",
              "      <th>X18</th>\n",
              "      <td>30001</td>\n",
              "      <td>7944</td>\n",
              "      <td>0</td>\n",
              "      <td>5249</td>\n",
              "    </tr>\n",
              "    <tr>\n",
              "      <th>X19</th>\n",
              "      <td>30001</td>\n",
              "      <td>7900</td>\n",
              "      <td>0</td>\n",
              "      <td>5396</td>\n",
              "    </tr>\n",
              "    <tr>\n",
              "      <th>X20</th>\n",
              "      <td>30001</td>\n",
              "      <td>7519</td>\n",
              "      <td>0</td>\n",
              "      <td>5968</td>\n",
              "    </tr>\n",
              "    <tr>\n",
              "      <th>X21</th>\n",
              "      <td>30001</td>\n",
              "      <td>6938</td>\n",
              "      <td>0</td>\n",
              "      <td>6408</td>\n",
              "    </tr>\n",
              "    <tr>\n",
              "      <th>X22</th>\n",
              "      <td>30001</td>\n",
              "      <td>6898</td>\n",
              "      <td>0</td>\n",
              "      <td>6703</td>\n",
              "    </tr>\n",
              "    <tr>\n",
              "      <th>X23</th>\n",
              "      <td>30001</td>\n",
              "      <td>6940</td>\n",
              "      <td>0</td>\n",
              "      <td>7173</td>\n",
              "    </tr>\n",
              "    <tr>\n",
              "      <th>Y</th>\n",
              "      <td>30001</td>\n",
              "      <td>3</td>\n",
              "      <td>0</td>\n",
              "      <td>23364</td>\n",
              "    </tr>\n",
              "  </tbody>\n",
              "</table>\n",
              "</div>\n",
              "      <button class=\"colab-df-convert\" onclick=\"convertToInteractive('df-a206ec75-e7fd-47d5-8a10-1eceb2aa637d')\"\n",
              "              title=\"Convert this dataframe to an interactive table.\"\n",
              "              style=\"display:none;\">\n",
              "        \n",
              "  <svg xmlns=\"http://www.w3.org/2000/svg\" height=\"24px\"viewBox=\"0 0 24 24\"\n",
              "       width=\"24px\">\n",
              "    <path d=\"M0 0h24v24H0V0z\" fill=\"none\"/>\n",
              "    <path d=\"M18.56 5.44l.94 2.06.94-2.06 2.06-.94-2.06-.94-.94-2.06-.94 2.06-2.06.94zm-11 1L8.5 8.5l.94-2.06 2.06-.94-2.06-.94L8.5 2.5l-.94 2.06-2.06.94zm10 10l.94 2.06.94-2.06 2.06-.94-2.06-.94-.94-2.06-.94 2.06-2.06.94z\"/><path d=\"M17.41 7.96l-1.37-1.37c-.4-.4-.92-.59-1.43-.59-.52 0-1.04.2-1.43.59L10.3 9.45l-7.72 7.72c-.78.78-.78 2.05 0 2.83L4 21.41c.39.39.9.59 1.41.59.51 0 1.02-.2 1.41-.59l7.78-7.78 2.81-2.81c.8-.78.8-2.07 0-2.86zM5.41 20L4 18.59l7.72-7.72 1.47 1.35L5.41 20z\"/>\n",
              "  </svg>\n",
              "      </button>\n",
              "      \n",
              "  <style>\n",
              "    .colab-df-container {\n",
              "      display:flex;\n",
              "      flex-wrap:wrap;\n",
              "      gap: 12px;\n",
              "    }\n",
              "\n",
              "    .colab-df-convert {\n",
              "      background-color: #E8F0FE;\n",
              "      border: none;\n",
              "      border-radius: 50%;\n",
              "      cursor: pointer;\n",
              "      display: none;\n",
              "      fill: #1967D2;\n",
              "      height: 32px;\n",
              "      padding: 0 0 0 0;\n",
              "      width: 32px;\n",
              "    }\n",
              "\n",
              "    .colab-df-convert:hover {\n",
              "      background-color: #E2EBFA;\n",
              "      box-shadow: 0px 1px 2px rgba(60, 64, 67, 0.3), 0px 1px 3px 1px rgba(60, 64, 67, 0.15);\n",
              "      fill: #174EA6;\n",
              "    }\n",
              "\n",
              "    [theme=dark] .colab-df-convert {\n",
              "      background-color: #3B4455;\n",
              "      fill: #D2E3FC;\n",
              "    }\n",
              "\n",
              "    [theme=dark] .colab-df-convert:hover {\n",
              "      background-color: #434B5C;\n",
              "      box-shadow: 0px 1px 3px 1px rgba(0, 0, 0, 0.15);\n",
              "      filter: drop-shadow(0px 1px 2px rgba(0, 0, 0, 0.3));\n",
              "      fill: #FFFFFF;\n",
              "    }\n",
              "  </style>\n",
              "\n",
              "      <script>\n",
              "        const buttonEl =\n",
              "          document.querySelector('#df-a206ec75-e7fd-47d5-8a10-1eceb2aa637d button.colab-df-convert');\n",
              "        buttonEl.style.display =\n",
              "          google.colab.kernel.accessAllowed ? 'block' : 'none';\n",
              "\n",
              "        async function convertToInteractive(key) {\n",
              "          const element = document.querySelector('#df-a206ec75-e7fd-47d5-8a10-1eceb2aa637d');\n",
              "          const dataTable =\n",
              "            await google.colab.kernel.invokeFunction('convertToInteractive',\n",
              "                                                     [key], {});\n",
              "          if (!dataTable) return;\n",
              "\n",
              "          const docLinkHtml = 'Like what you see? Visit the ' +\n",
              "            '<a target=\"_blank\" href=https://colab.research.google.com/notebooks/data_table.ipynb>data table notebook</a>'\n",
              "            + ' to learn more about interactive tables.';\n",
              "          element.innerHTML = '';\n",
              "          dataTable['output_type'] = 'display_data';\n",
              "          await google.colab.output.renderOutput(dataTable, element);\n",
              "          const docLink = document.createElement('div');\n",
              "          docLink.innerHTML = docLinkHtml;\n",
              "          element.appendChild(docLink);\n",
              "        }\n",
              "      </script>\n",
              "    </div>\n",
              "  </div>\n",
              "  "
            ]
          },
          "metadata": {},
          "execution_count": 811
        }
      ],
      "source": [
        "# Loading the dataset and visualizing summary statistics\n",
        "ds.describe(include='all').T"
      ]
    },
    {
      "cell_type": "code",
      "execution_count": 812,
      "metadata": {
        "id": "PGUm74N4RbQ7"
      },
      "outputs": [],
      "source": [
        "# From above we can see that our dataset does not contains any missing values."
      ]
    },
    {
      "cell_type": "code",
      "execution_count": 813,
      "metadata": {
        "id": "Jrr9kWDNRbQ9",
        "colab": {
          "base_uri": "https://localhost:8080/",
          "height": 369
        },
        "outputId": "2f588289-8703-4a6d-d33d-bc3ccc0060b4"
      },
      "outputs": [
        {
          "output_type": "execute_result",
          "data": {
            "text/plain": [
              "  Unnamed: 0         X1   X2         X3        X4   X5     X6     X7     X8  \\\n",
              "0         ID  LIMIT_BAL  SEX  EDUCATION  MARRIAGE  AGE  PAY_0  PAY_2  PAY_3   \n",
              "1          1      20000    2          2         1   24      2      2     -1   \n",
              "2          2     120000    2          2         2   26     -1      2      0   \n",
              "3          3      90000    2          2         2   34      0      0      0   \n",
              "4          4      50000    2          2         1   37      0      0      0   \n",
              "\n",
              "      X9  ...        X15        X16        X17       X18       X19       X20  \\\n",
              "0  PAY_4  ...  BILL_AMT4  BILL_AMT5  BILL_AMT6  PAY_AMT1  PAY_AMT2  PAY_AMT3   \n",
              "1     -1  ...          0          0          0         0       689         0   \n",
              "2      0  ...       3272       3455       3261         0      1000      1000   \n",
              "3      0  ...      14331      14948      15549      1518      1500      1000   \n",
              "4      0  ...      28314      28959      29547      2000      2019      1200   \n",
              "\n",
              "        X21       X22       X23                           Y  \n",
              "0  PAY_AMT4  PAY_AMT5  PAY_AMT6  default payment next month  \n",
              "1         0         0         0                           1  \n",
              "2      1000         0      2000                           1  \n",
              "3      1000      1000      5000                           0  \n",
              "4      1100      1069      1000                           0  \n",
              "\n",
              "[5 rows x 25 columns]"
            ],
            "text/html": [
              "\n",
              "  <div id=\"df-2d6eb533-516d-441b-ba4f-89e9f1644739\">\n",
              "    <div class=\"colab-df-container\">\n",
              "      <div>\n",
              "<style scoped>\n",
              "    .dataframe tbody tr th:only-of-type {\n",
              "        vertical-align: middle;\n",
              "    }\n",
              "\n",
              "    .dataframe tbody tr th {\n",
              "        vertical-align: top;\n",
              "    }\n",
              "\n",
              "    .dataframe thead th {\n",
              "        text-align: right;\n",
              "    }\n",
              "</style>\n",
              "<table border=\"1\" class=\"dataframe\">\n",
              "  <thead>\n",
              "    <tr style=\"text-align: right;\">\n",
              "      <th></th>\n",
              "      <th>Unnamed: 0</th>\n",
              "      <th>X1</th>\n",
              "      <th>X2</th>\n",
              "      <th>X3</th>\n",
              "      <th>X4</th>\n",
              "      <th>X5</th>\n",
              "      <th>X6</th>\n",
              "      <th>X7</th>\n",
              "      <th>X8</th>\n",
              "      <th>X9</th>\n",
              "      <th>...</th>\n",
              "      <th>X15</th>\n",
              "      <th>X16</th>\n",
              "      <th>X17</th>\n",
              "      <th>X18</th>\n",
              "      <th>X19</th>\n",
              "      <th>X20</th>\n",
              "      <th>X21</th>\n",
              "      <th>X22</th>\n",
              "      <th>X23</th>\n",
              "      <th>Y</th>\n",
              "    </tr>\n",
              "  </thead>\n",
              "  <tbody>\n",
              "    <tr>\n",
              "      <th>0</th>\n",
              "      <td>ID</td>\n",
              "      <td>LIMIT_BAL</td>\n",
              "      <td>SEX</td>\n",
              "      <td>EDUCATION</td>\n",
              "      <td>MARRIAGE</td>\n",
              "      <td>AGE</td>\n",
              "      <td>PAY_0</td>\n",
              "      <td>PAY_2</td>\n",
              "      <td>PAY_3</td>\n",
              "      <td>PAY_4</td>\n",
              "      <td>...</td>\n",
              "      <td>BILL_AMT4</td>\n",
              "      <td>BILL_AMT5</td>\n",
              "      <td>BILL_AMT6</td>\n",
              "      <td>PAY_AMT1</td>\n",
              "      <td>PAY_AMT2</td>\n",
              "      <td>PAY_AMT3</td>\n",
              "      <td>PAY_AMT4</td>\n",
              "      <td>PAY_AMT5</td>\n",
              "      <td>PAY_AMT6</td>\n",
              "      <td>default payment next month</td>\n",
              "    </tr>\n",
              "    <tr>\n",
              "      <th>1</th>\n",
              "      <td>1</td>\n",
              "      <td>20000</td>\n",
              "      <td>2</td>\n",
              "      <td>2</td>\n",
              "      <td>1</td>\n",
              "      <td>24</td>\n",
              "      <td>2</td>\n",
              "      <td>2</td>\n",
              "      <td>-1</td>\n",
              "      <td>-1</td>\n",
              "      <td>...</td>\n",
              "      <td>0</td>\n",
              "      <td>0</td>\n",
              "      <td>0</td>\n",
              "      <td>0</td>\n",
              "      <td>689</td>\n",
              "      <td>0</td>\n",
              "      <td>0</td>\n",
              "      <td>0</td>\n",
              "      <td>0</td>\n",
              "      <td>1</td>\n",
              "    </tr>\n",
              "    <tr>\n",
              "      <th>2</th>\n",
              "      <td>2</td>\n",
              "      <td>120000</td>\n",
              "      <td>2</td>\n",
              "      <td>2</td>\n",
              "      <td>2</td>\n",
              "      <td>26</td>\n",
              "      <td>-1</td>\n",
              "      <td>2</td>\n",
              "      <td>0</td>\n",
              "      <td>0</td>\n",
              "      <td>...</td>\n",
              "      <td>3272</td>\n",
              "      <td>3455</td>\n",
              "      <td>3261</td>\n",
              "      <td>0</td>\n",
              "      <td>1000</td>\n",
              "      <td>1000</td>\n",
              "      <td>1000</td>\n",
              "      <td>0</td>\n",
              "      <td>2000</td>\n",
              "      <td>1</td>\n",
              "    </tr>\n",
              "    <tr>\n",
              "      <th>3</th>\n",
              "      <td>3</td>\n",
              "      <td>90000</td>\n",
              "      <td>2</td>\n",
              "      <td>2</td>\n",
              "      <td>2</td>\n",
              "      <td>34</td>\n",
              "      <td>0</td>\n",
              "      <td>0</td>\n",
              "      <td>0</td>\n",
              "      <td>0</td>\n",
              "      <td>...</td>\n",
              "      <td>14331</td>\n",
              "      <td>14948</td>\n",
              "      <td>15549</td>\n",
              "      <td>1518</td>\n",
              "      <td>1500</td>\n",
              "      <td>1000</td>\n",
              "      <td>1000</td>\n",
              "      <td>1000</td>\n",
              "      <td>5000</td>\n",
              "      <td>0</td>\n",
              "    </tr>\n",
              "    <tr>\n",
              "      <th>4</th>\n",
              "      <td>4</td>\n",
              "      <td>50000</td>\n",
              "      <td>2</td>\n",
              "      <td>2</td>\n",
              "      <td>1</td>\n",
              "      <td>37</td>\n",
              "      <td>0</td>\n",
              "      <td>0</td>\n",
              "      <td>0</td>\n",
              "      <td>0</td>\n",
              "      <td>...</td>\n",
              "      <td>28314</td>\n",
              "      <td>28959</td>\n",
              "      <td>29547</td>\n",
              "      <td>2000</td>\n",
              "      <td>2019</td>\n",
              "      <td>1200</td>\n",
              "      <td>1100</td>\n",
              "      <td>1069</td>\n",
              "      <td>1000</td>\n",
              "      <td>0</td>\n",
              "    </tr>\n",
              "  </tbody>\n",
              "</table>\n",
              "<p>5 rows × 25 columns</p>\n",
              "</div>\n",
              "      <button class=\"colab-df-convert\" onclick=\"convertToInteractive('df-2d6eb533-516d-441b-ba4f-89e9f1644739')\"\n",
              "              title=\"Convert this dataframe to an interactive table.\"\n",
              "              style=\"display:none;\">\n",
              "        \n",
              "  <svg xmlns=\"http://www.w3.org/2000/svg\" height=\"24px\"viewBox=\"0 0 24 24\"\n",
              "       width=\"24px\">\n",
              "    <path d=\"M0 0h24v24H0V0z\" fill=\"none\"/>\n",
              "    <path d=\"M18.56 5.44l.94 2.06.94-2.06 2.06-.94-2.06-.94-.94-2.06-.94 2.06-2.06.94zm-11 1L8.5 8.5l.94-2.06 2.06-.94-2.06-.94L8.5 2.5l-.94 2.06-2.06.94zm10 10l.94 2.06.94-2.06 2.06-.94-2.06-.94-.94-2.06-.94 2.06-2.06.94z\"/><path d=\"M17.41 7.96l-1.37-1.37c-.4-.4-.92-.59-1.43-.59-.52 0-1.04.2-1.43.59L10.3 9.45l-7.72 7.72c-.78.78-.78 2.05 0 2.83L4 21.41c.39.39.9.59 1.41.59.51 0 1.02-.2 1.41-.59l7.78-7.78 2.81-2.81c.8-.78.8-2.07 0-2.86zM5.41 20L4 18.59l7.72-7.72 1.47 1.35L5.41 20z\"/>\n",
              "  </svg>\n",
              "      </button>\n",
              "      \n",
              "  <style>\n",
              "    .colab-df-container {\n",
              "      display:flex;\n",
              "      flex-wrap:wrap;\n",
              "      gap: 12px;\n",
              "    }\n",
              "\n",
              "    .colab-df-convert {\n",
              "      background-color: #E8F0FE;\n",
              "      border: none;\n",
              "      border-radius: 50%;\n",
              "      cursor: pointer;\n",
              "      display: none;\n",
              "      fill: #1967D2;\n",
              "      height: 32px;\n",
              "      padding: 0 0 0 0;\n",
              "      width: 32px;\n",
              "    }\n",
              "\n",
              "    .colab-df-convert:hover {\n",
              "      background-color: #E2EBFA;\n",
              "      box-shadow: 0px 1px 2px rgba(60, 64, 67, 0.3), 0px 1px 3px 1px rgba(60, 64, 67, 0.15);\n",
              "      fill: #174EA6;\n",
              "    }\n",
              "\n",
              "    [theme=dark] .colab-df-convert {\n",
              "      background-color: #3B4455;\n",
              "      fill: #D2E3FC;\n",
              "    }\n",
              "\n",
              "    [theme=dark] .colab-df-convert:hover {\n",
              "      background-color: #434B5C;\n",
              "      box-shadow: 0px 1px 3px 1px rgba(0, 0, 0, 0.15);\n",
              "      filter: drop-shadow(0px 1px 2px rgba(0, 0, 0, 0.3));\n",
              "      fill: #FFFFFF;\n",
              "    }\n",
              "  </style>\n",
              "\n",
              "      <script>\n",
              "        const buttonEl =\n",
              "          document.querySelector('#df-2d6eb533-516d-441b-ba4f-89e9f1644739 button.colab-df-convert');\n",
              "        buttonEl.style.display =\n",
              "          google.colab.kernel.accessAllowed ? 'block' : 'none';\n",
              "\n",
              "        async function convertToInteractive(key) {\n",
              "          const element = document.querySelector('#df-2d6eb533-516d-441b-ba4f-89e9f1644739');\n",
              "          const dataTable =\n",
              "            await google.colab.kernel.invokeFunction('convertToInteractive',\n",
              "                                                     [key], {});\n",
              "          if (!dataTable) return;\n",
              "\n",
              "          const docLinkHtml = 'Like what you see? Visit the ' +\n",
              "            '<a target=\"_blank\" href=https://colab.research.google.com/notebooks/data_table.ipynb>data table notebook</a>'\n",
              "            + ' to learn more about interactive tables.';\n",
              "          element.innerHTML = '';\n",
              "          dataTable['output_type'] = 'display_data';\n",
              "          await google.colab.output.renderOutput(dataTable, element);\n",
              "          const docLink = document.createElement('div');\n",
              "          docLink.innerHTML = docLinkHtml;\n",
              "          element.appendChild(docLink);\n",
              "        }\n",
              "      </script>\n",
              "    </div>\n",
              "  </div>\n",
              "  "
            ]
          },
          "metadata": {},
          "execution_count": 813
        }
      ],
      "source": [
        "# Show top rows\n",
        "ds.head()"
      ]
    },
    {
      "cell_type": "code",
      "execution_count": 814,
      "metadata": {
        "id": "kYOcnyOIRbQ_"
      },
      "outputs": [],
      "source": [
        "# Setting the first line to be the columns name.\n",
        "\n",
        "ds.columns = ds.iloc[0]\n",
        "ds = ds.drop(labels=0, axis=0)"
      ]
    },
    {
      "cell_type": "code",
      "execution_count": 815,
      "metadata": {
        "id": "RIRLY3n5RbRB",
        "colab": {
          "base_uri": "https://localhost:8080/",
          "height": 352
        },
        "outputId": "3390a9fd-9a15-4590-b9b9-1461a066385c"
      },
      "outputs": [
        {
          "output_type": "execute_result",
          "data": {
            "text/plain": [
              "0 ID LIMIT_BAL SEX EDUCATION MARRIAGE AGE PAY_0 PAY_2 PAY_3 PAY_4  ...  \\\n",
              "1  1     20000   2         2        1  24     2     2    -1    -1  ...   \n",
              "2  2    120000   2         2        2  26    -1     2     0     0  ...   \n",
              "3  3     90000   2         2        2  34     0     0     0     0  ...   \n",
              "4  4     50000   2         2        1  37     0     0     0     0  ...   \n",
              "5  5     50000   1         2        1  57    -1     0    -1     0  ...   \n",
              "\n",
              "0 BILL_AMT4 BILL_AMT5 BILL_AMT6 PAY_AMT1 PAY_AMT2 PAY_AMT3 PAY_AMT4 PAY_AMT5  \\\n",
              "1         0         0         0        0      689        0        0        0   \n",
              "2      3272      3455      3261        0     1000     1000     1000        0   \n",
              "3     14331     14948     15549     1518     1500     1000     1000     1000   \n",
              "4     28314     28959     29547     2000     2019     1200     1100     1069   \n",
              "5     20940     19146     19131     2000    36681    10000     9000      689   \n",
              "\n",
              "0 PAY_AMT6 default payment next month  \n",
              "1        0                          1  \n",
              "2     2000                          1  \n",
              "3     5000                          0  \n",
              "4     1000                          0  \n",
              "5      679                          0  \n",
              "\n",
              "[5 rows x 25 columns]"
            ],
            "text/html": [
              "\n",
              "  <div id=\"df-0a64b9c7-86fc-461e-8887-fdf8e894c9b1\">\n",
              "    <div class=\"colab-df-container\">\n",
              "      <div>\n",
              "<style scoped>\n",
              "    .dataframe tbody tr th:only-of-type {\n",
              "        vertical-align: middle;\n",
              "    }\n",
              "\n",
              "    .dataframe tbody tr th {\n",
              "        vertical-align: top;\n",
              "    }\n",
              "\n",
              "    .dataframe thead th {\n",
              "        text-align: right;\n",
              "    }\n",
              "</style>\n",
              "<table border=\"1\" class=\"dataframe\">\n",
              "  <thead>\n",
              "    <tr style=\"text-align: right;\">\n",
              "      <th></th>\n",
              "      <th>ID</th>\n",
              "      <th>LIMIT_BAL</th>\n",
              "      <th>SEX</th>\n",
              "      <th>EDUCATION</th>\n",
              "      <th>MARRIAGE</th>\n",
              "      <th>AGE</th>\n",
              "      <th>PAY_0</th>\n",
              "      <th>PAY_2</th>\n",
              "      <th>PAY_3</th>\n",
              "      <th>PAY_4</th>\n",
              "      <th>...</th>\n",
              "      <th>BILL_AMT4</th>\n",
              "      <th>BILL_AMT5</th>\n",
              "      <th>BILL_AMT6</th>\n",
              "      <th>PAY_AMT1</th>\n",
              "      <th>PAY_AMT2</th>\n",
              "      <th>PAY_AMT3</th>\n",
              "      <th>PAY_AMT4</th>\n",
              "      <th>PAY_AMT5</th>\n",
              "      <th>PAY_AMT6</th>\n",
              "      <th>default payment next month</th>\n",
              "    </tr>\n",
              "  </thead>\n",
              "  <tbody>\n",
              "    <tr>\n",
              "      <th>1</th>\n",
              "      <td>1</td>\n",
              "      <td>20000</td>\n",
              "      <td>2</td>\n",
              "      <td>2</td>\n",
              "      <td>1</td>\n",
              "      <td>24</td>\n",
              "      <td>2</td>\n",
              "      <td>2</td>\n",
              "      <td>-1</td>\n",
              "      <td>-1</td>\n",
              "      <td>...</td>\n",
              "      <td>0</td>\n",
              "      <td>0</td>\n",
              "      <td>0</td>\n",
              "      <td>0</td>\n",
              "      <td>689</td>\n",
              "      <td>0</td>\n",
              "      <td>0</td>\n",
              "      <td>0</td>\n",
              "      <td>0</td>\n",
              "      <td>1</td>\n",
              "    </tr>\n",
              "    <tr>\n",
              "      <th>2</th>\n",
              "      <td>2</td>\n",
              "      <td>120000</td>\n",
              "      <td>2</td>\n",
              "      <td>2</td>\n",
              "      <td>2</td>\n",
              "      <td>26</td>\n",
              "      <td>-1</td>\n",
              "      <td>2</td>\n",
              "      <td>0</td>\n",
              "      <td>0</td>\n",
              "      <td>...</td>\n",
              "      <td>3272</td>\n",
              "      <td>3455</td>\n",
              "      <td>3261</td>\n",
              "      <td>0</td>\n",
              "      <td>1000</td>\n",
              "      <td>1000</td>\n",
              "      <td>1000</td>\n",
              "      <td>0</td>\n",
              "      <td>2000</td>\n",
              "      <td>1</td>\n",
              "    </tr>\n",
              "    <tr>\n",
              "      <th>3</th>\n",
              "      <td>3</td>\n",
              "      <td>90000</td>\n",
              "      <td>2</td>\n",
              "      <td>2</td>\n",
              "      <td>2</td>\n",
              "      <td>34</td>\n",
              "      <td>0</td>\n",
              "      <td>0</td>\n",
              "      <td>0</td>\n",
              "      <td>0</td>\n",
              "      <td>...</td>\n",
              "      <td>14331</td>\n",
              "      <td>14948</td>\n",
              "      <td>15549</td>\n",
              "      <td>1518</td>\n",
              "      <td>1500</td>\n",
              "      <td>1000</td>\n",
              "      <td>1000</td>\n",
              "      <td>1000</td>\n",
              "      <td>5000</td>\n",
              "      <td>0</td>\n",
              "    </tr>\n",
              "    <tr>\n",
              "      <th>4</th>\n",
              "      <td>4</td>\n",
              "      <td>50000</td>\n",
              "      <td>2</td>\n",
              "      <td>2</td>\n",
              "      <td>1</td>\n",
              "      <td>37</td>\n",
              "      <td>0</td>\n",
              "      <td>0</td>\n",
              "      <td>0</td>\n",
              "      <td>0</td>\n",
              "      <td>...</td>\n",
              "      <td>28314</td>\n",
              "      <td>28959</td>\n",
              "      <td>29547</td>\n",
              "      <td>2000</td>\n",
              "      <td>2019</td>\n",
              "      <td>1200</td>\n",
              "      <td>1100</td>\n",
              "      <td>1069</td>\n",
              "      <td>1000</td>\n",
              "      <td>0</td>\n",
              "    </tr>\n",
              "    <tr>\n",
              "      <th>5</th>\n",
              "      <td>5</td>\n",
              "      <td>50000</td>\n",
              "      <td>1</td>\n",
              "      <td>2</td>\n",
              "      <td>1</td>\n",
              "      <td>57</td>\n",
              "      <td>-1</td>\n",
              "      <td>0</td>\n",
              "      <td>-1</td>\n",
              "      <td>0</td>\n",
              "      <td>...</td>\n",
              "      <td>20940</td>\n",
              "      <td>19146</td>\n",
              "      <td>19131</td>\n",
              "      <td>2000</td>\n",
              "      <td>36681</td>\n",
              "      <td>10000</td>\n",
              "      <td>9000</td>\n",
              "      <td>689</td>\n",
              "      <td>679</td>\n",
              "      <td>0</td>\n",
              "    </tr>\n",
              "  </tbody>\n",
              "</table>\n",
              "<p>5 rows × 25 columns</p>\n",
              "</div>\n",
              "      <button class=\"colab-df-convert\" onclick=\"convertToInteractive('df-0a64b9c7-86fc-461e-8887-fdf8e894c9b1')\"\n",
              "              title=\"Convert this dataframe to an interactive table.\"\n",
              "              style=\"display:none;\">\n",
              "        \n",
              "  <svg xmlns=\"http://www.w3.org/2000/svg\" height=\"24px\"viewBox=\"0 0 24 24\"\n",
              "       width=\"24px\">\n",
              "    <path d=\"M0 0h24v24H0V0z\" fill=\"none\"/>\n",
              "    <path d=\"M18.56 5.44l.94 2.06.94-2.06 2.06-.94-2.06-.94-.94-2.06-.94 2.06-2.06.94zm-11 1L8.5 8.5l.94-2.06 2.06-.94-2.06-.94L8.5 2.5l-.94 2.06-2.06.94zm10 10l.94 2.06.94-2.06 2.06-.94-2.06-.94-.94-2.06-.94 2.06-2.06.94z\"/><path d=\"M17.41 7.96l-1.37-1.37c-.4-.4-.92-.59-1.43-.59-.52 0-1.04.2-1.43.59L10.3 9.45l-7.72 7.72c-.78.78-.78 2.05 0 2.83L4 21.41c.39.39.9.59 1.41.59.51 0 1.02-.2 1.41-.59l7.78-7.78 2.81-2.81c.8-.78.8-2.07 0-2.86zM5.41 20L4 18.59l7.72-7.72 1.47 1.35L5.41 20z\"/>\n",
              "  </svg>\n",
              "      </button>\n",
              "      \n",
              "  <style>\n",
              "    .colab-df-container {\n",
              "      display:flex;\n",
              "      flex-wrap:wrap;\n",
              "      gap: 12px;\n",
              "    }\n",
              "\n",
              "    .colab-df-convert {\n",
              "      background-color: #E8F0FE;\n",
              "      border: none;\n",
              "      border-radius: 50%;\n",
              "      cursor: pointer;\n",
              "      display: none;\n",
              "      fill: #1967D2;\n",
              "      height: 32px;\n",
              "      padding: 0 0 0 0;\n",
              "      width: 32px;\n",
              "    }\n",
              "\n",
              "    .colab-df-convert:hover {\n",
              "      background-color: #E2EBFA;\n",
              "      box-shadow: 0px 1px 2px rgba(60, 64, 67, 0.3), 0px 1px 3px 1px rgba(60, 64, 67, 0.15);\n",
              "      fill: #174EA6;\n",
              "    }\n",
              "\n",
              "    [theme=dark] .colab-df-convert {\n",
              "      background-color: #3B4455;\n",
              "      fill: #D2E3FC;\n",
              "    }\n",
              "\n",
              "    [theme=dark] .colab-df-convert:hover {\n",
              "      background-color: #434B5C;\n",
              "      box-shadow: 0px 1px 3px 1px rgba(0, 0, 0, 0.15);\n",
              "      filter: drop-shadow(0px 1px 2px rgba(0, 0, 0, 0.3));\n",
              "      fill: #FFFFFF;\n",
              "    }\n",
              "  </style>\n",
              "\n",
              "      <script>\n",
              "        const buttonEl =\n",
              "          document.querySelector('#df-0a64b9c7-86fc-461e-8887-fdf8e894c9b1 button.colab-df-convert');\n",
              "        buttonEl.style.display =\n",
              "          google.colab.kernel.accessAllowed ? 'block' : 'none';\n",
              "\n",
              "        async function convertToInteractive(key) {\n",
              "          const element = document.querySelector('#df-0a64b9c7-86fc-461e-8887-fdf8e894c9b1');\n",
              "          const dataTable =\n",
              "            await google.colab.kernel.invokeFunction('convertToInteractive',\n",
              "                                                     [key], {});\n",
              "          if (!dataTable) return;\n",
              "\n",
              "          const docLinkHtml = 'Like what you see? Visit the ' +\n",
              "            '<a target=\"_blank\" href=https://colab.research.google.com/notebooks/data_table.ipynb>data table notebook</a>'\n",
              "            + ' to learn more about interactive tables.';\n",
              "          element.innerHTML = '';\n",
              "          dataTable['output_type'] = 'display_data';\n",
              "          await google.colab.output.renderOutput(dataTable, element);\n",
              "          const docLink = document.createElement('div');\n",
              "          docLink.innerHTML = docLinkHtml;\n",
              "          element.appendChild(docLink);\n",
              "        }\n",
              "      </script>\n",
              "    </div>\n",
              "  </div>\n",
              "  "
            ]
          },
          "metadata": {},
          "execution_count": 815
        }
      ],
      "source": [
        "ds.head()"
      ]
    },
    {
      "cell_type": "code",
      "execution_count": 816,
      "metadata": {
        "id": "2AerK3JBRbRC",
        "colab": {
          "base_uri": "https://localhost:8080/"
        },
        "outputId": "af88f89c-5247-4ba1-946a-83cf504920e8"
      },
      "outputs": [
        {
          "output_type": "execute_result",
          "data": {
            "text/plain": [
              "0"
            ]
          },
          "metadata": {},
          "execution_count": 816
        }
      ],
      "source": [
        "# We can see that our dataset does not contain any duplicates.\n",
        "\n",
        "ds.duplicated().sum()"
      ]
    },
    {
      "cell_type": "code",
      "execution_count": 817,
      "metadata": {
        "id": "BxEqcOqrRbRE"
      },
      "outputs": [],
      "source": [
        "# Dropping the 'ID' column as it does not provide any informations.\n",
        "ds.drop(columns=['ID'], inplace=True)"
      ]
    },
    {
      "cell_type": "code",
      "execution_count": 818,
      "metadata": {
        "id": "Px0suAUnRbRF",
        "colab": {
          "base_uri": "https://localhost:8080/"
        },
        "outputId": "0134e007-22d4-47c7-cd58-4caca1c4e77a"
      },
      "outputs": [
        {
          "output_type": "execute_result",
          "data": {
            "text/plain": [
              "0\n",
              "LIMIT_BAL                     object\n",
              "SEX                           object\n",
              "EDUCATION                     object\n",
              "MARRIAGE                      object\n",
              "AGE                           object\n",
              "PAY_0                         object\n",
              "PAY_2                         object\n",
              "PAY_3                         object\n",
              "PAY_4                         object\n",
              "PAY_5                         object\n",
              "PAY_6                         object\n",
              "BILL_AMT1                     object\n",
              "BILL_AMT2                     object\n",
              "BILL_AMT3                     object\n",
              "BILL_AMT4                     object\n",
              "BILL_AMT5                     object\n",
              "BILL_AMT6                     object\n",
              "PAY_AMT1                      object\n",
              "PAY_AMT2                      object\n",
              "PAY_AMT3                      object\n",
              "PAY_AMT4                      object\n",
              "PAY_AMT5                      object\n",
              "PAY_AMT6                      object\n",
              "default payment next month    object\n",
              "dtype: object"
            ]
          },
          "metadata": {},
          "execution_count": 818
        }
      ],
      "source": [
        "# Checking the type of the columns\n",
        "ds.dtypes"
      ]
    },
    {
      "cell_type": "code",
      "execution_count": 819,
      "metadata": {
        "id": "QMJQYn03RbRH"
      },
      "outputs": [],
      "source": [
        "ds = ds.astype(float)"
      ]
    },
    {
      "cell_type": "code",
      "execution_count": 820,
      "metadata": {
        "id": "I_QxAHlBRbRI",
        "colab": {
          "base_uri": "https://localhost:8080/"
        },
        "outputId": "509c80e2-ae69-42cd-f488-1e4222461991"
      },
      "outputs": [
        {
          "output_type": "execute_result",
          "data": {
            "text/plain": [
              "Index(['LIMIT_BAL', 'SEX', 'EDUCATION', 'MARRIAGE', 'AGE', 'PAY_0', 'PAY_2',\n",
              "       'PAY_3', 'PAY_4', 'PAY_5', 'PAY_6', 'BILL_AMT1', 'BILL_AMT2',\n",
              "       'BILL_AMT3', 'BILL_AMT4', 'BILL_AMT5', 'BILL_AMT6', 'PAY_AMT1',\n",
              "       'PAY_AMT2', 'PAY_AMT3', 'PAY_AMT4', 'PAY_AMT5', 'PAY_AMT6',\n",
              "       'default payment next month'],\n",
              "      dtype='object', name=0)"
            ]
          },
          "metadata": {},
          "execution_count": 820
        }
      ],
      "source": [
        "ds.columns"
      ]
    },
    {
      "cell_type": "code",
      "source": [
        "# Renaming the columns 'PAY_0' to 'PAY_1', and 'default payment next month' to 'TARGET'.\n",
        "\n",
        "ds = ds.rename(columns={'PAY_0': 'PAY_1', 'default payment next month': 'TARGET'})"
      ],
      "metadata": {
        "id": "z1VE11gCKF3p"
      },
      "execution_count": 821,
      "outputs": []
    },
    {
      "cell_type": "code",
      "execution_count": 822,
      "metadata": {
        "id": "czdiu8FaRbRJ"
      },
      "outputs": [],
      "source": [
        "# The variables 'SEX', 'EDUCATION', 'MARRIAGE', 'PAY_0', 'PAY_2', 'PAY_3', 'PAY_4', 'PAY_5', 'PAY_6' and the target \n",
        "# 'default payment next month' should be intergers.\n",
        "\n",
        "lst=['SEX', 'EDUCATION', 'MARRIAGE', 'PAY_1', 'PAY_2', 'PAY_3', 'PAY_4', 'PAY_5', 'PAY_6',\n",
        "     'TARGET']\n",
        "\n",
        "ds[lst]=ds[lst].astype(int)"
      ]
    },
    {
      "cell_type": "code",
      "execution_count": 823,
      "metadata": {
        "id": "OrnFwj-fRbRL",
        "colab": {
          "base_uri": "https://localhost:8080/",
          "height": 833
        },
        "outputId": "d830ef3b-ae0f-4130-feff-d06bdbb89ea0"
      },
      "outputs": [
        {
          "output_type": "execute_result",
          "data": {
            "text/plain": [
              "             count           mean            std       min       25%  \\\n",
              "0                                                                      \n",
              "LIMIT_BAL  30000.0  167484.322667  129747.661567   10000.0  50000.00   \n",
              "SEX        30000.0       1.603733       0.489129       1.0      1.00   \n",
              "EDUCATION  30000.0       1.853133       0.790349       0.0      1.00   \n",
              "MARRIAGE   30000.0       1.551867       0.521970       0.0      1.00   \n",
              "AGE        30000.0      35.485500       9.217904      21.0     28.00   \n",
              "PAY_1      30000.0      -0.016700       1.123802      -2.0     -1.00   \n",
              "PAY_2      30000.0      -0.133767       1.197186      -2.0     -1.00   \n",
              "PAY_3      30000.0      -0.166200       1.196868      -2.0     -1.00   \n",
              "PAY_4      30000.0      -0.220667       1.169139      -2.0     -1.00   \n",
              "PAY_5      30000.0      -0.266200       1.133187      -2.0     -1.00   \n",
              "PAY_6      30000.0      -0.291100       1.149988      -2.0     -1.00   \n",
              "BILL_AMT1  30000.0   51223.330900   73635.860576 -165580.0   3558.75   \n",
              "BILL_AMT2  30000.0   49179.075167   71173.768783  -69777.0   2984.75   \n",
              "BILL_AMT3  30000.0   47013.154800   69349.387427 -157264.0   2666.25   \n",
              "BILL_AMT4  30000.0   43262.948967   64332.856134 -170000.0   2326.75   \n",
              "BILL_AMT5  30000.0   40311.400967   60797.155770  -81334.0   1763.00   \n",
              "BILL_AMT6  30000.0   38871.760400   59554.107537 -339603.0   1256.00   \n",
              "PAY_AMT1   30000.0    5663.580500   16563.280354       0.0   1000.00   \n",
              "PAY_AMT2   30000.0    5921.163500   23040.870402       0.0    833.00   \n",
              "PAY_AMT3   30000.0    5225.681500   17606.961470       0.0    390.00   \n",
              "PAY_AMT4   30000.0    4826.076867   15666.159744       0.0    296.00   \n",
              "PAY_AMT5   30000.0    4799.387633   15278.305679       0.0    252.50   \n",
              "PAY_AMT6   30000.0    5215.502567   17777.465775       0.0    117.75   \n",
              "TARGET     30000.0       0.221200       0.415062       0.0      0.00   \n",
              "\n",
              "                50%        75%        max  \n",
              "0                                          \n",
              "LIMIT_BAL  140000.0  240000.00  1000000.0  \n",
              "SEX             2.0       2.00        2.0  \n",
              "EDUCATION       2.0       2.00        6.0  \n",
              "MARRIAGE        2.0       2.00        3.0  \n",
              "AGE            34.0      41.00       79.0  \n",
              "PAY_1           0.0       0.00        8.0  \n",
              "PAY_2           0.0       0.00        8.0  \n",
              "PAY_3           0.0       0.00        8.0  \n",
              "PAY_4           0.0       0.00        8.0  \n",
              "PAY_5           0.0       0.00        8.0  \n",
              "PAY_6           0.0       0.00        8.0  \n",
              "BILL_AMT1   22381.5   67091.00   964511.0  \n",
              "BILL_AMT2   21200.0   64006.25   983931.0  \n",
              "BILL_AMT3   20088.5   60164.75  1664089.0  \n",
              "BILL_AMT4   19052.0   54506.00   891586.0  \n",
              "BILL_AMT5   18104.5   50190.50   927171.0  \n",
              "BILL_AMT6   17071.0   49198.25   961664.0  \n",
              "PAY_AMT1     2100.0    5006.00   873552.0  \n",
              "PAY_AMT2     2009.0    5000.00  1684259.0  \n",
              "PAY_AMT3     1800.0    4505.00   896040.0  \n",
              "PAY_AMT4     1500.0    4013.25   621000.0  \n",
              "PAY_AMT5     1500.0    4031.50   426529.0  \n",
              "PAY_AMT6     1500.0    4000.00   528666.0  \n",
              "TARGET          0.0       0.00        1.0  "
            ],
            "text/html": [
              "\n",
              "  <div id=\"df-047cac8e-da38-415b-ad6e-b418f20484cc\">\n",
              "    <div class=\"colab-df-container\">\n",
              "      <div>\n",
              "<style scoped>\n",
              "    .dataframe tbody tr th:only-of-type {\n",
              "        vertical-align: middle;\n",
              "    }\n",
              "\n",
              "    .dataframe tbody tr th {\n",
              "        vertical-align: top;\n",
              "    }\n",
              "\n",
              "    .dataframe thead th {\n",
              "        text-align: right;\n",
              "    }\n",
              "</style>\n",
              "<table border=\"1\" class=\"dataframe\">\n",
              "  <thead>\n",
              "    <tr style=\"text-align: right;\">\n",
              "      <th></th>\n",
              "      <th>count</th>\n",
              "      <th>mean</th>\n",
              "      <th>std</th>\n",
              "      <th>min</th>\n",
              "      <th>25%</th>\n",
              "      <th>50%</th>\n",
              "      <th>75%</th>\n",
              "      <th>max</th>\n",
              "    </tr>\n",
              "    <tr>\n",
              "      <th>0</th>\n",
              "      <th></th>\n",
              "      <th></th>\n",
              "      <th></th>\n",
              "      <th></th>\n",
              "      <th></th>\n",
              "      <th></th>\n",
              "      <th></th>\n",
              "      <th></th>\n",
              "    </tr>\n",
              "  </thead>\n",
              "  <tbody>\n",
              "    <tr>\n",
              "      <th>LIMIT_BAL</th>\n",
              "      <td>30000.0</td>\n",
              "      <td>167484.322667</td>\n",
              "      <td>129747.661567</td>\n",
              "      <td>10000.0</td>\n",
              "      <td>50000.00</td>\n",
              "      <td>140000.0</td>\n",
              "      <td>240000.00</td>\n",
              "      <td>1000000.0</td>\n",
              "    </tr>\n",
              "    <tr>\n",
              "      <th>SEX</th>\n",
              "      <td>30000.0</td>\n",
              "      <td>1.603733</td>\n",
              "      <td>0.489129</td>\n",
              "      <td>1.0</td>\n",
              "      <td>1.00</td>\n",
              "      <td>2.0</td>\n",
              "      <td>2.00</td>\n",
              "      <td>2.0</td>\n",
              "    </tr>\n",
              "    <tr>\n",
              "      <th>EDUCATION</th>\n",
              "      <td>30000.0</td>\n",
              "      <td>1.853133</td>\n",
              "      <td>0.790349</td>\n",
              "      <td>0.0</td>\n",
              "      <td>1.00</td>\n",
              "      <td>2.0</td>\n",
              "      <td>2.00</td>\n",
              "      <td>6.0</td>\n",
              "    </tr>\n",
              "    <tr>\n",
              "      <th>MARRIAGE</th>\n",
              "      <td>30000.0</td>\n",
              "      <td>1.551867</td>\n",
              "      <td>0.521970</td>\n",
              "      <td>0.0</td>\n",
              "      <td>1.00</td>\n",
              "      <td>2.0</td>\n",
              "      <td>2.00</td>\n",
              "      <td>3.0</td>\n",
              "    </tr>\n",
              "    <tr>\n",
              "      <th>AGE</th>\n",
              "      <td>30000.0</td>\n",
              "      <td>35.485500</td>\n",
              "      <td>9.217904</td>\n",
              "      <td>21.0</td>\n",
              "      <td>28.00</td>\n",
              "      <td>34.0</td>\n",
              "      <td>41.00</td>\n",
              "      <td>79.0</td>\n",
              "    </tr>\n",
              "    <tr>\n",
              "      <th>PAY_1</th>\n",
              "      <td>30000.0</td>\n",
              "      <td>-0.016700</td>\n",
              "      <td>1.123802</td>\n",
              "      <td>-2.0</td>\n",
              "      <td>-1.00</td>\n",
              "      <td>0.0</td>\n",
              "      <td>0.00</td>\n",
              "      <td>8.0</td>\n",
              "    </tr>\n",
              "    <tr>\n",
              "      <th>PAY_2</th>\n",
              "      <td>30000.0</td>\n",
              "      <td>-0.133767</td>\n",
              "      <td>1.197186</td>\n",
              "      <td>-2.0</td>\n",
              "      <td>-1.00</td>\n",
              "      <td>0.0</td>\n",
              "      <td>0.00</td>\n",
              "      <td>8.0</td>\n",
              "    </tr>\n",
              "    <tr>\n",
              "      <th>PAY_3</th>\n",
              "      <td>30000.0</td>\n",
              "      <td>-0.166200</td>\n",
              "      <td>1.196868</td>\n",
              "      <td>-2.0</td>\n",
              "      <td>-1.00</td>\n",
              "      <td>0.0</td>\n",
              "      <td>0.00</td>\n",
              "      <td>8.0</td>\n",
              "    </tr>\n",
              "    <tr>\n",
              "      <th>PAY_4</th>\n",
              "      <td>30000.0</td>\n",
              "      <td>-0.220667</td>\n",
              "      <td>1.169139</td>\n",
              "      <td>-2.0</td>\n",
              "      <td>-1.00</td>\n",
              "      <td>0.0</td>\n",
              "      <td>0.00</td>\n",
              "      <td>8.0</td>\n",
              "    </tr>\n",
              "    <tr>\n",
              "      <th>PAY_5</th>\n",
              "      <td>30000.0</td>\n",
              "      <td>-0.266200</td>\n",
              "      <td>1.133187</td>\n",
              "      <td>-2.0</td>\n",
              "      <td>-1.00</td>\n",
              "      <td>0.0</td>\n",
              "      <td>0.00</td>\n",
              "      <td>8.0</td>\n",
              "    </tr>\n",
              "    <tr>\n",
              "      <th>PAY_6</th>\n",
              "      <td>30000.0</td>\n",
              "      <td>-0.291100</td>\n",
              "      <td>1.149988</td>\n",
              "      <td>-2.0</td>\n",
              "      <td>-1.00</td>\n",
              "      <td>0.0</td>\n",
              "      <td>0.00</td>\n",
              "      <td>8.0</td>\n",
              "    </tr>\n",
              "    <tr>\n",
              "      <th>BILL_AMT1</th>\n",
              "      <td>30000.0</td>\n",
              "      <td>51223.330900</td>\n",
              "      <td>73635.860576</td>\n",
              "      <td>-165580.0</td>\n",
              "      <td>3558.75</td>\n",
              "      <td>22381.5</td>\n",
              "      <td>67091.00</td>\n",
              "      <td>964511.0</td>\n",
              "    </tr>\n",
              "    <tr>\n",
              "      <th>BILL_AMT2</th>\n",
              "      <td>30000.0</td>\n",
              "      <td>49179.075167</td>\n",
              "      <td>71173.768783</td>\n",
              "      <td>-69777.0</td>\n",
              "      <td>2984.75</td>\n",
              "      <td>21200.0</td>\n",
              "      <td>64006.25</td>\n",
              "      <td>983931.0</td>\n",
              "    </tr>\n",
              "    <tr>\n",
              "      <th>BILL_AMT3</th>\n",
              "      <td>30000.0</td>\n",
              "      <td>47013.154800</td>\n",
              "      <td>69349.387427</td>\n",
              "      <td>-157264.0</td>\n",
              "      <td>2666.25</td>\n",
              "      <td>20088.5</td>\n",
              "      <td>60164.75</td>\n",
              "      <td>1664089.0</td>\n",
              "    </tr>\n",
              "    <tr>\n",
              "      <th>BILL_AMT4</th>\n",
              "      <td>30000.0</td>\n",
              "      <td>43262.948967</td>\n",
              "      <td>64332.856134</td>\n",
              "      <td>-170000.0</td>\n",
              "      <td>2326.75</td>\n",
              "      <td>19052.0</td>\n",
              "      <td>54506.00</td>\n",
              "      <td>891586.0</td>\n",
              "    </tr>\n",
              "    <tr>\n",
              "      <th>BILL_AMT5</th>\n",
              "      <td>30000.0</td>\n",
              "      <td>40311.400967</td>\n",
              "      <td>60797.155770</td>\n",
              "      <td>-81334.0</td>\n",
              "      <td>1763.00</td>\n",
              "      <td>18104.5</td>\n",
              "      <td>50190.50</td>\n",
              "      <td>927171.0</td>\n",
              "    </tr>\n",
              "    <tr>\n",
              "      <th>BILL_AMT6</th>\n",
              "      <td>30000.0</td>\n",
              "      <td>38871.760400</td>\n",
              "      <td>59554.107537</td>\n",
              "      <td>-339603.0</td>\n",
              "      <td>1256.00</td>\n",
              "      <td>17071.0</td>\n",
              "      <td>49198.25</td>\n",
              "      <td>961664.0</td>\n",
              "    </tr>\n",
              "    <tr>\n",
              "      <th>PAY_AMT1</th>\n",
              "      <td>30000.0</td>\n",
              "      <td>5663.580500</td>\n",
              "      <td>16563.280354</td>\n",
              "      <td>0.0</td>\n",
              "      <td>1000.00</td>\n",
              "      <td>2100.0</td>\n",
              "      <td>5006.00</td>\n",
              "      <td>873552.0</td>\n",
              "    </tr>\n",
              "    <tr>\n",
              "      <th>PAY_AMT2</th>\n",
              "      <td>30000.0</td>\n",
              "      <td>5921.163500</td>\n",
              "      <td>23040.870402</td>\n",
              "      <td>0.0</td>\n",
              "      <td>833.00</td>\n",
              "      <td>2009.0</td>\n",
              "      <td>5000.00</td>\n",
              "      <td>1684259.0</td>\n",
              "    </tr>\n",
              "    <tr>\n",
              "      <th>PAY_AMT3</th>\n",
              "      <td>30000.0</td>\n",
              "      <td>5225.681500</td>\n",
              "      <td>17606.961470</td>\n",
              "      <td>0.0</td>\n",
              "      <td>390.00</td>\n",
              "      <td>1800.0</td>\n",
              "      <td>4505.00</td>\n",
              "      <td>896040.0</td>\n",
              "    </tr>\n",
              "    <tr>\n",
              "      <th>PAY_AMT4</th>\n",
              "      <td>30000.0</td>\n",
              "      <td>4826.076867</td>\n",
              "      <td>15666.159744</td>\n",
              "      <td>0.0</td>\n",
              "      <td>296.00</td>\n",
              "      <td>1500.0</td>\n",
              "      <td>4013.25</td>\n",
              "      <td>621000.0</td>\n",
              "    </tr>\n",
              "    <tr>\n",
              "      <th>PAY_AMT5</th>\n",
              "      <td>30000.0</td>\n",
              "      <td>4799.387633</td>\n",
              "      <td>15278.305679</td>\n",
              "      <td>0.0</td>\n",
              "      <td>252.50</td>\n",
              "      <td>1500.0</td>\n",
              "      <td>4031.50</td>\n",
              "      <td>426529.0</td>\n",
              "    </tr>\n",
              "    <tr>\n",
              "      <th>PAY_AMT6</th>\n",
              "      <td>30000.0</td>\n",
              "      <td>5215.502567</td>\n",
              "      <td>17777.465775</td>\n",
              "      <td>0.0</td>\n",
              "      <td>117.75</td>\n",
              "      <td>1500.0</td>\n",
              "      <td>4000.00</td>\n",
              "      <td>528666.0</td>\n",
              "    </tr>\n",
              "    <tr>\n",
              "      <th>TARGET</th>\n",
              "      <td>30000.0</td>\n",
              "      <td>0.221200</td>\n",
              "      <td>0.415062</td>\n",
              "      <td>0.0</td>\n",
              "      <td>0.00</td>\n",
              "      <td>0.0</td>\n",
              "      <td>0.00</td>\n",
              "      <td>1.0</td>\n",
              "    </tr>\n",
              "  </tbody>\n",
              "</table>\n",
              "</div>\n",
              "      <button class=\"colab-df-convert\" onclick=\"convertToInteractive('df-047cac8e-da38-415b-ad6e-b418f20484cc')\"\n",
              "              title=\"Convert this dataframe to an interactive table.\"\n",
              "              style=\"display:none;\">\n",
              "        \n",
              "  <svg xmlns=\"http://www.w3.org/2000/svg\" height=\"24px\"viewBox=\"0 0 24 24\"\n",
              "       width=\"24px\">\n",
              "    <path d=\"M0 0h24v24H0V0z\" fill=\"none\"/>\n",
              "    <path d=\"M18.56 5.44l.94 2.06.94-2.06 2.06-.94-2.06-.94-.94-2.06-.94 2.06-2.06.94zm-11 1L8.5 8.5l.94-2.06 2.06-.94-2.06-.94L8.5 2.5l-.94 2.06-2.06.94zm10 10l.94 2.06.94-2.06 2.06-.94-2.06-.94-.94-2.06-.94 2.06-2.06.94z\"/><path d=\"M17.41 7.96l-1.37-1.37c-.4-.4-.92-.59-1.43-.59-.52 0-1.04.2-1.43.59L10.3 9.45l-7.72 7.72c-.78.78-.78 2.05 0 2.83L4 21.41c.39.39.9.59 1.41.59.51 0 1.02-.2 1.41-.59l7.78-7.78 2.81-2.81c.8-.78.8-2.07 0-2.86zM5.41 20L4 18.59l7.72-7.72 1.47 1.35L5.41 20z\"/>\n",
              "  </svg>\n",
              "      </button>\n",
              "      \n",
              "  <style>\n",
              "    .colab-df-container {\n",
              "      display:flex;\n",
              "      flex-wrap:wrap;\n",
              "      gap: 12px;\n",
              "    }\n",
              "\n",
              "    .colab-df-convert {\n",
              "      background-color: #E8F0FE;\n",
              "      border: none;\n",
              "      border-radius: 50%;\n",
              "      cursor: pointer;\n",
              "      display: none;\n",
              "      fill: #1967D2;\n",
              "      height: 32px;\n",
              "      padding: 0 0 0 0;\n",
              "      width: 32px;\n",
              "    }\n",
              "\n",
              "    .colab-df-convert:hover {\n",
              "      background-color: #E2EBFA;\n",
              "      box-shadow: 0px 1px 2px rgba(60, 64, 67, 0.3), 0px 1px 3px 1px rgba(60, 64, 67, 0.15);\n",
              "      fill: #174EA6;\n",
              "    }\n",
              "\n",
              "    [theme=dark] .colab-df-convert {\n",
              "      background-color: #3B4455;\n",
              "      fill: #D2E3FC;\n",
              "    }\n",
              "\n",
              "    [theme=dark] .colab-df-convert:hover {\n",
              "      background-color: #434B5C;\n",
              "      box-shadow: 0px 1px 3px 1px rgba(0, 0, 0, 0.15);\n",
              "      filter: drop-shadow(0px 1px 2px rgba(0, 0, 0, 0.3));\n",
              "      fill: #FFFFFF;\n",
              "    }\n",
              "  </style>\n",
              "\n",
              "      <script>\n",
              "        const buttonEl =\n",
              "          document.querySelector('#df-047cac8e-da38-415b-ad6e-b418f20484cc button.colab-df-convert');\n",
              "        buttonEl.style.display =\n",
              "          google.colab.kernel.accessAllowed ? 'block' : 'none';\n",
              "\n",
              "        async function convertToInteractive(key) {\n",
              "          const element = document.querySelector('#df-047cac8e-da38-415b-ad6e-b418f20484cc');\n",
              "          const dataTable =\n",
              "            await google.colab.kernel.invokeFunction('convertToInteractive',\n",
              "                                                     [key], {});\n",
              "          if (!dataTable) return;\n",
              "\n",
              "          const docLinkHtml = 'Like what you see? Visit the ' +\n",
              "            '<a target=\"_blank\" href=https://colab.research.google.com/notebooks/data_table.ipynb>data table notebook</a>'\n",
              "            + ' to learn more about interactive tables.';\n",
              "          element.innerHTML = '';\n",
              "          dataTable['output_type'] = 'display_data';\n",
              "          await google.colab.output.renderOutput(dataTable, element);\n",
              "          const docLink = document.createElement('div');\n",
              "          docLink.innerHTML = docLinkHtml;\n",
              "          element.appendChild(docLink);\n",
              "        }\n",
              "      </script>\n",
              "    </div>\n",
              "  </div>\n",
              "  "
            ]
          },
          "metadata": {},
          "execution_count": 823
        }
      ],
      "source": [
        "ds.describe().T"
      ]
    },
    {
      "cell_type": "markdown",
      "metadata": {
        "id": "QdZ5KdZGRbRM"
      },
      "source": [
        "# Data Exploration:"
      ]
    },
    {
      "cell_type": "code",
      "execution_count": 824,
      "metadata": {
        "id": "xF7dHqCqRbRN",
        "colab": {
          "base_uri": "https://localhost:8080/"
        },
        "outputId": "3e1b9174-a971-4518-d813-f60185ac9c75"
      },
      "outputs": [
        {
          "output_type": "execute_result",
          "data": {
            "text/plain": [
              "Index(['LIMIT_BAL', 'SEX', 'EDUCATION', 'MARRIAGE', 'AGE', 'PAY_1', 'PAY_2',\n",
              "       'PAY_3', 'PAY_4', 'PAY_5', 'PAY_6', 'BILL_AMT1', 'BILL_AMT2',\n",
              "       'BILL_AMT3', 'BILL_AMT4', 'BILL_AMT5', 'BILL_AMT6', 'PAY_AMT1',\n",
              "       'PAY_AMT2', 'PAY_AMT3', 'PAY_AMT4', 'PAY_AMT5', 'PAY_AMT6', 'TARGET'],\n",
              "      dtype='object', name=0)"
            ]
          },
          "metadata": {},
          "execution_count": 824
        }
      ],
      "source": [
        "ds.columns"
      ]
    },
    {
      "cell_type": "markdown",
      "source": [
        "### The variable 'LIMIT_BAL':"
      ],
      "metadata": {
        "id": "FbU_ZmCqWQgy"
      }
    },
    {
      "cell_type": "code",
      "execution_count": 825,
      "metadata": {
        "id": "afLtpWz4RbRO",
        "colab": {
          "base_uri": "https://localhost:8080/",
          "height": 369
        },
        "outputId": "026861fb-46fb-4e8d-8748-ba0fe434bcf3"
      },
      "outputs": [
        {
          "output_type": "display_data",
          "data": {
            "text/plain": [
              "<Figure size 360x360 with 1 Axes>"
            ],
            "image/png": "[encoded data removed]"
          },
          "metadata": {
            "needs_background": "light"
          }
        }
      ],
      "source": [
        "# Checking the histogram of the variable 'LIMIT_BAL'.\n",
        "\n",
        "sns.displot(data=ds, x=\"LIMIT_BAL\", kde=True)\n",
        "plt.show()"
      ]
    },
    {
      "cell_type": "code",
      "source": [
        "# Calculating the skewness of the 'LIMIT_BAL' variable.\n",
        "ds['LIMIT_BAL'].skew()"
      ],
      "metadata": {
        "colab": {
          "base_uri": "https://localhost:8080/"
        },
        "id": "vDIi0D3bMJFo",
        "outputId": "026ae1f1-efed-4bae-98fd-64f907d3d15f"
      },
      "execution_count": 826,
      "outputs": [
        {
          "output_type": "execute_result",
          "data": {
            "text/plain": [
              "0.992866960519544"
            ]
          },
          "metadata": {},
          "execution_count": 826
        }
      ]
    },
    {
      "cell_type": "markdown",
      "source": [
        "From the above plot we can see that the distribution of 'LIMIT_BAL' is right skewed, which is confirmed by the calculation above."
      ],
      "metadata": {
        "id": "GxMETzKdL4ZE"
      }
    },
    {
      "cell_type": "markdown",
      "source": [
        "### The variable 'SEX':"
      ],
      "metadata": {
        "id": "FY9jgZ95WaBK"
      }
    },
    {
      "cell_type": "code",
      "execution_count": 827,
      "metadata": {
        "id": "w-IZy5ZeRbRP",
        "colab": {
          "base_uri": "https://localhost:8080/",
          "height": 279
        },
        "outputId": "7ec4b746-305f-4096-c2a9-cba28ad7ea19"
      },
      "outputs": [
        {
          "output_type": "display_data",
          "data": {
            "text/plain": [
              "<Figure size 432x288 with 1 Axes>"
            ],
            "image/png": "[encoded data removed]"
          },
          "metadata": {
            "needs_background": "light"
          }
        }
      ],
      "source": [
        "# Counting the genders in the dataset.\n",
        "\n",
        "sns.countplot(data=ds, x=\"SEX\")\n",
        "plt.show()"
      ]
    },
    {
      "cell_type": "markdown",
      "source": [
        "From the plot above we can see that the dataset contains more females than males."
      ],
      "metadata": {
        "id": "HSeZfuigMu2I"
      }
    },
    {
      "cell_type": "markdown",
      "source": [
        "### The variable 'EDUCATION':"
      ],
      "metadata": {
        "id": "fvzIH0O3Wdxw"
      }
    },
    {
      "cell_type": "code",
      "execution_count": 828,
      "metadata": {
        "id": "MDwJE6tRRbRS",
        "colab": {
          "base_uri": "https://localhost:8080/",
          "height": 279
        },
        "outputId": "4b088816-46fb-4f9c-de6f-a192419c2cde"
      },
      "outputs": [
        {
          "output_type": "display_data",
          "data": {
            "text/plain": [
              "<Figure size 432x288 with 1 Axes>"
            ],
            "image/png": "[encoded data removed]"
          },
          "metadata": {
            "needs_background": "light"
          }
        }
      ],
      "source": [
        "# Counting the EDUCATION categories in the dataset.\n",
        "\n",
        "sns.countplot(data=ds, x=\"EDUCATION\")\n",
        "plt.show()"
      ]
    },
    {
      "cell_type": "markdown",
      "source": [
        "From the figure above we can see that the dataset contains other categories that the one specified in the description, meaning that we should deal with the unknown categories '0', '5' and '6'."
      ],
      "metadata": {
        "id": "8dRS8TugM8Gf"
      }
    },
    {
      "cell_type": "code",
      "execution_count": 829,
      "metadata": {
        "id": "SBgYtg4hRbRT"
      },
      "outputs": [],
      "source": [
        "# Dropping the categories 0, 5 and 6\n",
        "\n",
        "ds = ds[~ds['EDUCATION'].isin([0, 5, 6])]"
      ]
    },
    {
      "cell_type": "code",
      "execution_count": 830,
      "metadata": {
        "id": "QWMO0XmgRbRU",
        "colab": {
          "base_uri": "https://localhost:8080/"
        },
        "outputId": "d0990c4e-982a-4d2a-c4bb-5879db278cd7"
      },
      "outputs": [
        {
          "output_type": "execute_result",
          "data": {
            "text/plain": [
              "2    14030\n",
              "1    10585\n",
              "3     4917\n",
              "4      123\n",
              "Name: EDUCATION, dtype: int64"
            ]
          },
          "metadata": {},
          "execution_count": 830
        }
      ],
      "source": [
        "ds['EDUCATION'].value_counts()"
      ]
    },
    {
      "cell_type": "markdown",
      "source": [
        "We notice that most of the individuals in the dataset are university and high school graduates."
      ],
      "metadata": {
        "id": "uQEwZ_YQNw39"
      }
    },
    {
      "cell_type": "markdown",
      "source": [
        "### The variable 'MARRIAGE':"
      ],
      "metadata": {
        "id": "d8r1TMteWh_P"
      }
    },
    {
      "cell_type": "code",
      "execution_count": 831,
      "metadata": {
        "id": "T4E9EtUaRbRW",
        "colab": {
          "base_uri": "https://localhost:8080/",
          "height": 279
        },
        "outputId": "9c2489ee-6388-4b52-c1f6-96a9b32be672"
      },
      "outputs": [
        {
          "output_type": "display_data",
          "data": {
            "text/plain": [
              "<Figure size 432x288 with 1 Axes>"
            ],
            "image/png": "[encoded data removed]"
          },
          "metadata": {
            "needs_background": "light"
          }
        }
      ],
      "source": [
        "# Counting the 'MARRIAGE' in the dataset.\n",
        "\n",
        "sns.countplot(data=ds, x=\"MARRIAGE\")\n",
        "plt.show()\n",
        "# We need to drop the category 0."
      ]
    },
    {
      "cell_type": "markdown",
      "source": [
        "Again we have an unknown category '0', we should drop it as we consider it to be noise."
      ],
      "metadata": {
        "id": "ji-iIh6ZN9L_"
      }
    },
    {
      "cell_type": "code",
      "execution_count": 832,
      "metadata": {
        "id": "OerZ3bJVRbRX"
      },
      "outputs": [],
      "source": [
        "ds = ds[~ds['MARRIAGE'].isin([0])]"
      ]
    },
    {
      "cell_type": "code",
      "execution_count": 833,
      "metadata": {
        "id": "vYNSCBA9RbRZ",
        "colab": {
          "base_uri": "https://localhost:8080/"
        },
        "outputId": "7f3e2013-f5d5-482c-b365-d59bf0ec97a9"
      },
      "outputs": [
        {
          "output_type": "execute_result",
          "data": {
            "text/plain": [
              "2    15806\n",
              "1    13477\n",
              "3      318\n",
              "Name: MARRIAGE, dtype: int64"
            ]
          },
          "metadata": {},
          "execution_count": 833
        }
      ],
      "source": [
        "ds['MARRIAGE'].value_counts()"
      ]
    },
    {
      "cell_type": "markdown",
      "source": [
        "Most of individuals in the dataset are single (15806), followed by the married ones (13477)"
      ],
      "metadata": {
        "id": "LDB06SGHOJDZ"
      }
    },
    {
      "cell_type": "markdown",
      "source": [
        "### The variable 'AGE':"
      ],
      "metadata": {
        "id": "JFiftGz8Wmk0"
      }
    },
    {
      "cell_type": "code",
      "execution_count": 834,
      "metadata": {
        "id": "xIBf2fUWRbRb",
        "colab": {
          "base_uri": "https://localhost:8080/",
          "height": 369
        },
        "outputId": "6b0631d7-0d64-4923-fb25-f08c8f33480a"
      },
      "outputs": [
        {
          "output_type": "display_data",
          "data": {
            "text/plain": [
              "<Figure size 360x360 with 1 Axes>"
            ],
            "image/png": "[encoded data removed]"
          },
          "metadata": {
            "needs_background": "light"
          }
        }
      ],
      "source": [
        "# Checking the histogram of the variable 'AGE'\n",
        "\n",
        "sns.displot(data=ds, x=\"AGE\", kde=True)\n",
        "plt.show()"
      ]
    },
    {
      "cell_type": "code",
      "source": [
        "print('The ages skew is:', ds['AGE'].skew())\n",
        "print('The ages median is:', ds['AGE'].median())\n",
        "print('The ages mean is:', ds['AGE'].mean())"
      ],
      "metadata": {
        "colab": {
          "base_uri": "https://localhost:8080/"
        },
        "id": "TL0tmfKKOnsZ",
        "outputId": "fd54941f-7265-4296-87ff-a31f709c877d"
      },
      "execution_count": 835,
      "outputs": [
        {
          "output_type": "stream",
          "name": "stdout",
          "text": [
            "The ages skew is: 0.7373094047362696\n",
            "The ages median is: 34.0\n",
            "The ages mean is: 35.46407215972433\n"
          ]
        }
      ]
    },
    {
      "cell_type": "markdown",
      "source": [
        "We can see that the distribution of ages is slightly right skewed, with a mean age equal to 35."
      ],
      "metadata": {
        "id": "cKzJ0J2ROtJJ"
      }
    },
    {
      "cell_type": "code",
      "source": [
        "ds['PAY_1'].unique()"
      ],
      "metadata": {
        "colab": {
          "base_uri": "https://localhost:8080/"
        },
        "id": "VE2zouyjQgiP",
        "outputId": "804283f7-f57c-4884-ff80-643a7e55ab22"
      },
      "execution_count": 836,
      "outputs": [
        {
          "output_type": "execute_result",
          "data": {
            "text/plain": [
              "array([ 2, -1,  0, -2,  1,  3,  4,  8,  7,  5,  6])"
            ]
          },
          "metadata": {},
          "execution_count": 836
        }
      ]
    },
    {
      "cell_type": "code",
      "source": [
        "sns.countplot(data=ds, x=\"PAY_1\")\n",
        "plt.show()"
      ],
      "metadata": {
        "colab": {
          "base_uri": "https://localhost:8080/",
          "height": 280
        },
        "id": "gpZ9i9-IRBmm",
        "outputId": "9d026280-17ae-4824-a6ed-8d6b32d81f5b"
      },
      "execution_count": 837,
      "outputs": [
        {
          "output_type": "display_data",
          "data": {
            "text/plain": [
              "<Figure size 432x288 with 1 Axes>"
            ],
            "image/png": "[encoded data removed]"
          },
          "metadata": {
            "needs_background": "light"
          }
        }
      ]
    },
    {
      "cell_type": "markdown",
      "source": [
        "### The variables 'PAY_1', 'PAY_2', 'PAY_3', 'PAY_4', 'PAY_5', 'PAY_6':"
      ],
      "metadata": {
        "id": "W02tdiqeWvjq"
      }
    },
    {
      "cell_type": "code",
      "execution_count": 838,
      "metadata": {
        "id": "FvVe8jqXRbRd",
        "colab": {
          "base_uri": "https://localhost:8080/",
          "height": 498
        },
        "outputId": "c5f35e0d-5682-4659-eeca-d6a7babd0130"
      },
      "outputs": [
        {
          "output_type": "display_data",
          "data": {
            "text/plain": [
              "<Figure size 1008x576 with 8 Axes>"
            ],
            "image/png": "[encoded data removed]"
          },
          "metadata": {
            "needs_background": "light"
          }
        }
      ],
      "source": [
        "# From this plot we can see that most of the payments are made on time.\n",
        "\n",
        "Pay = ['PAY_1', 'PAY_2', 'PAY_3', 'PAY_4', 'PAY_5', 'PAY_6']\n",
        "\n",
        "fig, ax = plt.subplots(2, 4, sharey=True, figsize=(14, 8))\n",
        "for var, subplot in zip(ds[Pay], ax[:6].flatten()):\n",
        "    sns.countplot(data=ds, x=var, ax=subplot)"
      ]
    },
    {
      "cell_type": "markdown",
      "source": [
        "PAY ATTENTION HERE.\n",
        "\n",
        "From the plots above we can see some problems, the catogory -2 shouldn't exist, are 0 and 1 the same thing.  "
      ],
      "metadata": {
        "id": "nOVbnLxVR_Dd"
      }
    },
    {
      "cell_type": "code",
      "source": [
        "for col in Pay:\n",
        "  ds = ds[~ds[col].isin([-2])]"
      ],
      "metadata": {
        "id": "8_uqOTdUSCY5"
      },
      "execution_count": 839,
      "outputs": []
    },
    {
      "cell_type": "markdown",
      "source": [
        "### The variables 'BILL_AMT1', 'BILL_AMT2', 'BILL_AMT3', 'BILL_AMT4',  'BILL_AMT5', 'BILL_AMT6':"
      ],
      "metadata": {
        "id": "GTf1vmL6Xqxs"
      }
    },
    {
      "cell_type": "code",
      "execution_count": 840,
      "metadata": {
        "scrolled": true,
        "id": "9MswebmQRbRh",
        "colab": {
          "base_uri": "https://localhost:8080/",
          "height": 498
        },
        "outputId": "c4eb2036-d4fb-46ed-ab84-3c126267893d"
      },
      "outputs": [
        {
          "output_type": "display_data",
          "data": {
            "text/plain": [
              "<Figure size 1008x576 with 8 Axes>"
            ],
            "image/png": "[encoded data removed]"
          },
          "metadata": {
            "needs_background": "light"
          }
        }
      ],
      "source": [
        "Bill_Amt=['BILL_AMT1', 'BILL_AMT2', 'BILL_AMT3', 'BILL_AMT4', 'BILL_AMT5', 'BILL_AMT6']\n",
        "\n",
        "fig, ax = plt.subplots(2, 4, sharey=True, figsize=(14, 8))\n",
        "for var, subplot in zip(ds[Bill_Amt], ax.flatten()):\n",
        "    sns.boxplot(data=ds, x=var, ax=subplot)"
      ]
    },
    {
      "cell_type": "markdown",
      "source": [
        "The plot above shows right skewed distributions."
      ],
      "metadata": {
        "id": "jfZ-WmQ6X_dK"
      }
    },
    {
      "cell_type": "markdown",
      "source": [
        "### The variables 'PAY_AMT1', 'PAY_AMT2', 'PAY_AMT3', 'PAY_AMT4',  'PAY_AMT5', 'PAY_AMT6':"
      ],
      "metadata": {
        "id": "JAa9dWXHW7Hl"
      }
    },
    {
      "cell_type": "code",
      "execution_count": 841,
      "metadata": {
        "id": "LdnPuHhQRbRe",
        "colab": {
          "base_uri": "https://localhost:8080/",
          "height": 498
        },
        "outputId": "8f9f5fbb-1075-4bc3-c41f-ca63df093b40"
      },
      "outputs": [
        {
          "output_type": "display_data",
          "data": {
            "text/plain": [
              "<Figure size 1008x576 with 8 Axes>"
            ],
            "image/png": "[encoded data removed]"
          },
          "metadata": {
            "needs_background": "light"
          }
        }
      ],
      "source": [
        "# Plotting the boxplots for the variables, 'PAY_AMT1','PAY_AMT2', 'PAY_AMT3', 'PAY_AMT4', 'PAY_AMT5', 'PAY_AMT6'.\n",
        "\n",
        "Pay_Amt = ['PAY_AMT1','PAY_AMT2', 'PAY_AMT3', 'PAY_AMT4', 'PAY_AMT5', 'PAY_AMT6']\n",
        "\n",
        "fig, ax = plt.subplots(2, 4, sharey=True, figsize=(14, 8))\n",
        "for var, subplot in zip(ds[Pay_Amt], ax.flatten()):\n",
        "    sns.boxplot(data=ds, x=var, ax=subplot)"
      ]
    },
    {
      "cell_type": "markdown",
      "source": [
        "The plots above show a very right skewed distributions, we need to find a way to deal with it."
      ],
      "metadata": {
        "id": "t5ZsSm2fT95z"
      }
    },
    {
      "cell_type": "code",
      "source": [
        "ds['PAY_AMT5'].min()"
      ],
      "metadata": {
        "colab": {
          "base_uri": "https://localhost:8080/"
        },
        "id": "YyKDtRN8Vzr5",
        "outputId": "b14bcd5e-cdd3-4f00-f582-21ba6354b4b0"
      },
      "execution_count": 842,
      "outputs": [
        {
          "output_type": "execute_result",
          "data": {
            "text/plain": [
              "0.0"
            ]
          },
          "metadata": {},
          "execution_count": 842
        }
      ]
    },
    {
      "cell_type": "code",
      "execution_count": 843,
      "metadata": {
        "id": "7ARfVhMZRbRj"
      },
      "outputs": [],
      "source": [
        "# We try to apply the log transformation to a group of variables, \n",
        "# in oder to check if the distributions are less skewed. \n",
        "\n",
        "#Bill_Amt=['BILL_AMT1', 'BILL_AMT2', 'BILL_AMT3', 'BILL_AMT4', 'BILL_AMT5', 'BILL_AMT6']\n",
        "\n",
        "ds['Log_PAY_AMT1'] = np.log1p(ds['PAY_AMT1'])\n",
        "ds['Log_PAY_AMT2'] = np.log1p(ds['PAY_AMT2'])\n",
        "ds['Log_PAY_AMT3'] = np.log1p(ds['PAY_AMT3'])\n",
        "ds['Log_PAY_AMT4'] = np.log1p(ds['PAY_AMT4'])\n",
        "ds['Log_PAY_AMT5'] = np.log1p(ds['PAY_AMT5'])\n",
        "ds['Log_PAY_AMT6'] = np.log1p(ds['PAY_AMT6'])"
      ]
    },
    {
      "cell_type": "code",
      "execution_count": 844,
      "metadata": {
        "id": "oKU_rDnaRbRk",
        "colab": {
          "base_uri": "https://localhost:8080/"
        },
        "outputId": "7d19131d-d94f-4077-af35-513218ef11ef"
      },
      "outputs": [
        {
          "output_type": "stream",
          "name": "stdout",
          "text": [
            "The skew of the PAY_AMT1 is given by: 15.468767159248307\n",
            "The skew of the Log PAY_AMT1 is given by: -1.8806064504727336 \n",
            "\n",
            "The skew of the PAY_AMT2 is given by: 24.962159459852504\n",
            "The skew of the Log PAY_AMT2 is given by: -1.9212651509799747 \n",
            "\n",
            "The skew of the PAY_AMT3 is given by: 18.52916750591663\n",
            "The skew of the Log PAY_AMT3 is given by: -1.7205603334123223 \n",
            "\n",
            "The skew of the PAY_AMT4 is given by: 14.049901138358349\n",
            "The skew of the Log PAY_AMT4 is given by: -1.5919139005438687 \n",
            "\n",
            "The skew of the PAY_AMT5 is given by: 11.440572049898586\n",
            "The skew of the Log PAY_AMT5 is given by: -1.510647976457176 \n",
            "\n",
            "The skew of the PAY_AMT6 is given by: 11.500601875194553\n",
            "The skew of the Log PAY_AMT6 is given by: -1.3592195208711981 \n",
            "\n"
          ]
        }
      ],
      "source": [
        "# As we can see this transformation reduce the variables skew considerably.\n",
        "\n",
        "print(\"The skew of the PAY_AMT1 is given by:\" , ds['PAY_AMT1'].skew())\n",
        "print(\"The skew of the Log PAY_AMT1 is given by:\" , ds['Log_PAY_AMT1'].skew(), \"\\n\")\n",
        "\n",
        "print(\"The skew of the PAY_AMT2 is given by:\" , ds['PAY_AMT2'].skew())\n",
        "print(\"The skew of the Log PAY_AMT2 is given by:\" , ds['Log_PAY_AMT2'].skew(), \"\\n\")\n",
        "\n",
        "print(\"The skew of the PAY_AMT3 is given by:\" , ds['PAY_AMT3'].skew())\n",
        "print(\"The skew of the Log PAY_AMT3 is given by:\" , ds['Log_PAY_AMT3'].skew(), \"\\n\")\n",
        "\n",
        "print(\"The skew of the PAY_AMT4 is given by:\" , ds['PAY_AMT4'].skew())\n",
        "print(\"The skew of the Log PAY_AMT4 is given by:\" , ds['Log_PAY_AMT4'].skew(), \"\\n\")\n",
        "\n",
        "print(\"The skew of the PAY_AMT5 is given by:\" , ds['PAY_AMT5'].skew())\n",
        "print(\"The skew of the Log PAY_AMT5 is given by:\" , ds['Log_PAY_AMT5'].skew(), \"\\n\")\n",
        "\n",
        "print(\"The skew of the PAY_AMT6 is given by:\" , ds['PAY_AMT6'].skew())\n",
        "print(\"The skew of the Log PAY_AMT6 is given by:\" , ds['Log_PAY_AMT6'].skew(), \"\\n\")\n",
        "\n",
        "# We can see a significan reduction in the skew of the distribution"
      ]
    },
    {
      "cell_type": "code",
      "execution_count": 845,
      "metadata": {
        "id": "k6qqRlKnRbRl",
        "colab": {
          "base_uri": "https://localhost:8080/",
          "height": 498
        },
        "outputId": "1c9beaaa-2b80-495b-f900-c4be344305b1"
      },
      "outputs": [
        {
          "output_type": "display_data",
          "data": {
            "text/plain": [
              "<Figure size 1008x576 with 8 Axes>"
            ],
            "image/png": "[encoded data removed]"
          },
          "metadata": {
            "needs_background": "light"
          }
        }
      ],
      "source": [
        "# Plotting some histograms.\n",
        "\n",
        "Log_Pay_Amt = ['Log_PAY_AMT1','Log_PAY_AMT2', 'Log_PAY_AMT3', 'Log_PAY_AMT4', 'Log_PAY_AMT5', 'Log_PAY_AMT6']\n",
        "\n",
        "fig, ax = plt.subplots(2, 4, sharey=True, figsize=(14, 8))\n",
        "for var, subplot in zip(ds[Log_Pay_Amt], ax.flatten()):\n",
        "    sns.boxplot(data=ds, x=var, ax=subplot)"
      ]
    },
    {
      "cell_type": "markdown",
      "source": [
        "The box plots above seems better than the ones of variables before the log transformation."
      ],
      "metadata": {
        "id": "8osx3-XUVkht"
      }
    },
    {
      "cell_type": "code",
      "execution_count": 846,
      "metadata": {
        "id": "HKsJR7gqRbRm"
      },
      "outputs": [],
      "source": [
        "# We need to drop the original variables.\n",
        "\n",
        "#ds.drop(columns=Pay_Amt, inplace=True)"
      ]
    },
    {
      "cell_type": "code",
      "source": [
        "ds.columns"
      ],
      "metadata": {
        "colab": {
          "base_uri": "https://localhost:8080/"
        },
        "id": "5-gQXVmlYTo-",
        "outputId": "8a6c5159-7898-446d-bf8a-a2c9894d276c"
      },
      "execution_count": 847,
      "outputs": [
        {
          "output_type": "execute_result",
          "data": {
            "text/plain": [
              "Index(['LIMIT_BAL', 'SEX', 'EDUCATION', 'MARRIAGE', 'AGE', 'PAY_1', 'PAY_2',\n",
              "       'PAY_3', 'PAY_4', 'PAY_5', 'PAY_6', 'BILL_AMT1', 'BILL_AMT2',\n",
              "       'BILL_AMT3', 'BILL_AMT4', 'BILL_AMT5', 'BILL_AMT6', 'PAY_AMT1',\n",
              "       'PAY_AMT2', 'PAY_AMT3', 'PAY_AMT4', 'PAY_AMT5', 'PAY_AMT6', 'TARGET',\n",
              "       'Log_PAY_AMT1', 'Log_PAY_AMT2', 'Log_PAY_AMT3', 'Log_PAY_AMT4',\n",
              "       'Log_PAY_AMT5', 'Log_PAY_AMT6'],\n",
              "      dtype='object', name=0)"
            ]
          },
          "metadata": {},
          "execution_count": 847
        }
      ]
    },
    {
      "cell_type": "markdown",
      "source": [
        "### The target variable:"
      ],
      "metadata": {
        "id": "gtJsVFQrYOsI"
      }
    },
    {
      "cell_type": "code",
      "source": [
        "# Counting the 'TARGET' categories in the dataset.\n",
        "\n",
        "sns.countplot(data=ds, x=\"TARGET\")\n",
        "plt.show()"
      ],
      "metadata": {
        "colab": {
          "base_uri": "https://localhost:8080/",
          "height": 279
        },
        "id": "PSsZYHrlYbvD",
        "outputId": "b52f641a-616a-477b-ffdf-3d2f2e6e5d3a"
      },
      "execution_count": 848,
      "outputs": [
        {
          "output_type": "display_data",
          "data": {
            "text/plain": [
              "<Figure size 432x288 with 1 Axes>"
            ],
            "image/png": "[encoded data removed]"
          },
          "metadata": {
            "needs_background": "light"
          }
        }
      ]
    },
    {
      "cell_type": "code",
      "source": [
        "ds['TARGET'].value_counts(normalize=True)"
      ],
      "metadata": {
        "colab": {
          "base_uri": "https://localhost:8080/"
        },
        "id": "Wnae3MqiZr9B",
        "outputId": "b2969405-9ca5-4218-c416-c54ee62a6437"
      },
      "execution_count": 849,
      "outputs": [
        {
          "output_type": "execute_result",
          "data": {
            "text/plain": [
              "0    0.76838\n",
              "1    0.23162\n",
              "Name: TARGET, dtype: float64"
            ]
          },
          "metadata": {},
          "execution_count": 849
        }
      ]
    },
    {
      "cell_type": "markdown",
      "source": [
        "From the above plot we can see that our target variable is unbalanced, \n",
        "with non default observations that represent 76.84% and the payment default that represent 23.16%. "
      ],
      "metadata": {
        "id": "tEvrl6nxZ5bt"
      }
    },
    {
      "cell_type": "code",
      "source": [
        "# THIS DOES NOT MUCH SENSE, IT DOES NOT SOUND LIKE I WANTED IT TO.\n",
        "ds[['PAY_1', 'BILL_AMT1', 'BILL_AMT2', 'PAY_AMT1']].head()"
      ],
      "metadata": {
        "colab": {
          "base_uri": "https://localhost:8080/",
          "height": 206
        },
        "id": "VYhTRCKKdX7D",
        "outputId": "e8282725-2bf4-4478-9ffe-aa4b9d2026fe"
      },
      "execution_count": 850,
      "outputs": [
        {
          "output_type": "execute_result",
          "data": {
            "text/plain": [
              "0  PAY_1  BILL_AMT1  BILL_AMT2  PAY_AMT1\n",
              "2     -1     2682.0     1725.0       0.0\n",
              "3      0    29239.0    14027.0    1518.0\n",
              "4      0    46990.0    48233.0    2000.0\n",
              "5     -1     8617.0     5670.0    2000.0\n",
              "6      0    64400.0    57069.0    2500.0"
            ],
            "text/html": [
              "\n",
              "  <div id=\"df-a88f62d9-38d9-4e67-a2a0-d0a16edc2a07\">\n",
              "    <div class=\"colab-df-container\">\n",
              "      <div>\n",
              "<style scoped>\n",
              "    .dataframe tbody tr th:only-of-type {\n",
              "        vertical-align: middle;\n",
              "    }\n",
              "\n",
              "    .dataframe tbody tr th {\n",
              "        vertical-align: top;\n",
              "    }\n",
              "\n",
              "    .dataframe thead th {\n",
              "        text-align: right;\n",
              "    }\n",
              "</style>\n",
              "<table border=\"1\" class=\"dataframe\">\n",
              "  <thead>\n",
              "    <tr style=\"text-align: right;\">\n",
              "      <th></th>\n",
              "      <th>PAY_1</th>\n",
              "      <th>BILL_AMT1</th>\n",
              "      <th>BILL_AMT2</th>\n",
              "      <th>PAY_AMT1</th>\n",
              "    </tr>\n",
              "  </thead>\n",
              "  <tbody>\n",
              "    <tr>\n",
              "      <th>2</th>\n",
              "      <td>-1</td>\n",
              "      <td>2682.0</td>\n",
              "      <td>1725.0</td>\n",
              "      <td>0.0</td>\n",
              "    </tr>\n",
              "    <tr>\n",
              "      <th>3</th>\n",
              "      <td>0</td>\n",
              "      <td>29239.0</td>\n",
              "      <td>14027.0</td>\n",
              "      <td>1518.0</td>\n",
              "    </tr>\n",
              "    <tr>\n",
              "      <th>4</th>\n",
              "      <td>0</td>\n",
              "      <td>46990.0</td>\n",
              "      <td>48233.0</td>\n",
              "      <td>2000.0</td>\n",
              "    </tr>\n",
              "    <tr>\n",
              "      <th>5</th>\n",
              "      <td>-1</td>\n",
              "      <td>8617.0</td>\n",
              "      <td>5670.0</td>\n",
              "      <td>2000.0</td>\n",
              "    </tr>\n",
              "    <tr>\n",
              "      <th>6</th>\n",
              "      <td>0</td>\n",
              "      <td>64400.0</td>\n",
              "      <td>57069.0</td>\n",
              "      <td>2500.0</td>\n",
              "    </tr>\n",
              "  </tbody>\n",
              "</table>\n",
              "</div>\n",
              "      <button class=\"colab-df-convert\" onclick=\"convertToInteractive('df-a88f62d9-38d9-4e67-a2a0-d0a16edc2a07')\"\n",
              "              title=\"Convert this dataframe to an interactive table.\"\n",
              "              style=\"display:none;\">\n",
              "        \n",
              "  <svg xmlns=\"http://www.w3.org/2000/svg\" height=\"24px\"viewBox=\"0 0 24 24\"\n",
              "       width=\"24px\">\n",
              "    <path d=\"M0 0h24v24H0V0z\" fill=\"none\"/>\n",
              "    <path d=\"M18.56 5.44l.94 2.06.94-2.06 2.06-.94-2.06-.94-.94-2.06-.94 2.06-2.06.94zm-11 1L8.5 8.5l.94-2.06 2.06-.94-2.06-.94L8.5 2.5l-.94 2.06-2.06.94zm10 10l.94 2.06.94-2.06 2.06-.94-2.06-.94-.94-2.06-.94 2.06-2.06.94z\"/><path d=\"M17.41 7.96l-1.37-1.37c-.4-.4-.92-.59-1.43-.59-.52 0-1.04.2-1.43.59L10.3 9.45l-7.72 7.72c-.78.78-.78 2.05 0 2.83L4 21.41c.39.39.9.59 1.41.59.51 0 1.02-.2 1.41-.59l7.78-7.78 2.81-2.81c.8-.78.8-2.07 0-2.86zM5.41 20L4 18.59l7.72-7.72 1.47 1.35L5.41 20z\"/>\n",
              "  </svg>\n",
              "      </button>\n",
              "      \n",
              "  <style>\n",
              "    .colab-df-container {\n",
              "      display:flex;\n",
              "      flex-wrap:wrap;\n",
              "      gap: 12px;\n",
              "    }\n",
              "\n",
              "    .colab-df-convert {\n",
              "      background-color: #E8F0FE;\n",
              "      border: none;\n",
              "      border-radius: 50%;\n",
              "      cursor: pointer;\n",
              "      display: none;\n",
              "      fill: #1967D2;\n",
              "      height: 32px;\n",
              "      padding: 0 0 0 0;\n",
              "      width: 32px;\n",
              "    }\n",
              "\n",
              "    .colab-df-convert:hover {\n",
              "      background-color: #E2EBFA;\n",
              "      box-shadow: 0px 1px 2px rgba(60, 64, 67, 0.3), 0px 1px 3px 1px rgba(60, 64, 67, 0.15);\n",
              "      fill: #174EA6;\n",
              "    }\n",
              "\n",
              "    [theme=dark] .colab-df-convert {\n",
              "      background-color: #3B4455;\n",
              "      fill: #D2E3FC;\n",
              "    }\n",
              "\n",
              "    [theme=dark] .colab-df-convert:hover {\n",
              "      background-color: #434B5C;\n",
              "      box-shadow: 0px 1px 3px 1px rgba(0, 0, 0, 0.15);\n",
              "      filter: drop-shadow(0px 1px 2px rgba(0, 0, 0, 0.3));\n",
              "      fill: #FFFFFF;\n",
              "    }\n",
              "  </style>\n",
              "\n",
              "      <script>\n",
              "        const buttonEl =\n",
              "          document.querySelector('#df-a88f62d9-38d9-4e67-a2a0-d0a16edc2a07 button.colab-df-convert');\n",
              "        buttonEl.style.display =\n",
              "          google.colab.kernel.accessAllowed ? 'block' : 'none';\n",
              "\n",
              "        async function convertToInteractive(key) {\n",
              "          const element = document.querySelector('#df-a88f62d9-38d9-4e67-a2a0-d0a16edc2a07');\n",
              "          const dataTable =\n",
              "            await google.colab.kernel.invokeFunction('convertToInteractive',\n",
              "                                                     [key], {});\n",
              "          if (!dataTable) return;\n",
              "\n",
              "          const docLinkHtml = 'Like what you see? Visit the ' +\n",
              "            '<a target=\"_blank\" href=https://colab.research.google.com/notebooks/data_table.ipynb>data table notebook</a>'\n",
              "            + ' to learn more about interactive tables.';\n",
              "          element.innerHTML = '';\n",
              "          dataTable['output_type'] = 'display_data';\n",
              "          await google.colab.output.renderOutput(dataTable, element);\n",
              "          const docLink = document.createElement('div');\n",
              "          docLink.innerHTML = docLinkHtml;\n",
              "          element.appendChild(docLink);\n",
              "        }\n",
              "      </script>\n",
              "    </div>\n",
              "  </div>\n",
              "  "
            ]
          },
          "metadata": {},
          "execution_count": 850
        }
      ]
    },
    {
      "cell_type": "markdown",
      "metadata": {
        "id": "BRecEwtZRbRo"
      },
      "source": [
        "## Correlations between numerical variables."
      ]
    },
    {
      "cell_type": "code",
      "execution_count": 851,
      "metadata": {
        "id": "TCZwomStRbRo"
      },
      "outputs": [],
      "source": [
        "#numerical= ['ClaimNb', 'Exposure', 'LogVehPower', 'LogVehAge', 'LogDrivAge', 'LogDensity']\n",
        "\n",
        "#corr = ds[numerical].corr()\n",
        "#mask = np.zeros_like(corr, dtype=np.bool)\n",
        "#mask[np.triu_indices_from(mask)]= True\n",
        "\n",
        "#f, ax = plt.subplots(figsize=(15, 15))\n",
        "#heatmap = sns.heatmap(corr,\n",
        "#                      mask = mask,\n",
        "#                      square = True,\n",
        "#                      linewidths = .5,\n",
        "#                      #cmap = 'coolwarm',\n",
        "#                      vmin = -1,\n",
        "#                      vmax = 1,\n",
        "#                      annot = True,\n",
        "#                      annot_kws = {'size': 10})#\n",
        "\n",
        "#add the column names as labels\n",
        "#ax.set_yticklabels(corr.columns, rotation = 0)\n",
        "#ax.set_xticklabels(corr.columns, rotation = 0)\n",
        "#sns.set_style({'xtick.bottom': True}, {'ytick.left': True})"
      ]
    },
    {
      "cell_type": "code",
      "source": [
        "ds.columns"
      ],
      "metadata": {
        "colab": {
          "base_uri": "https://localhost:8080/"
        },
        "id": "IpldB7Aba5as",
        "outputId": "ea190622-f9e2-4f68-9808-11ab4b510f8d"
      },
      "execution_count": 852,
      "outputs": [
        {
          "output_type": "execute_result",
          "data": {
            "text/plain": [
              "Index(['LIMIT_BAL', 'SEX', 'EDUCATION', 'MARRIAGE', 'AGE', 'PAY_1', 'PAY_2',\n",
              "       'PAY_3', 'PAY_4', 'PAY_5', 'PAY_6', 'BILL_AMT1', 'BILL_AMT2',\n",
              "       'BILL_AMT3', 'BILL_AMT4', 'BILL_AMT5', 'BILL_AMT6', 'PAY_AMT1',\n",
              "       'PAY_AMT2', 'PAY_AMT3', 'PAY_AMT4', 'PAY_AMT5', 'PAY_AMT6', 'TARGET',\n",
              "       'Log_PAY_AMT1', 'Log_PAY_AMT2', 'Log_PAY_AMT3', 'Log_PAY_AMT4',\n",
              "       'Log_PAY_AMT5', 'Log_PAY_AMT6'],\n",
              "      dtype='object', name=0)"
            ]
          },
          "metadata": {},
          "execution_count": 852
        }
      ]
    },
    {
      "cell_type": "code",
      "execution_count": 853,
      "metadata": {
        "id": "vC-muEa-RbRp",
        "colab": {
          "base_uri": "https://localhost:8080/",
          "height": 1000
        },
        "outputId": "46d05e15-6d0c-4e97-9486-3f4a9dc03a4d"
      },
      "outputs": [
        {
          "output_type": "execute_result",
          "data": {
            "text/plain": [
              "<pandas.io.formats.style.Styler at 0x7f31a0f3ee50>"
            ],
            "text/html": [
              "<style type=\"text/css\">\n",
              "#T_c0610_row0_col0, #T_c0610_row1_col1, #T_c0610_row2_col2, #T_c0610_row3_col3, #T_c0610_row4_col4, #T_c0610_row5_col5, #T_c0610_row6_col6, #T_c0610_row7_col7, #T_c0610_row8_col8, #T_c0610_row9_col9, #T_c0610_row10_col10, #T_c0610_row11_col11, #T_c0610_row12_col12, #T_c0610_row13_col13, #T_c0610_row14_col14, #T_c0610_row15_col15, #T_c0610_row16_col16, #T_c0610_row17_col17, #T_c0610_row18_col18, #T_c0610_row19_col19, #T_c0610_row20_col20, #T_c0610_row21_col21, #T_c0610_row22_col22, #T_c0610_row23_col23, #T_c0610_row24_col24, #T_c0610_row25_col25, #T_c0610_row26_col26, #T_c0610_row27_col27, #T_c0610_row28_col28, #T_c0610_row29_col29 {\n",
              "  background-color: #b40426;\n",
              "  color: #f1f1f1;\n",
              "}\n",
              "#T_c0610_row0_col1, #T_c0610_row3_col20, #T_c0610_row3_col21, #T_c0610_row10_col12, #T_c0610_row24_col1, #T_c0610_row27_col5, #T_c0610_row28_col1 {\n",
              "  background-color: #5d7ce6;\n",
              "  color: #f1f1f1;\n",
              "}\n",
              "#T_c0610_row0_col2, #T_c0610_row2_col12, #T_c0610_row2_col13, #T_c0610_row2_col14, #T_c0610_row2_col15, #T_c0610_row2_col16, #T_c0610_row3_col4, #T_c0610_row3_col11, #T_c0610_row3_col12, #T_c0610_row3_col13, #T_c0610_row4_col1, #T_c0610_row4_col3, #T_c0610_row6_col0, #T_c0610_row6_col17, #T_c0610_row6_col24, #T_c0610_row7_col0, #T_c0610_row7_col18, #T_c0610_row7_col25, #T_c0610_row8_col19, #T_c0610_row8_col26, #T_c0610_row9_col20, #T_c0610_row9_col27, #T_c0610_row10_col21, #T_c0610_row10_col22, #T_c0610_row10_col28, #T_c0610_row10_col29, #T_c0610_row24_col5, #T_c0610_row24_col6, #T_c0610_row24_col23, #T_c0610_row25_col7, #T_c0610_row26_col8, #T_c0610_row27_col9, #T_c0610_row28_col10 {\n",
              "  background-color: #3b4cc0;\n",
              "  color: #f1f1f1;\n",
              "}\n",
              "#T_c0610_row0_col3, #T_c0610_row9_col24, #T_c0610_row10_col27, #T_c0610_row11_col18, #T_c0610_row12_col18, #T_c0610_row22_col11, #T_c0610_row27_col19, #T_c0610_row28_col19, #T_c0610_row28_col20 {\n",
              "  background-color: #82a6fb;\n",
              "  color: #f1f1f1;\n",
              "}\n",
              "#T_c0610_row0_col4, #T_c0610_row4_col25, #T_c0610_row17_col0, #T_c0610_row18_col0, #T_c0610_row22_col27, #T_c0610_row28_col16 {\n",
              "  background-color: #b9d0f9;\n",
              "  color: #000000;\n",
              "}\n",
              "#T_c0610_row0_col5, #T_c0610_row5_col19, #T_c0610_row6_col20, #T_c0610_row6_col21, #T_c0610_row7_col21 {\n",
              "  background-color: #4a63d3;\n",
              "  color: #f1f1f1;\n",
              "}\n",
              "#T_c0610_row0_col6, #T_c0610_row20_col13, #T_c0610_row21_col10, #T_c0610_row22_col5 {\n",
              "  background-color: #7699f6;\n",
              "  color: #f1f1f1;\n",
              "}\n",
              "#T_c0610_row0_col7, #T_c0610_row1_col5, #T_c0610_row5_col26, #T_c0610_row20_col11, #T_c0610_row21_col12, #T_c0610_row21_col13, #T_c0610_row29_col9 {\n",
              "  background-color: #7b9ff9;\n",
              "  color: #f1f1f1;\n",
              "}\n",
              "#T_c0610_row0_col8, #T_c0610_row4_col29, #T_c0610_row5_col16, #T_c0610_row6_col27, #T_c0610_row10_col16, #T_c0610_row20_col5 {\n",
              "  background-color: #7295f4;\n",
              "  color: #f1f1f1;\n",
              "}\n",
              "#T_c0610_row0_col9, #T_c0610_row3_col23, #T_c0610_row4_col17, #T_c0610_row6_col15, #T_c0610_row11_col23, #T_c0610_row25_col6, #T_c0610_row27_col2 {\n",
              "  background-color: #6b8df0;\n",
              "  color: #f1f1f1;\n",
              "}\n",
              "#T_c0610_row0_col10, #T_c0610_row3_col17, #T_c0610_row4_col14, #T_c0610_row4_col15, #T_c0610_row7_col12, #T_c0610_row8_col13, #T_c0610_row10_col13 {\n",
              "  background-color: #6180e9;\n",
              "  color: #f1f1f1;\n",
              "}\n",
              "#T_c0610_row0_col11, #T_c0610_row0_col13, #T_c0610_row19_col25, #T_c0610_row20_col24, #T_c0610_row27_col20, #T_c0610_row28_col21 {\n",
              "  background-color: #c7d7f0;\n",
              "  color: #000000;\n",
              "}\n",
              "#T_c0610_row0_col12, #T_c0610_row2_col6, #T_c0610_row2_col7, #T_c0610_row16_col7, #T_c0610_row21_col24, #T_c0610_row22_col24, #T_c0610_row24_col17 {\n",
              "  background-color: #c6d6f1;\n",
              "  color: #000000;\n",
              "}\n",
              "#T_c0610_row0_col14, #T_c0610_row2_col4, #T_c0610_row17_col18 {\n",
              "  background-color: #cbd8ee;\n",
              "  color: #000000;\n",
              "}\n",
              "#T_c0610_row0_col15, #T_c0610_row17_col25, #T_c0610_row26_col27 {\n",
              "  background-color: #ccd9ed;\n",
              "  color: #000000;\n",
              "}\n",
              "#T_c0610_row0_col16, #T_c0610_row7_col23, #T_c0610_row17_col26, #T_c0610_row19_col24, #T_c0610_row27_col29, #T_c0610_row29_col0 {\n",
              "  background-color: #c9d7f0;\n",
              "  color: #000000;\n",
              "}\n",
              "#T_c0610_row0_col17, #T_c0610_row4_col27, #T_c0610_row27_col11, #T_c0610_row27_col12, #T_c0610_row27_col13, #T_c0610_row27_col14, #T_c0610_row28_col15, #T_c0610_row29_col13 {\n",
              "  background-color: #a6c4fe;\n",
              "  color: #000000;\n",
              "}\n",
              "#T_c0610_row0_col18, #T_c0610_row2_col25, #T_c0610_row4_col8, #T_c0610_row19_col4, #T_c0610_row20_col15, #T_c0610_row22_col7, #T_c0610_row26_col16, #T_c0610_row28_col12, #T_c0610_row29_col4, #T_c0610_row29_col11, #T_c0610_row29_col12 {\n",
              "  background-color: #a3c2fe;\n",
              "  color: #000000;\n",
              "}\n",
              "#T_c0610_row0_col19, #T_c0610_row0_col21, #T_c0610_row1_col7, #T_c0610_row2_col10, #T_c0610_row14_col17, #T_c0610_row15_col5, #T_c0610_row16_col5, #T_c0610_row21_col16 {\n",
              "  background-color: #a9c6fd;\n",
              "  color: #000000;\n",
              "}\n",
              "#T_c0610_row0_col20, #T_c0610_row1_col6, #T_c0610_row1_col27, #T_c0610_row2_col5, #T_c0610_row3_col26, #T_c0610_row14_col18, #T_c0610_row15_col17, #T_c0610_row19_col14, #T_c0610_row19_col20, #T_c0610_row20_col17, #T_c0610_row20_col19, #T_c0610_row25_col13, #T_c0610_row28_col13 {\n",
              "  background-color: #a5c3fe;\n",
              "  color: #000000;\n",
              "}\n",
              "#T_c0610_row0_col22, #T_c0610_row4_col28, #T_c0610_row17_col12, #T_c0610_row18_col8, #T_c0610_row19_col7 {\n",
              "  background-color: #9dbdff;\n",
              "  color: #000000;\n",
              "}\n",
              "#T_c0610_row0_col23, #T_c0610_row7_col19, #T_c0610_row23_col16 {\n",
              "  background-color: #455cce;\n",
              "  color: #f1f1f1;\n",
              "}\n",
              "#T_c0610_row0_col24, #T_c0610_row11_col24, #T_c0610_row11_col27 {\n",
              "  background-color: #dedcdb;\n",
              "  color: #000000;\n",
              "}\n",
              "#T_c0610_row0_col25, #T_c0610_row11_col25, #T_c0610_row13_col0, #T_c0610_row13_col24, #T_c0610_row23_col8 {\n",
              "  background-color: #e1dad6;\n",
              "  color: #000000;\n",
              "}\n",
              "#T_c0610_row0_col26, #T_c0610_row5_col23, #T_c0610_row16_col24, #T_c0610_row24_col27, #T_c0610_row29_col28 {\n",
              "  background-color: #dcdddd;\n",
              "  color: #000000;\n",
              "}\n",
              "#T_c0610_row0_col27, #T_c0610_row24_col25 {\n",
              "  background-color: #d6dce4;\n",
              "  color: #000000;\n",
              "}\n",
              "#T_c0610_row0_col28, #T_c0610_row23_col10, #T_c0610_row25_col28 {\n",
              "  background-color: #d3dbe7;\n",
              "  color: #000000;\n",
              "}\n",
              "#T_c0610_row0_col29, #T_c0610_row2_col8, #T_c0610_row10_col23, #T_c0610_row11_col29, #T_c0610_row12_col29, #T_c0610_row13_col8, #T_c0610_row14_col8, #T_c0610_row19_col0 {\n",
              "  background-color: #bcd2f7;\n",
              "  color: #000000;\n",
              "}\n",
              "#T_c0610_row1_col0, #T_c0610_row24_col21, #T_c0610_row25_col19, #T_c0610_row27_col18, #T_c0610_row27_col21, #T_c0610_row28_col18 {\n",
              "  background-color: #80a3fa;\n",
              "  color: #f1f1f1;\n",
              "}\n",
              "#T_c0610_row1_col2, #T_c0610_row21_col22, #T_c0610_row23_col24, #T_c0610_row23_col26, #T_c0610_row24_col18, #T_c0610_row25_col8, #T_c0610_row26_col6, #T_c0610_row26_col9 {\n",
              "  background-color: #7da0f9;\n",
              "  color: #f1f1f1;\n",
              "}\n",
              "#T_c0610_row1_col3, #T_c0610_row3_col28, #T_c0610_row8_col2, #T_c0610_row10_col4, #T_c0610_row11_col21, #T_c0610_row18_col14, #T_c0610_row20_col8, #T_c0610_row22_col17, #T_c0610_row23_col3 {\n",
              "  background-color: #93b5fe;\n",
              "  color: #000000;\n",
              "}\n",
              "#T_c0610_row1_col4, #T_c0610_row4_col5, #T_c0610_row8_col24, #T_c0610_row17_col22, #T_c0610_row18_col16, #T_c0610_row20_col22, #T_c0610_row22_col15, #T_c0610_row25_col21, #T_c0610_row26_col18, #T_c0610_row26_col21, #T_c0610_row28_col8 {\n",
              "  background-color: #81a4fb;\n",
              "  color: #f1f1f1;\n",
              "}\n",
              "#T_c0610_row1_col8, #T_c0610_row4_col0, #T_c0610_row7_col3, #T_c0610_row8_col3, #T_c0610_row9_col3, #T_c0610_row18_col13, #T_c0610_row20_col6, #T_c0610_row23_col4, #T_c0610_row25_col14, #T_c0610_row26_col13 {\n",
              "  background-color: #9ebeff;\n",
              "  color: #000000;\n",
              "}\n",
              "#T_c0610_row1_col9, #T_c0610_row6_col4, #T_c0610_row7_col2, #T_c0610_row8_col4, #T_c0610_row17_col13, #T_c0610_row24_col11, #T_c0610_row25_col16 {\n",
              "  background-color: #96b7ff;\n",
              "  color: #000000;\n",
              "}\n",
              "#T_c0610_row1_col10, #T_c0610_row9_col2, #T_c0610_row17_col29, #T_c0610_row21_col17, #T_c0610_row21_col20, #T_c0610_row26_col17 {\n",
              "  background-color: #8fb1fe;\n",
              "  color: #000000;\n",
              "}\n",
              "#T_c0610_row1_col11, #T_c0610_row1_col12, #T_c0610_row9_col0, #T_c0610_row10_col0, #T_c0610_row23_col22 {\n",
              "  background-color: #4257c9;\n",
              "  color: #f1f1f1;\n",
              "}\n",
              "#T_c0610_row1_col13, #T_c0610_row6_col29, #T_c0610_row26_col23 {\n",
              "  background-color: #4358cb;\n",
              "  color: #f1f1f1;\n",
              "}\n",
              "#T_c0610_row1_col14, #T_c0610_row6_col19, #T_c0610_row8_col20, #T_c0610_row9_col21, #T_c0610_row23_col15, #T_c0610_row25_col5 {\n",
              "  background-color: #465ecf;\n",
              "  color: #f1f1f1;\n",
              "}\n",
              "#T_c0610_row1_col15, #T_c0610_row5_col17, #T_c0610_row7_col20, #T_c0610_row8_col21, #T_c0610_row27_col23 {\n",
              "  background-color: #4961d2;\n",
              "  color: #f1f1f1;\n",
              "}\n",
              "#T_c0610_row1_col16, #T_c0610_row5_col18, #T_c0610_row5_col29 {\n",
              "  background-color: #485fd1;\n",
              "  color: #f1f1f1;\n",
              "}\n",
              "#T_c0610_row1_col17, #T_c0610_row9_col13, #T_c0610_row18_col23, #T_c0610_row26_col1 {\n",
              "  background-color: #6282ea;\n",
              "  color: #f1f1f1;\n",
              "}\n",
              "#T_c0610_row1_col18, #T_c0610_row1_col20, #T_c0610_row3_col0, #T_c0610_row3_col19, #T_c0610_row4_col11, #T_c0610_row4_col16, #T_c0610_row7_col13, #T_c0610_row17_col23, #T_c0610_row25_col1 {\n",
              "  background-color: #5f7fe8;\n",
              "  color: #f1f1f1;\n",
              "}\n",
              "#T_c0610_row1_col19, #T_c0610_row3_col18, #T_c0610_row4_col12, #T_c0610_row4_col13, #T_c0610_row27_col1 {\n",
              "  background-color: #5e7de7;\n",
              "  color: #f1f1f1;\n",
              "}\n",
              "#T_c0610_row1_col21, #T_c0610_row2_col1, #T_c0610_row9_col12 {\n",
              "  background-color: #5b7ae5;\n",
              "  color: #f1f1f1;\n",
              "}\n",
              "#T_c0610_row1_col22, #T_c0610_row10_col18, #T_c0610_row23_col20, #T_c0610_row28_col23 {\n",
              "  background-color: #4f69d9;\n",
              "  color: #f1f1f1;\n",
              "}\n",
              "#T_c0610_row1_col23, #T_c0610_row4_col19, #T_c0610_row5_col24, #T_c0610_row6_col16, #T_c0610_row9_col28, #T_c0610_row10_col14, #T_c0610_row14_col2, #T_c0610_row16_col2, #T_c0610_row18_col11, #T_c0610_row18_col12, #T_c0610_row26_col2, #T_c0610_row28_col2, #T_c0610_row29_col2 {\n",
              "  background-color: #6a8bef;\n",
              "  color: #f1f1f1;\n",
              "}\n",
              "#T_c0610_row1_col24, #T_c0610_row4_col2, #T_c0610_row12_col17, #T_c0610_row17_col19, #T_c0610_row19_col28, #T_c0610_row20_col28 {\n",
              "  background-color: #b3cdfb;\n",
              "  color: #000000;\n",
              "}\n",
              "#T_c0610_row1_col25, #T_c0610_row12_col8, #T_c0610_row15_col10, #T_c0610_row16_col10, #T_c0610_row16_col21, #T_c0610_row17_col28, #T_c0610_row18_col19, #T_c0610_row25_col29, #T_c0610_row26_col29 {\n",
              "  background-color: #b7cff9;\n",
              "  color: #000000;\n",
              "}\n",
              "#T_c0610_row1_col26, #T_c0610_row3_col25, #T_c0610_row12_col9, #T_c0610_row13_col18, #T_c0610_row14_col10 {\n",
              "  background-color: #b1cbfc;\n",
              "  color: #000000;\n",
              "}\n",
              "#T_c0610_row1_col28, #T_c0610_row2_col26, #T_c0610_row3_col10, #T_c0610_row3_col27, #T_c0610_row5_col3, #T_c0610_row6_col3, #T_c0610_row15_col18, #T_c0610_row19_col15, #T_c0610_row24_col3, #T_c0610_row24_col13, #T_c0610_row24_col14 {\n",
              "  background-color: #9bbcff;\n",
              "  color: #000000;\n",
              "}\n",
              "#T_c0610_row1_col29, #T_c0610_row6_col26, #T_c0610_row6_col28, #T_c0610_row16_col22, #T_c0610_row21_col5, #T_c0610_row26_col7, #T_c0610_row28_col9 {\n",
              "  background-color: #7597f6;\n",
              "  color: #f1f1f1;\n",
              "}\n",
              "#T_c0610_row2_col0, #T_c0610_row7_col22, #T_c0610_row7_col29 {\n",
              "  background-color: #3c4ec2;\n",
              "  color: #f1f1f1;\n",
              "}\n",
              "#T_c0610_row2_col3, #T_c0610_row5_col15, #T_c0610_row10_col15, #T_c0610_row20_col14, #T_c0610_row23_col28, #T_c0610_row25_col22 {\n",
              "  background-color: #7396f5;\n",
              "  color: #f1f1f1;\n",
              "}\n",
              "#T_c0610_row2_col9, #T_c0610_row4_col24, #T_c0610_row18_col28 {\n",
              "  background-color: #b2ccfb;\n",
              "  color: #000000;\n",
              "}\n",
              "#T_c0610_row2_col11, #T_c0610_row2_col22, #T_c0610_row6_col22, #T_c0610_row23_col11 {\n",
              "  background-color: #3d50c3;\n",
              "  color: #f1f1f1;\n",
              "}\n",
              "#T_c0610_row2_col17, #T_c0610_row9_col17, #T_c0610_row9_col18, #T_c0610_row10_col19 {\n",
              "  background-color: #516ddb;\n",
              "  color: #f1f1f1;\n",
              "}\n",
              "#T_c0610_row2_col18, #T_c0610_row2_col19, #T_c0610_row3_col1, #T_c0610_row3_col2, #T_c0610_row3_col22, #T_c0610_row10_col1, #T_c0610_row23_col17 {\n",
              "  background-color: #4e68d8;\n",
              "  color: #f1f1f1;\n",
              "}\n",
              "#T_c0610_row2_col20, #T_c0610_row8_col17, #T_c0610_row8_col18, #T_c0610_row23_col19, #T_c0610_row29_col23 {\n",
              "  background-color: #506bda;\n",
              "  color: #f1f1f1;\n",
              "}\n",
              "#T_c0610_row2_col21, #T_c0610_row5_col1, #T_c0610_row5_col21, #T_c0610_row9_col1, #T_c0610_row23_col0, #T_c0610_row23_col1, #T_c0610_row23_col18, #T_c0610_row23_col21 {\n",
              "  background-color: #4c66d6;\n",
              "  color: #f1f1f1;\n",
              "}\n",
              "#T_c0610_row2_col23, #T_c0610_row10_col26, #T_c0610_row22_col10, #T_c0610_row23_col25, #T_c0610_row24_col20, #T_c0610_row25_col20, #T_c0610_row27_col7, #T_c0610_row29_col8, #T_c0610_row29_col18 {\n",
              "  background-color: #84a7fc;\n",
              "  color: #f1f1f1;\n",
              "}\n",
              "#T_c0610_row2_col24, #T_c0610_row18_col20, #T_c0610_row20_col4, #T_c0610_row20_col7, #T_c0610_row21_col4, #T_c0610_row22_col6, #T_c0610_row28_col4 {\n",
              "  background-color: #a1c0ff;\n",
              "  color: #000000;\n",
              "}\n",
              "#T_c0610_row2_col27, #T_c0610_row7_col4, #T_c0610_row9_col4, #T_c0610_row11_col20, #T_c0610_row16_col18, #T_c0610_row17_col14, #T_c0610_row18_col7, #T_c0610_row18_col9, #T_c0610_row19_col9, #T_c0610_row19_col16, #T_c0610_row24_col16, #T_c0610_row25_col12 {\n",
              "  background-color: #94b6ff;\n",
              "  color: #000000;\n",
              "}\n",
              "#T_c0610_row2_col28, #T_c0610_row8_col25, #T_c0610_row15_col21, #T_c0610_row17_col16, #T_c0610_row17_col21, #T_c0610_row18_col10, #T_c0610_row18_col15, #T_c0610_row22_col21, #T_c0610_row25_col17, #T_c0610_row28_col17, #T_c0610_row29_col20 {\n",
              "  background-color: #89acfd;\n",
              "  color: #000000;\n",
              "}\n",
              "#T_c0610_row2_col29, #T_c0610_row18_col1, #T_c0610_row22_col1 {\n",
              "  background-color: #5875e1;\n",
              "  color: #f1f1f1;\n",
              "}\n",
              "#T_c0610_row3_col5, #T_c0610_row9_col25, #T_c0610_row10_col25, #T_c0610_row13_col19, #T_c0610_row19_col8, #T_c0610_row24_col19 {\n",
              "  background-color: #86a9fc;\n",
              "  color: #f1f1f1;\n",
              "}\n",
              "#T_c0610_row3_col6, #T_c0610_row22_col28, #T_c0610_row26_col14 {\n",
              "  background-color: #afcafc;\n",
              "  color: #000000;\n",
              "}\n",
              "#T_c0610_row3_col7, #T_c0610_row11_col8, #T_c0610_row13_col9, #T_c0610_row15_col20, #T_c0610_row19_col17, #T_c0610_row27_col15 {\n",
              "  background-color: #b5cdfa;\n",
              "  color: #000000;\n",
              "}\n",
              "#T_c0610_row3_col8, #T_c0610_row4_col6, #T_c0610_row12_col10, #T_c0610_row16_col20, #T_c0610_row29_col15 {\n",
              "  background-color: #aac7fd;\n",
              "  color: #000000;\n",
              "}\n",
              "#T_c0610_row3_col9, #T_c0610_row17_col4, #T_c0610_row17_col20, #T_c0610_row18_col4, #T_c0610_row21_col7, #T_c0610_row24_col12, #T_c0610_row25_col4, #T_c0610_row27_col4, #T_c0610_row28_col11 {\n",
              "  background-color: #a2c1ff;\n",
              "  color: #000000;\n",
              "}\n",
              "#T_c0610_row3_col14, #T_c0610_row3_col15, #T_c0610_row3_col16, #T_c0610_row5_col0, #T_c0610_row8_col0, #T_c0610_row8_col22, #T_c0610_row8_col29, #T_c0610_row9_col22, #T_c0610_row23_col12, #T_c0610_row25_col23 {\n",
              "  background-color: #3e51c5;\n",
              "  color: #f1f1f1;\n",
              "}\n",
              "#T_c0610_row3_col24, #T_c0610_row11_col4, #T_c0610_row11_col9, #T_c0610_row12_col4, #T_c0610_row13_col4, #T_c0610_row24_col29, #T_c0610_row27_col16 {\n",
              "  background-color: #aec9fc;\n",
              "  color: #000000;\n",
              "}\n",
              "#T_c0610_row3_col29, #T_c0610_row8_col27, #T_c0610_row20_col23, #T_c0610_row21_col23 {\n",
              "  background-color: #6384eb;\n",
              "  color: #f1f1f1;\n",
              "}\n",
              "#T_c0610_row4_col7, #T_c0610_row4_col26, #T_c0610_row13_col10, #T_c0610_row13_col17, #T_c0610_row14_col4, #T_c0610_row15_col4, #T_c0610_row15_col19, #T_c0610_row16_col4 {\n",
              "  background-color: #adc9fd;\n",
              "  color: #000000;\n",
              "}\n",
              "#T_c0610_row4_col9, #T_c0610_row5_col2, #T_c0610_row17_col3, #T_c0610_row18_col3, #T_c0610_row19_col3, #T_c0610_row19_col6, #T_c0610_row21_col3, #T_c0610_row22_col8, #T_c0610_row25_col15 {\n",
              "  background-color: #9abbff;\n",
              "  color: #000000;\n",
              "}\n",
              "#T_c0610_row4_col10, #T_c0610_row11_col3, #T_c0610_row11_col19, #T_c0610_row12_col19, #T_c0610_row12_col20, #T_c0610_row13_col3, #T_c0610_row14_col3, #T_c0610_row14_col21, #T_c0610_row15_col3, #T_c0610_row17_col9, #T_c0610_row17_col15, #T_c0610_row20_col29, #T_c0610_row22_col20, #T_c0610_row28_col6, #T_c0610_row28_col7, #T_c0610_row29_col6 {\n",
              "  background-color: #90b2fe;\n",
              "  color: #000000;\n",
              "}\n",
              "#T_c0610_row4_col18, #T_c0610_row4_col20, #T_c0610_row6_col14, #T_c0610_row7_col15, #T_c0610_row7_col16, #T_c0610_row7_col26, #T_c0610_row19_col2, #T_c0610_row21_col2, #T_c0610_row22_col2, #T_c0610_row22_col23, #T_c0610_row24_col2, #T_c0610_row25_col2, #T_c0610_row28_col5 {\n",
              "  background-color: #6788ee;\n",
              "  color: #f1f1f1;\n",
              "}\n",
              "#T_c0610_row4_col21, #T_c0610_row6_col12, #T_c0610_row6_col13, #T_c0610_row7_col14, #T_c0610_row8_col14, #T_c0610_row19_col23, #T_c0610_row29_col1 {\n",
              "  background-color: #6485ec;\n",
              "  color: #f1f1f1;\n",
              "}\n",
              "#T_c0610_row4_col22, #T_c0610_row7_col17, #T_c0610_row14_col1, #T_c0610_row15_col1, #T_c0610_row16_col1, #T_c0610_row19_col1, #T_c0610_row21_col1 {\n",
              "  background-color: #5572df;\n",
              "  color: #f1f1f1;\n",
              "}\n",
              "#T_c0610_row4_col23, #T_c0610_row19_col11, #T_c0610_row19_col12, #T_c0610_row21_col15 {\n",
              "  background-color: #779af7;\n",
              "  color: #f1f1f1;\n",
              "}\n",
              "#T_c0610_row5_col4, #T_c0610_row6_col2, #T_c0610_row21_col8, #T_c0610_row24_col15, #T_c0610_row27_col3, #T_c0610_row28_col3, #T_c0610_row29_col3 {\n",
              "  background-color: #97b8ff;\n",
              "  color: #000000;\n",
              "}\n",
              "#T_c0610_row5_col6 {\n",
              "  background-color: #eb7d62;\n",
              "  color: #f1f1f1;\n",
              "}\n",
              "#T_c0610_row5_col7 {\n",
              "  background-color: #f5a081;\n",
              "  color: #000000;\n",
              "}\n",
              "#T_c0610_row5_col8 {\n",
              "  background-color: #f7b093;\n",
              "  color: #000000;\n",
              "}\n",
              "#T_c0610_row5_col9 {\n",
              "  background-color: #f7bca1;\n",
              "  color: #000000;\n",
              "}\n",
              "#T_c0610_row5_col10 {\n",
              "  background-color: #f3c8b2;\n",
              "  color: #000000;\n",
              "}\n",
              "#T_c0610_row5_col11, #T_c0610_row5_col12, #T_c0610_row5_col13, #T_c0610_row9_col14, #T_c0610_row12_col23, #T_c0610_row13_col2, #T_c0610_row17_col5, #T_c0610_row24_col10, #T_c0610_row29_col10 {\n",
              "  background-color: #6c8ff1;\n",
              "  color: #f1f1f1;\n",
              "}\n",
              "#T_c0610_row5_col14, #T_c0610_row6_col25, #T_c0610_row9_col15, #T_c0610_row11_col2, #T_c0610_row12_col2, #T_c0610_row14_col23, #T_c0610_row18_col5, #T_c0610_row22_col16 {\n",
              "  background-color: #6f92f3;\n",
              "  color: #f1f1f1;\n",
              "}\n",
              "#T_c0610_row5_col20, #T_c0610_row6_col1, #T_c0610_row7_col1, #T_c0610_row8_col1 {\n",
              "  background-color: #4b64d5;\n",
              "  color: #f1f1f1;\n",
              "}\n",
              "#T_c0610_row5_col22, #T_c0610_row9_col29, #T_c0610_row23_col13 {\n",
              "  background-color: #3f53c6;\n",
              "  color: #f1f1f1;\n",
              "}\n",
              "#T_c0610_row5_col25, #T_c0610_row5_col27, #T_c0610_row5_col28 {\n",
              "  background-color: #7a9df8;\n",
              "  color: #f1f1f1;\n",
              "}\n",
              "#T_c0610_row6_col5 {\n",
              "  background-color: #f18d6f;\n",
              "  color: #f1f1f1;\n",
              "}\n",
              "#T_c0610_row6_col7, #T_c0610_row7_col8 {\n",
              "  background-color: #ee8669;\n",
              "  color: #f1f1f1;\n",
              "}\n",
              "#T_c0610_row6_col8, #T_c0610_row10_col7 {\n",
              "  background-color: #f7a98b;\n",
              "  color: #000000;\n",
              "}\n",
              "#T_c0610_row6_col9, #T_c0610_row7_col10 {\n",
              "  background-color: #f7b79b;\n",
              "  color: #000000;\n",
              "}\n",
              "#T_c0610_row6_col10 {\n",
              "  background-color: #f4c5ad;\n",
              "  color: #000000;\n",
              "}\n",
              "#T_c0610_row6_col11, #T_c0610_row25_col10, #T_c0610_row29_col5 {\n",
              "  background-color: #6687ed;\n",
              "  color: #f1f1f1;\n",
              "}\n",
              "#T_c0610_row6_col18, #T_c0610_row23_col14, #T_c0610_row23_col29 {\n",
              "  background-color: #445acc;\n",
              "  color: #f1f1f1;\n",
              "}\n",
              "#T_c0610_row6_col23, #T_c0610_row25_col26, #T_c0610_row28_col27 {\n",
              "  background-color: #cfdaea;\n",
              "  color: #000000;\n",
              "}\n",
              "#T_c0610_row7_col5 {\n",
              "  background-color: #f7b497;\n",
              "  color: #000000;\n",
              "}\n",
              "#T_c0610_row7_col6 {\n",
              "  background-color: #ef886b;\n",
              "  color: #f1f1f1;\n",
              "}\n",
              "#T_c0610_row7_col9 {\n",
              "  background-color: #f6a586;\n",
              "  color: #000000;\n",
              "}\n",
              "#T_c0610_row7_col11, #T_c0610_row8_col12 {\n",
              "  background-color: #5a78e4;\n",
              "  color: #f1f1f1;\n",
              "}\n",
              "#T_c0610_row7_col24, #T_c0610_row11_col22, #T_c0610_row14_col22, #T_c0610_row18_col22, #T_c0610_row19_col10, #T_c0610_row19_col21, #T_c0610_row29_col17 {\n",
              "  background-color: #8badfd;\n",
              "  color: #000000;\n",
              "}\n",
              "#T_c0610_row7_col27, #T_c0610_row8_col28, #T_c0610_row9_col16, #T_c0610_row13_col23, #T_c0610_row19_col13, #T_c0610_row27_col8, #T_c0610_row28_col22 {\n",
              "  background-color: #6e90f2;\n",
              "  color: #f1f1f1;\n",
              "}\n",
              "#T_c0610_row7_col28, #T_c0610_row15_col23, #T_c0610_row16_col23, #T_c0610_row17_col11, #T_c0610_row19_col5, #T_c0610_row24_col9, #T_c0610_row24_col22, #T_c0610_row25_col9, #T_c0610_row26_col10, #T_c0610_row26_col22, #T_c0610_row27_col22 {\n",
              "  background-color: #7093f3;\n",
              "  color: #f1f1f1;\n",
              "}\n",
              "#T_c0610_row8_col5 {\n",
              "  background-color: #f6bfa6;\n",
              "  color: #000000;\n",
              "}\n",
              "#T_c0610_row8_col6 {\n",
              "  background-color: #f7a688;\n",
              "  color: #000000;\n",
              "}\n",
              "#T_c0610_row8_col7 {\n",
              "  background-color: #ec8165;\n",
              "  color: #f1f1f1;\n",
              "}\n",
              "#T_c0610_row8_col9, #T_c0610_row10_col9, #T_c0610_row16_col11 {\n",
              "  background-color: #e9785d;\n",
              "  color: #f1f1f1;\n",
              "}\n",
              "#T_c0610_row8_col10 {\n",
              "  background-color: #f59f80;\n",
              "  color: #000000;\n",
              "}\n",
              "#T_c0610_row8_col11, #T_c0610_row17_col1, #T_c0610_row20_col1 {\n",
              "  background-color: #5673e0;\n",
              "  color: #f1f1f1;\n",
              "}\n",
              "#T_c0610_row8_col15, #T_c0610_row8_col16, #T_c0610_row15_col2, #T_c0610_row17_col2, #T_c0610_row18_col2, #T_c0610_row20_col2 {\n",
              "  background-color: #688aef;\n",
              "  color: #f1f1f1;\n",
              "}\n",
              "#T_c0610_row8_col23, #T_c0610_row11_col6, #T_c0610_row12_col6, #T_c0610_row12_col7, #T_c0610_row13_col6, #T_c0610_row13_col7, #T_c0610_row14_col6, #T_c0610_row14_col7, #T_c0610_row18_col24 {\n",
              "  background-color: #c4d5f3;\n",
              "  color: #000000;\n",
              "}\n",
              "#T_c0610_row9_col5 {\n",
              "  background-color: #f3c7b1;\n",
              "  color: #000000;\n",
              "}\n",
              "#T_c0610_row9_col6 {\n",
              "  background-color: #f7af91;\n",
              "  color: #000000;\n",
              "}\n",
              "#T_c0610_row9_col7 {\n",
              "  background-color: #f59d7e;\n",
              "  color: #000000;\n",
              "}\n",
              "#T_c0610_row9_col8, #T_c0610_row11_col16 {\n",
              "  background-color: #e8765c;\n",
              "  color: #f1f1f1;\n",
              "}\n",
              "#T_c0610_row9_col10 {\n",
              "  background-color: #ea7b60;\n",
              "  color: #f1f1f1;\n",
              "}\n",
              "#T_c0610_row9_col11, #T_c0610_row10_col11 {\n",
              "  background-color: #5977e3;\n",
              "  color: #f1f1f1;\n",
              "}\n",
              "#T_c0610_row9_col19, #T_c0610_row10_col17, #T_c0610_row11_col1, #T_c0610_row12_col1 {\n",
              "  background-color: #536edd;\n",
              "  color: #f1f1f1;\n",
              "}\n",
              "#T_c0610_row9_col23, #T_c0610_row21_col26, #T_c0610_row28_col29 {\n",
              "  background-color: #c1d4f4;\n",
              "  color: #000000;\n",
              "}\n",
              "#T_c0610_row9_col26, #T_c0610_row15_col22, #T_c0610_row22_col13, #T_c0610_row22_col14, #T_c0610_row27_col6, #T_c0610_row29_col19 {\n",
              "  background-color: #85a8fc;\n",
              "  color: #f1f1f1;\n",
              "}\n",
              "#T_c0610_row10_col2, #T_c0610_row11_col17, #T_c0610_row18_col29, #T_c0610_row19_col29, #T_c0610_row20_col10, #T_c0610_row20_col21, #T_c0610_row21_col9, #T_c0610_row27_col17 {\n",
              "  background-color: #8caffe;\n",
              "  color: #000000;\n",
              "}\n",
              "#T_c0610_row10_col3, #T_c0610_row16_col17, #T_c0610_row20_col18, #T_c0610_row21_col6, #T_c0610_row22_col4, #T_c0610_row24_col4, #T_c0610_row26_col4, #T_c0610_row26_col11, #T_c0610_row26_col12 {\n",
              "  background-color: #9fbfff;\n",
              "  color: #000000;\n",
              "}\n",
              "#T_c0610_row10_col5 {\n",
              "  background-color: #efcebd;\n",
              "  color: #000000;\n",
              "}\n",
              "#T_c0610_row10_col6 {\n",
              "  background-color: #f7ba9f;\n",
              "  color: #000000;\n",
              "}\n",
              "#T_c0610_row10_col8 {\n",
              "  background-color: #f39778;\n",
              "  color: #000000;\n",
              "}\n",
              "#T_c0610_row10_col20, #T_c0610_row13_col1, #T_c0610_row26_col5 {\n",
              "  background-color: #5470de;\n",
              "  color: #f1f1f1;\n",
              "}\n",
              "#T_c0610_row10_col24, #T_c0610_row12_col22, #T_c0610_row14_col20, #T_c0610_row17_col10, #T_c0610_row18_col21, #T_c0610_row21_col18, #T_c0610_row23_col2, #T_c0610_row29_col21 {\n",
              "  background-color: #88abfd;\n",
              "  color: #000000;\n",
              "}\n",
              "#T_c0610_row11_col0, #T_c0610_row15_col26, #T_c0610_row16_col27, #T_c0610_row25_col27, #T_c0610_row28_col25 {\n",
              "  background-color: #e2dad5;\n",
              "  color: #000000;\n",
              "}\n",
              "#T_c0610_row11_col5, #T_c0610_row11_col10, #T_c0610_row12_col5, #T_c0610_row13_col5, #T_c0610_row14_col5, #T_c0610_row16_col19, #T_c0610_row17_col7, #T_c0610_row26_col15, #T_c0610_row28_col14, #T_c0610_row29_col14 {\n",
              "  background-color: #a7c5fe;\n",
              "  color: #000000;\n",
              "}\n",
              "#T_c0610_row11_col7, #T_c0610_row16_col29, #T_c0610_row17_col27, #T_c0610_row18_col26, #T_c0610_row22_col26, #T_c0610_row25_col0, #T_c0610_row26_col0, #T_c0610_row26_col19, #T_c0610_row28_col0 {\n",
              "  background-color: #c0d4f5;\n",
              "  color: #000000;\n",
              "}\n",
              "#T_c0610_row11_col12, #T_c0610_row12_col11 {\n",
              "  background-color: #c12b30;\n",
              "  color: #f1f1f1;\n",
              "}\n",
              "#T_c0610_row11_col13, #T_c0610_row13_col11 {\n",
              "  background-color: #d0473d;\n",
              "  color: #f1f1f1;\n",
              "}\n",
              "#T_c0610_row11_col14, #T_c0610_row12_col15, #T_c0610_row14_col11 {\n",
              "  background-color: #dc5d4a;\n",
              "  color: #f1f1f1;\n",
              "}\n",
              "#T_c0610_row11_col15 {\n",
              "  background-color: #e26952;\n",
              "  color: #f1f1f1;\n",
              "}\n",
              "#T_c0610_row11_col26, #T_c0610_row12_col0, #T_c0610_row12_col25, #T_c0610_row12_col26, #T_c0610_row14_col24, #T_c0610_row15_col25, #T_c0610_row16_col0, #T_c0610_row16_col26 {\n",
              "  background-color: #e0dbd8;\n",
              "  color: #000000;\n",
              "}\n",
              "#T_c0610_row11_col28, #T_c0610_row15_col28 {\n",
              "  background-color: #d8dce2;\n",
              "  color: #000000;\n",
              "}\n",
              "#T_c0610_row12_col3, #T_c0610_row12_col21, #T_c0610_row13_col21, #T_c0610_row16_col3, #T_c0610_row21_col29, #T_c0610_row22_col9 {\n",
              "  background-color: #92b4fe;\n",
              "  color: #000000;\n",
              "}\n",
              "#T_c0610_row12_col13, #T_c0610_row13_col12, #T_c0610_row14_col15, #T_c0610_row15_col14 {\n",
              "  background-color: #c73635;\n",
              "  color: #f1f1f1;\n",
              "}\n",
              "#T_c0610_row12_col14, #T_c0610_row13_col15, #T_c0610_row14_col12, #T_c0610_row15_col13 {\n",
              "  background-color: #d44e41;\n",
              "  color: #f1f1f1;\n",
              "}\n",
              "#T_c0610_row12_col16, #T_c0610_row15_col11, #T_c0610_row16_col12 {\n",
              "  background-color: #e36b54;\n",
              "  color: #f1f1f1;\n",
              "}\n",
              "#T_c0610_row12_col24, #T_c0610_row15_col27, #T_c0610_row28_col26, #T_c0610_row29_col27 {\n",
              "  background-color: #e5d8d1;\n",
              "  color: #000000;\n",
              "}\n",
              "#T_c0610_row12_col27, #T_c0610_row13_col26, #T_c0610_row13_col27, #T_c0610_row16_col25, #T_c0610_row28_col24, #T_c0610_row29_col26 {\n",
              "  background-color: #dfdbd9;\n",
              "  color: #000000;\n",
              "}\n",
              "#T_c0610_row12_col28, #T_c0610_row13_col28, #T_c0610_row14_col28 {\n",
              "  background-color: #d9dce1;\n",
              "  color: #000000;\n",
              "}\n",
              "#T_c0610_row13_col14, #T_c0610_row14_col13 {\n",
              "  background-color: #c83836;\n",
              "  color: #f1f1f1;\n",
              "}\n",
              "#T_c0610_row13_col16, #T_c0610_row15_col12 {\n",
              "  background-color: #dd5f4b;\n",
              "  color: #f1f1f1;\n",
              "}\n",
              "#T_c0610_row13_col20, #T_c0610_row13_col22, #T_c0610_row17_col6, #T_c0610_row21_col19, #T_c0610_row22_col19, #T_c0610_row24_col7, #T_c0610_row29_col7 {\n",
              "  background-color: #8db0fe;\n",
              "  color: #000000;\n",
              "}\n",
              "#T_c0610_row13_col25, #T_c0610_row19_col26, #T_c0610_row24_col26 {\n",
              "  background-color: #e7d7ce;\n",
              "  color: #000000;\n",
              "}\n",
              "#T_c0610_row13_col29, #T_c0610_row15_col29, #T_c0610_row21_col0, #T_c0610_row27_col0 {\n",
              "  background-color: #bfd3f6;\n",
              "  color: #000000;\n",
              "}\n",
              "#T_c0610_row14_col0, #T_c0610_row14_col25, #T_c0610_row15_col0, #T_c0610_row16_col28 {\n",
              "  background-color: #e3d9d3;\n",
              "  color: #000000;\n",
              "}\n",
              "#T_c0610_row14_col9, #T_c0610_row18_col27, #T_c0610_row19_col27, #T_c0610_row20_col0, #T_c0610_row25_col18, #T_c0610_row29_col22 {\n",
              "  background-color: #bad0f8;\n",
              "  color: #000000;\n",
              "}\n",
              "#T_c0610_row14_col16, #T_c0610_row16_col14 {\n",
              "  background-color: #d24b40;\n",
              "  color: #f1f1f1;\n",
              "}\n",
              "#T_c0610_row14_col19, #T_c0610_row19_col18 {\n",
              "  background-color: #b6cefa;\n",
              "  color: #000000;\n",
              "}\n",
              "#T_c0610_row14_col26 {\n",
              "  background-color: #e6d7cf;\n",
              "  color: #000000;\n",
              "}\n",
              "#T_c0610_row14_col27, #T_c0610_row15_col24, #T_c0610_row26_col28, #T_c0610_row29_col24 {\n",
              "  background-color: #dddcdc;\n",
              "  color: #000000;\n",
              "}\n",
              "#T_c0610_row14_col29, #T_c0610_row15_col8, #T_c0610_row16_col8, #T_c0610_row20_col26, #T_c0610_row22_col0, #T_c0610_row24_col0 {\n",
              "  background-color: #bed2f6;\n",
              "  color: #000000;\n",
              "}\n",
              "#T_c0610_row15_col6, #T_c0610_row15_col7, #T_c0610_row16_col6 {\n",
              "  background-color: #c5d6f2;\n",
              "  color: #000000;\n",
              "}\n",
              "#T_c0610_row15_col9, #T_c0610_row16_col9, #T_c0610_row21_col27 {\n",
              "  background-color: #bbd1f8;\n",
              "  color: #000000;\n",
              "}\n",
              "#T_c0610_row15_col16 {\n",
              "  background-color: #c53334;\n",
              "  color: #f1f1f1;\n",
              "}\n",
              "#T_c0610_row16_col13 {\n",
              "  background-color: #de614d;\n",
              "  color: #f1f1f1;\n",
              "}\n",
              "#T_c0610_row16_col15 {\n",
              "  background-color: #c43032;\n",
              "  color: #f1f1f1;\n",
              "}\n",
              "#T_c0610_row17_col8, #T_c0610_row18_col6, #T_c0610_row20_col3, #T_c0610_row20_col16, #T_c0610_row22_col3, #T_c0610_row22_col18, #T_c0610_row25_col3, #T_c0610_row25_col11, #T_c0610_row26_col3 {\n",
              "  background-color: #98b9ff;\n",
              "  color: #000000;\n",
              "}\n",
              "#T_c0610_row17_col24, #T_c0610_row23_col6 {\n",
              "  background-color: #ecd3c5;\n",
              "  color: #000000;\n",
              "}\n",
              "#T_c0610_row18_col17 {\n",
              "  background-color: #cdd9ec;\n",
              "  color: #000000;\n",
              "}\n",
              "#T_c0610_row18_col25, #T_c0610_row23_col7 {\n",
              "  background-color: #e9d5cb;\n",
              "  color: #000000;\n",
              "}\n",
              "#T_c0610_row19_col22, #T_c0610_row20_col9, #T_c0610_row21_col11, #T_c0610_row21_col14, #T_c0610_row22_col12, #T_c0610_row26_col20 {\n",
              "  background-color: #7ea1fa;\n",
              "  color: #f1f1f1;\n",
              "}\n",
              "#T_c0610_row20_col12, #T_c0610_row23_col27, #T_c0610_row24_col8, #T_c0610_row27_col10 {\n",
              "  background-color: #799cf8;\n",
              "  color: #f1f1f1;\n",
              "}\n",
              "#T_c0610_row20_col25, #T_c0610_row21_col25, #T_c0610_row22_col25, #T_c0610_row22_col29, #T_c0610_row27_col28 {\n",
              "  background-color: #cad8ef;\n",
              "  color: #000000;\n",
              "}\n",
              "#T_c0610_row20_col27 {\n",
              "  background-color: #e8d6cc;\n",
              "  color: #000000;\n",
              "}\n",
              "#T_c0610_row21_col28, #T_c0610_row23_col5, #T_c0610_row27_col24, #T_c0610_row29_col25 {\n",
              "  background-color: #e4d9d2;\n",
              "  color: #000000;\n",
              "}\n",
              "#T_c0610_row23_col9 {\n",
              "  background-color: #dbdcde;\n",
              "  color: #000000;\n",
              "}\n",
              "#T_c0610_row24_col28, #T_c0610_row27_col26 {\n",
              "  background-color: #d2dbe8;\n",
              "  color: #000000;\n",
              "}\n",
              "#T_c0610_row25_col24 {\n",
              "  background-color: #d4dbe6;\n",
              "  color: #000000;\n",
              "}\n",
              "#T_c0610_row26_col24 {\n",
              "  background-color: #ead5c9;\n",
              "  color: #000000;\n",
              "}\n",
              "#T_c0610_row26_col25 {\n",
              "  background-color: #d7dce3;\n",
              "  color: #000000;\n",
              "}\n",
              "#T_c0610_row27_col25 {\n",
              "  background-color: #ead4c8;\n",
              "  color: #000000;\n",
              "}\n",
              "#T_c0610_row29_col16 {\n",
              "  background-color: #abc8fd;\n",
              "  color: #000000;\n",
              "}\n",
              "</style>\n",
              "<table id=\"T_c0610_\" class=\"dataframe\">\n",
              "  <thead>\n",
              "    <tr>\n",
              "      <th class=\"index_name level0\" >0</th>\n",
              "      <th class=\"col_heading level0 col0\" >LIMIT_BAL</th>\n",
              "      <th class=\"col_heading level0 col1\" >SEX</th>\n",
              "      <th class=\"col_heading level0 col2\" >EDUCATION</th>\n",
              "      <th class=\"col_heading level0 col3\" >MARRIAGE</th>\n",
              "      <th class=\"col_heading level0 col4\" >AGE</th>\n",
              "      <th class=\"col_heading level0 col5\" >PAY_1</th>\n",
              "      <th class=\"col_heading level0 col6\" >PAY_2</th>\n",
              "      <th class=\"col_heading level0 col7\" >PAY_3</th>\n",
              "      <th class=\"col_heading level0 col8\" >PAY_4</th>\n",
              "      <th class=\"col_heading level0 col9\" >PAY_5</th>\n",
              "      <th class=\"col_heading level0 col10\" >PAY_6</th>\n",
              "      <th class=\"col_heading level0 col11\" >BILL_AMT1</th>\n",
              "      <th class=\"col_heading level0 col12\" >BILL_AMT2</th>\n",
              "      <th class=\"col_heading level0 col13\" >BILL_AMT3</th>\n",
              "      <th class=\"col_heading level0 col14\" >BILL_AMT4</th>\n",
              "      <th class=\"col_heading level0 col15\" >BILL_AMT5</th>\n",
              "      <th class=\"col_heading level0 col16\" >BILL_AMT6</th>\n",
              "      <th class=\"col_heading level0 col17\" >PAY_AMT1</th>\n",
              "      <th class=\"col_heading level0 col18\" >PAY_AMT2</th>\n",
              "      <th class=\"col_heading level0 col19\" >PAY_AMT3</th>\n",
              "      <th class=\"col_heading level0 col20\" >PAY_AMT4</th>\n",
              "      <th class=\"col_heading level0 col21\" >PAY_AMT5</th>\n",
              "      <th class=\"col_heading level0 col22\" >PAY_AMT6</th>\n",
              "      <th class=\"col_heading level0 col23\" >TARGET</th>\n",
              "      <th class=\"col_heading level0 col24\" >Log_PAY_AMT1</th>\n",
              "      <th class=\"col_heading level0 col25\" >Log_PAY_AMT2</th>\n",
              "      <th class=\"col_heading level0 col26\" >Log_PAY_AMT3</th>\n",
              "      <th class=\"col_heading level0 col27\" >Log_PAY_AMT4</th>\n",
              "      <th class=\"col_heading level0 col28\" >Log_PAY_AMT5</th>\n",
              "      <th class=\"col_heading level0 col29\" >Log_PAY_AMT6</th>\n",
              "    </tr>\n",
              "    <tr>\n",
              "      <th class=\"index_name level0\" >0</th>\n",
              "      <th class=\"blank col0\" >&nbsp;</th>\n",
              "      <th class=\"blank col1\" >&nbsp;</th>\n",
              "      <th class=\"blank col2\" >&nbsp;</th>\n",
              "      <th class=\"blank col3\" >&nbsp;</th>\n",
              "      <th class=\"blank col4\" >&nbsp;</th>\n",
              "      <th class=\"blank col5\" >&nbsp;</th>\n",
              "      <th class=\"blank col6\" >&nbsp;</th>\n",
              "      <th class=\"blank col7\" >&nbsp;</th>\n",
              "      <th class=\"blank col8\" >&nbsp;</th>\n",
              "      <th class=\"blank col9\" >&nbsp;</th>\n",
              "      <th class=\"blank col10\" >&nbsp;</th>\n",
              "      <th class=\"blank col11\" >&nbsp;</th>\n",
              "      <th class=\"blank col12\" >&nbsp;</th>\n",
              "      <th class=\"blank col13\" >&nbsp;</th>\n",
              "      <th class=\"blank col14\" >&nbsp;</th>\n",
              "      <th class=\"blank col15\" >&nbsp;</th>\n",
              "      <th class=\"blank col16\" >&nbsp;</th>\n",
              "      <th class=\"blank col17\" >&nbsp;</th>\n",
              "      <th class=\"blank col18\" >&nbsp;</th>\n",
              "      <th class=\"blank col19\" >&nbsp;</th>\n",
              "      <th class=\"blank col20\" >&nbsp;</th>\n",
              "      <th class=\"blank col21\" >&nbsp;</th>\n",
              "      <th class=\"blank col22\" >&nbsp;</th>\n",
              "      <th class=\"blank col23\" >&nbsp;</th>\n",
              "      <th class=\"blank col24\" >&nbsp;</th>\n",
              "      <th class=\"blank col25\" >&nbsp;</th>\n",
              "      <th class=\"blank col26\" >&nbsp;</th>\n",
              "      <th class=\"blank col27\" >&nbsp;</th>\n",
              "      <th class=\"blank col28\" >&nbsp;</th>\n",
              "      <th class=\"blank col29\" >&nbsp;</th>\n",
              "    </tr>\n",
              "  </thead>\n",
              "  <tbody>\n",
              "    <tr>\n",
              "      <th id=\"T_c0610_level0_row0\" class=\"row_heading level0 row0\" >LIMIT_BAL</th>\n",
              "      <td id=\"T_c0610_row0_col0\" class=\"data row0 col0\" >1.000000</td>\n",
              "      <td id=\"T_c0610_row0_col1\" class=\"data row0 col1\" >0.019349</td>\n",
              "      <td id=\"T_c0610_row0_col2\" class=\"data row0 col2\" >-0.240076</td>\n",
              "      <td id=\"T_c0610_row0_col3\" class=\"data row0 col3\" >-0.098033</td>\n",
              "      <td id=\"T_c0610_row0_col4\" class=\"data row0 col4\" >0.123500</td>\n",
              "      <td id=\"T_c0610_row0_col5\" class=\"data row0 col5\" >-0.231224</td>\n",
              "      <td id=\"T_c0610_row0_col6\" class=\"data row0 col6\" >-0.247163</td>\n",
              "      <td id=\"T_c0610_row0_col7\" class=\"data row0 col7\" >-0.243548</td>\n",
              "      <td id=\"T_c0610_row0_col8\" class=\"data row0 col8\" >-0.231040</td>\n",
              "      <td id=\"T_c0610_row0_col9\" class=\"data row0 col9\" >-0.215870</td>\n",
              "      <td id=\"T_c0610_row0_col10\" class=\"data row0 col10\" >-0.214777</td>\n",
              "      <td id=\"T_c0610_row0_col11\" class=\"data row0 col11\" >0.401205</td>\n",
              "      <td id=\"T_c0610_row0_col12\" class=\"data row0 col12\" >0.395235</td>\n",
              "      <td id=\"T_c0610_row0_col13\" class=\"data row0 col13\" >0.399863</td>\n",
              "      <td id=\"T_c0610_row0_col14\" class=\"data row0 col14\" >0.406947</td>\n",
              "      <td id=\"T_c0610_row0_col15\" class=\"data row0 col15\" >0.405660</td>\n",
              "      <td id=\"T_c0610_row0_col16\" class=\"data row0 col16\" >0.395285</td>\n",
              "      <td id=\"T_c0610_row0_col17\" class=\"data row0 col17\" >0.223196</td>\n",
              "      <td id=\"T_c0610_row0_col18\" class=\"data row0 col18\" >0.223476</td>\n",
              "      <td id=\"T_c0610_row0_col19\" class=\"data row0 col19\" >0.237088</td>\n",
              "      <td id=\"T_c0610_row0_col20\" class=\"data row0 col20\" >0.226402</td>\n",
              "      <td id=\"T_c0610_row0_col21\" class=\"data row0 col21\" >0.246167</td>\n",
              "      <td id=\"T_c0610_row0_col22\" class=\"data row0 col22\" >0.240682</td>\n",
              "      <td id=\"T_c0610_row0_col23\" class=\"data row0 col23\" >-0.173595</td>\n",
              "      <td id=\"T_c0610_row0_col24\" class=\"data row0 col24\" >0.242100</td>\n",
              "      <td id=\"T_c0610_row0_col25\" class=\"data row0 col25\" >0.250210</td>\n",
              "      <td id=\"T_c0610_row0_col26\" class=\"data row0 col26\" >0.253487</td>\n",
              "      <td id=\"T_c0610_row0_col27\" class=\"data row0 col27\" >0.246574</td>\n",
              "      <td id=\"T_c0610_row0_col28\" class=\"data row0 col28\" >0.252646</td>\n",
              "      <td id=\"T_c0610_row0_col29\" class=\"data row0 col29\" >0.286340</td>\n",
              "    </tr>\n",
              "    <tr>\n",
              "      <th id=\"T_c0610_level0_row1\" class=\"row_heading level0 row1\" >SEX</th>\n",
              "      <td id=\"T_c0610_row1_col0\" class=\"data row1 col0\" >0.019349</td>\n",
              "      <td id=\"T_c0610_row1_col1\" class=\"data row1 col1\" >1.000000</td>\n",
              "      <td id=\"T_c0610_row1_col2\" class=\"data row1 col2\" >0.015067</td>\n",
              "      <td id=\"T_c0610_row1_col3\" class=\"data row1 col3\" >-0.033269</td>\n",
              "      <td id=\"T_c0610_row1_col4\" class=\"data row1 col4\" >-0.104694</td>\n",
              "      <td id=\"T_c0610_row1_col5\" class=\"data row1 col5\" >-0.037745</td>\n",
              "      <td id=\"T_c0610_row1_col6\" class=\"data row1 col6\" >-0.043282</td>\n",
              "      <td id=\"T_c0610_row1_col7\" class=\"data row1 col7\" >-0.041053</td>\n",
              "      <td id=\"T_c0610_row1_col8\" class=\"data row1 col8\" >-0.041116</td>\n",
              "      <td id=\"T_c0610_row1_col9\" class=\"data row1 col9\" >-0.039703</td>\n",
              "      <td id=\"T_c0610_row1_col10\" class=\"data row1 col10\" >-0.032220</td>\n",
              "      <td id=\"T_c0610_row1_col11\" class=\"data row1 col11\" >-0.015881</td>\n",
              "      <td id=\"T_c0610_row1_col12\" class=\"data row1 col12\" >-0.014452</td>\n",
              "      <td id=\"T_c0610_row1_col13\" class=\"data row1 col13\" >-0.010495</td>\n",
              "      <td id=\"T_c0610_row1_col14\" class=\"data row1 col14\" >-0.008951</td>\n",
              "      <td id=\"T_c0610_row1_col15\" class=\"data row1 col15\" >-0.006127</td>\n",
              "      <td id=\"T_c0610_row1_col16\" class=\"data row1 col16\" >-0.007041</td>\n",
              "      <td id=\"T_c0610_row1_col17\" class=\"data row1 col17\" >-0.001638</td>\n",
              "      <td id=\"T_c0610_row1_col18\" class=\"data row1 col18\" >-0.000939</td>\n",
              "      <td id=\"T_c0610_row1_col19\" class=\"data row1 col19\" >-0.007381</td>\n",
              "      <td id=\"T_c0610_row1_col20\" class=\"data row1 col20\" >-0.002598</td>\n",
              "      <td id=\"T_c0610_row1_col21\" class=\"data row1 col21\" >-0.006190</td>\n",
              "      <td id=\"T_c0610_row1_col22\" class=\"data row1 col22\" >0.000708</td>\n",
              "      <td id=\"T_c0610_row1_col23\" class=\"data row1 col23\" >-0.039121</td>\n",
              "      <td id=\"T_c0610_row1_col24\" class=\"data row1 col24\" >0.018164</td>\n",
              "      <td id=\"T_c0610_row1_col25\" class=\"data row1 col25\" >0.026421</td>\n",
              "      <td id=\"T_c0610_row1_col26\" class=\"data row1 col26\" >0.037330</td>\n",
              "      <td id=\"T_c0610_row1_col27\" class=\"data row1 col27\" >0.021663</td>\n",
              "      <td id=\"T_c0610_row1_col28\" class=\"data row1 col28\" >0.018058</td>\n",
              "      <td id=\"T_c0610_row1_col29\" class=\"data row1 col29\" >0.043671</td>\n",
              "    </tr>\n",
              "    <tr>\n",
              "      <th id=\"T_c0610_level0_row2\" class=\"row_heading level0 row2\" >EDUCATION</th>\n",
              "      <td id=\"T_c0610_row2_col0\" class=\"data row2 col0\" >-0.240076</td>\n",
              "      <td id=\"T_c0610_row2_col1\" class=\"data row2 col1\" >0.015067</td>\n",
              "      <td id=\"T_c0610_row2_col2\" class=\"data row2 col2\" >1.000000</td>\n",
              "      <td id=\"T_c0610_row2_col3\" class=\"data row2 col3\" >-0.159196</td>\n",
              "      <td id=\"T_c0610_row2_col4\" class=\"data row2 col4\" >0.206049</td>\n",
              "      <td id=\"T_c0610_row2_col5\" class=\"data row2 col5\" >0.115261</td>\n",
              "      <td id=\"T_c0610_row2_col6\" class=\"data row2 col6\" >0.108001</td>\n",
              "      <td id=\"T_c0610_row2_col7\" class=\"data row2 col7\" >0.099444</td>\n",
              "      <td id=\"T_c0610_row2_col8\" class=\"data row2 col8\" >0.092116</td>\n",
              "      <td id=\"T_c0610_row2_col9\" class=\"data row2 col9\" >0.076419</td>\n",
              "      <td id=\"T_c0610_row2_col10\" class=\"data row2 col10\" >0.069299</td>\n",
              "      <td id=\"T_c0610_row2_col11\" class=\"data row2 col11\" >-0.032231</td>\n",
              "      <td id=\"T_c0610_row2_col12\" class=\"data row2 col12\" >-0.035978</td>\n",
              "      <td id=\"T_c0610_row2_col13\" class=\"data row2 col13\" >-0.041544</td>\n",
              "      <td id=\"T_c0610_row2_col14\" class=\"data row2 col14\" >-0.054036</td>\n",
              "      <td id=\"T_c0610_row2_col15\" class=\"data row2 col15\" >-0.058170</td>\n",
              "      <td id=\"T_c0610_row2_col16\" class=\"data row2 col16\" >-0.054537</td>\n",
              "      <td id=\"T_c0610_row2_col17\" class=\"data row2 col17\" >-0.058814</td>\n",
              "      <td id=\"T_c0610_row2_col18\" class=\"data row2 col18\" >-0.059155</td>\n",
              "      <td id=\"T_c0610_row2_col19\" class=\"data row2 col19\" >-0.065303</td>\n",
              "      <td id=\"T_c0610_row2_col20\" class=\"data row2 col20\" >-0.056125</td>\n",
              "      <td id=\"T_c0610_row2_col21\" class=\"data row2 col21\" >-0.062032</td>\n",
              "      <td id=\"T_c0610_row2_col22\" class=\"data row2 col22\" >-0.063823</td>\n",
              "      <td id=\"T_c0610_row2_col23\" class=\"data row2 col23\" >0.051687</td>\n",
              "      <td id=\"T_c0610_row2_col24\" class=\"data row2 col24\" >-0.061343</td>\n",
              "      <td id=\"T_c0610_row2_col25\" class=\"data row2 col25\" >-0.064686</td>\n",
              "      <td id=\"T_c0610_row2_col26\" class=\"data row2 col26\" >-0.053312</td>\n",
              "      <td id=\"T_c0610_row2_col27\" class=\"data row2 col27\" >-0.048012</td>\n",
              "      <td id=\"T_c0610_row2_col28\" class=\"data row2 col28\" >-0.052637</td>\n",
              "      <td id=\"T_c0610_row2_col29\" class=\"data row2 col29\" >-0.055170</td>\n",
              "    </tr>\n",
              "    <tr>\n",
              "      <th id=\"T_c0610_level0_row3\" class=\"row_heading level0 row3\" >MARRIAGE</th>\n",
              "      <td id=\"T_c0610_row3_col0\" class=\"data row3 col0\" >-0.098033</td>\n",
              "      <td id=\"T_c0610_row3_col1\" class=\"data row3 col1\" >-0.033269</td>\n",
              "      <td id=\"T_c0610_row3_col2\" class=\"data row3 col2\" >-0.159196</td>\n",
              "      <td id=\"T_c0610_row3_col3\" class=\"data row3 col3\" >1.000000</td>\n",
              "      <td id=\"T_c0610_row3_col4\" class=\"data row3 col4\" >-0.408558</td>\n",
              "      <td id=\"T_c0610_row3_col5\" class=\"data row3 col5\" >0.001482</td>\n",
              "      <td id=\"T_c0610_row3_col6\" class=\"data row3 col6\" >0.000109</td>\n",
              "      <td id=\"T_c0610_row3_col7\" class=\"data row3 col7\" >0.011753</td>\n",
              "      <td id=\"T_c0610_row3_col8\" class=\"data row3 col8\" >0.011726</td>\n",
              "      <td id=\"T_c0610_row3_col9\" class=\"data row3 col9\" >0.012230</td>\n",
              "      <td id=\"T_c0610_row3_col10\" class=\"data row3 col10\" >0.015824</td>\n",
              "      <td id=\"T_c0610_row3_col11\" class=\"data row3 col11\" >-0.041413</td>\n",
              "      <td id=\"T_c0610_row3_col12\" class=\"data row3 col12\" >-0.039729</td>\n",
              "      <td id=\"T_c0610_row3_col13\" class=\"data row3 col13\" >-0.042112</td>\n",
              "      <td id=\"T_c0610_row3_col14\" class=\"data row3 col14\" >-0.040685</td>\n",
              "      <td id=\"T_c0610_row3_col15\" class=\"data row3 col15\" >-0.041762</td>\n",
              "      <td id=\"T_c0610_row3_col16\" class=\"data row3 col16\" >-0.038452</td>\n",
              "      <td id=\"T_c0610_row3_col17\" class=\"data row3 col17\" >-0.006462</td>\n",
              "      <td id=\"T_c0610_row3_col18\" class=\"data row3 col18\" >-0.004605</td>\n",
              "      <td id=\"T_c0610_row3_col19\" class=\"data row3 col19\" >-0.003336</td>\n",
              "      <td id=\"T_c0610_row3_col20\" class=\"data row3 col20\" >-0.010558</td>\n",
              "      <td id=\"T_c0610_row3_col21\" class=\"data row3 col21\" >-0.004278</td>\n",
              "      <td id=\"T_c0610_row3_col22\" class=\"data row3 col22\" >-0.007002</td>\n",
              "      <td id=\"T_c0610_row3_col23\" class=\"data row3 col23\" >-0.030420</td>\n",
              "      <td id=\"T_c0610_row3_col24\" class=\"data row3 col24\" >-0.001208</td>\n",
              "      <td id=\"T_c0610_row3_col25\" class=\"data row3 col25\" >-0.007888</td>\n",
              "      <td id=\"T_c0610_row3_col26\" class=\"data row3 col26\" >-0.011826</td>\n",
              "      <td id=\"T_c0610_row3_col27\" class=\"data row3 col27\" >-0.016057</td>\n",
              "      <td id=\"T_c0610_row3_col28\" class=\"data row3 col28\" >-0.013592</td>\n",
              "      <td id=\"T_c0610_row3_col29\" class=\"data row3 col29\" >-0.017792</td>\n",
              "    </tr>\n",
              "    <tr>\n",
              "      <th id=\"T_c0610_level0_row4\" class=\"row_heading level0 row4\" >AGE</th>\n",
              "      <td id=\"T_c0610_row4_col0\" class=\"data row4 col0\" >0.123500</td>\n",
              "      <td id=\"T_c0610_row4_col1\" class=\"data row4 col1\" >-0.104694</td>\n",
              "      <td id=\"T_c0610_row4_col2\" class=\"data row4 col2\" >0.206049</td>\n",
              "      <td id=\"T_c0610_row4_col3\" class=\"data row4 col3\" >-0.408558</td>\n",
              "      <td id=\"T_c0610_row4_col4\" class=\"data row4 col4\" >1.000000</td>\n",
              "      <td id=\"T_c0610_row4_col5\" class=\"data row4 col5\" >-0.016738</td>\n",
              "      <td id=\"T_c0610_row4_col6\" class=\"data row4 col6\" >-0.020809</td>\n",
              "      <td id=\"T_c0610_row4_col7\" class=\"data row4 col7\" >-0.026326</td>\n",
              "      <td id=\"T_c0610_row4_col8\" class=\"data row4 col8\" >-0.020912</td>\n",
              "      <td id=\"T_c0610_row4_col9\" class=\"data row4 col9\" >-0.026311</td>\n",
              "      <td id=\"T_c0610_row4_col10\" class=\"data row4 col10\" >-0.028964</td>\n",
              "      <td id=\"T_c0610_row4_col11\" class=\"data row4 col11\" >0.080695</td>\n",
              "      <td id=\"T_c0610_row4_col12\" class=\"data row4 col12\" >0.078205</td>\n",
              "      <td id=\"T_c0610_row4_col13\" class=\"data row4 col13\" >0.078653</td>\n",
              "      <td id=\"T_c0610_row4_col14\" class=\"data row4 col14\" >0.075462</td>\n",
              "      <td id=\"T_c0610_row4_col15\" class=\"data row4 col15\" >0.072856</td>\n",
              "      <td id=\"T_c0610_row4_col16\" class=\"data row4 col16\" >0.071029</td>\n",
              "      <td id=\"T_c0610_row4_col17\" class=\"data row4 col17\" >0.026646</td>\n",
              "      <td id=\"T_c0610_row4_col18\" class=\"data row4 col18\" >0.028978</td>\n",
              "      <td id=\"T_c0610_row4_col19\" class=\"data row4 col19\" >0.032660</td>\n",
              "      <td id=\"T_c0610_row4_col20\" class=\"data row4 col20\" >0.022073</td>\n",
              "      <td id=\"T_c0610_row4_col21\" class=\"data row4 col21\" >0.023581</td>\n",
              "      <td id=\"T_c0610_row4_col22\" class=\"data row4 col22\" >0.019536</td>\n",
              "      <td id=\"T_c0610_row4_col23\" class=\"data row4 col23\" >0.010668</td>\n",
              "      <td id=\"T_c0610_row4_col24\" class=\"data row4 col24\" >0.015776</td>\n",
              "      <td id=\"T_c0610_row4_col25\" class=\"data row4 col25\" >0.029717</td>\n",
              "      <td id=\"T_c0610_row4_col26\" class=\"data row4 col26\" >0.019231</td>\n",
              "      <td id=\"T_c0610_row4_col27\" class=\"data row4 col27\" >0.027605</td>\n",
              "      <td id=\"T_c0610_row4_col28\" class=\"data row4 col28\" >0.021610</td>\n",
              "      <td id=\"T_c0610_row4_col29\" class=\"data row4 col29\" >0.032474</td>\n",
              "    </tr>\n",
              "    <tr>\n",
              "      <th id=\"T_c0610_level0_row5\" class=\"row_heading level0 row5\" >PAY_1</th>\n",
              "      <td id=\"T_c0610_row5_col0\" class=\"data row5 col0\" >-0.231224</td>\n",
              "      <td id=\"T_c0610_row5_col1\" class=\"data row5 col1\" >-0.037745</td>\n",
              "      <td id=\"T_c0610_row5_col2\" class=\"data row5 col2\" >0.115261</td>\n",
              "      <td id=\"T_c0610_row5_col3\" class=\"data row5 col3\" >0.001482</td>\n",
              "      <td id=\"T_c0610_row5_col4\" class=\"data row5 col4\" >-0.016738</td>\n",
              "      <td id=\"T_c0610_row5_col5\" class=\"data row5 col5\" >1.000000</td>\n",
              "      <td id=\"T_c0610_row5_col6\" class=\"data row5 col6\" >0.712734</td>\n",
              "      <td id=\"T_c0610_row5_col7\" class=\"data row5 col7\" >0.581149</td>\n",
              "      <td id=\"T_c0610_row5_col8\" class=\"data row5 col8\" >0.536015</td>\n",
              "      <td id=\"T_c0610_row5_col9\" class=\"data row5 col9\" >0.501426</td>\n",
              "      <td id=\"T_c0610_row5_col10\" class=\"data row5 col10\" >0.460674</td>\n",
              "      <td id=\"T_c0610_row5_col11\" class=\"data row5 col11\" >0.123493</td>\n",
              "      <td id=\"T_c0610_row5_col12\" class=\"data row5 col12\" >0.126138</td>\n",
              "      <td id=\"T_c0610_row5_col13\" class=\"data row5 col13\" >0.123303</td>\n",
              "      <td id=\"T_c0610_row5_col14\" class=\"data row5 col14\" >0.122380</td>\n",
              "      <td id=\"T_c0610_row5_col15\" class=\"data row5 col15\" >0.128071</td>\n",
              "      <td id=\"T_c0610_row5_col16\" class=\"data row5 col16\" >0.127862</td>\n",
              "      <td id=\"T_c0610_row5_col17\" class=\"data row5 col17\" >-0.092154</td>\n",
              "      <td id=\"T_c0610_row5_col18\" class=\"data row5 col18\" >-0.082467</td>\n",
              "      <td id=\"T_c0610_row5_col19\" class=\"data row5 col19\" >-0.079317</td>\n",
              "      <td id=\"T_c0610_row5_col20\" class=\"data row5 col20\" >-0.072789</td>\n",
              "      <td id=\"T_c0610_row5_col21\" class=\"data row5 col21\" >-0.061194</td>\n",
              "      <td id=\"T_c0610_row5_col22\" class=\"data row5 col22\" >-0.057097</td>\n",
              "      <td id=\"T_c0610_row5_col23\" class=\"data row5 col23\" >0.386348</td>\n",
              "      <td id=\"T_c0610_row5_col24\" class=\"data row5 col24\" >-0.299676</td>\n",
              "      <td id=\"T_c0610_row5_col25\" class=\"data row5 col25\" >-0.246915</td>\n",
              "      <td id=\"T_c0610_row5_col26\" class=\"data row5 col26\" >-0.188143</td>\n",
              "      <td id=\"T_c0610_row5_col27\" class=\"data row5 col27\" >-0.154495</td>\n",
              "      <td id=\"T_c0610_row5_col28\" class=\"data row5 col28\" >-0.116357</td>\n",
              "      <td id=\"T_c0610_row5_col29\" class=\"data row5 col29\" >-0.117158</td>\n",
              "    </tr>\n",
              "    <tr>\n",
              "      <th id=\"T_c0610_level0_row6\" class=\"row_heading level0 row6\" >PAY_2</th>\n",
              "      <td id=\"T_c0610_row6_col0\" class=\"data row6 col0\" >-0.247163</td>\n",
              "      <td id=\"T_c0610_row6_col1\" class=\"data row6 col1\" >-0.043282</td>\n",
              "      <td id=\"T_c0610_row6_col2\" class=\"data row6 col2\" >0.108001</td>\n",
              "      <td id=\"T_c0610_row6_col3\" class=\"data row6 col3\" >0.000109</td>\n",
              "      <td id=\"T_c0610_row6_col4\" class=\"data row6 col4\" >-0.020809</td>\n",
              "      <td id=\"T_c0610_row6_col5\" class=\"data row6 col5\" >0.712734</td>\n",
              "      <td id=\"T_c0610_row6_col6\" class=\"data row6 col6\" >1.000000</td>\n",
              "      <td id=\"T_c0610_row6_col7\" class=\"data row6 col7\" >0.678961</td>\n",
              "      <td id=\"T_c0610_row6_col8\" class=\"data row6 col8\" >0.567924</td>\n",
              "      <td id=\"T_c0610_row6_col9\" class=\"data row6 col9\" >0.527504</td>\n",
              "      <td id=\"T_c0610_row6_col10\" class=\"data row6 col10\" >0.478521</td>\n",
              "      <td id=\"T_c0610_row6_col11\" class=\"data row6 col11\" >0.101392</td>\n",
              "      <td id=\"T_c0610_row6_col12\" class=\"data row6 col12\" >0.099526</td>\n",
              "      <td id=\"T_c0610_row6_col13\" class=\"data row6 col13\" >0.097217</td>\n",
              "      <td id=\"T_c0610_row6_col14\" class=\"data row6 col14\" >0.096819</td>\n",
              "      <td id=\"T_c0610_row6_col15\" class=\"data row6 col15\" >0.103760</td>\n",
              "      <td id=\"T_c0610_row6_col16\" class=\"data row6 col16\" >0.105932</td>\n",
              "      <td id=\"T_c0610_row6_col17\" class=\"data row6 col17\" >-0.148406</td>\n",
              "      <td id=\"T_c0610_row6_col18\" class=\"data row6 col18\" >-0.097945</td>\n",
              "      <td id=\"T_c0610_row6_col19\" class=\"data row6 col19\" >-0.093931</td>\n",
              "      <td id=\"T_c0610_row6_col20\" class=\"data row6 col20\" >-0.077350</td>\n",
              "      <td id=\"T_c0610_row6_col21\" class=\"data row6 col21\" >-0.068484</td>\n",
              "      <td id=\"T_c0610_row6_col22\" class=\"data row6 col22\" >-0.062549</td>\n",
              "      <td id=\"T_c0610_row6_col23\" class=\"data row6 col23\" >0.332388</td>\n",
              "      <td id=\"T_c0610_row6_col24\" class=\"data row6 col24\" >-0.533252</td>\n",
              "      <td id=\"T_c0610_row6_col25\" class=\"data row6 col25\" >-0.297018</td>\n",
              "      <td id=\"T_c0610_row6_col26\" class=\"data row6 col26\" >-0.217408</td>\n",
              "      <td id=\"T_c0610_row6_col27\" class=\"data row6 col27\" >-0.185733</td>\n",
              "      <td id=\"T_c0610_row6_col28\" class=\"data row6 col28\" >-0.134860</td>\n",
              "      <td id=\"T_c0610_row6_col29\" class=\"data row6 col29\" >-0.134335</td>\n",
              "    </tr>\n",
              "    <tr>\n",
              "      <th id=\"T_c0610_level0_row7\" class=\"row_heading level0 row7\" >PAY_3</th>\n",
              "      <td id=\"T_c0610_row7_col0\" class=\"data row7 col0\" >-0.243548</td>\n",
              "      <td id=\"T_c0610_row7_col1\" class=\"data row7 col1\" >-0.041053</td>\n",
              "      <td id=\"T_c0610_row7_col2\" class=\"data row7 col2\" >0.099444</td>\n",
              "      <td id=\"T_c0610_row7_col3\" class=\"data row7 col3\" >0.011753</td>\n",
              "      <td id=\"T_c0610_row7_col4\" class=\"data row7 col4\" >-0.026326</td>\n",
              "      <td id=\"T_c0610_row7_col5\" class=\"data row7 col5\" >0.581149</td>\n",
              "      <td id=\"T_c0610_row7_col6\" class=\"data row7 col6\" >0.678961</td>\n",
              "      <td id=\"T_c0610_row7_col7\" class=\"data row7 col7\" >1.000000</td>\n",
              "      <td id=\"T_c0610_row7_col8\" class=\"data row7 col8\" >0.696907</td>\n",
              "      <td id=\"T_c0610_row7_col9\" class=\"data row7 col9\" >0.597001</td>\n",
              "      <td id=\"T_c0610_row7_col10\" class=\"data row7 col10\" >0.544675</td>\n",
              "      <td id=\"T_c0610_row7_col11\" class=\"data row7 col11\" >0.065607</td>\n",
              "      <td id=\"T_c0610_row7_col12\" class=\"data row7 col12\" >0.087446</td>\n",
              "      <td id=\"T_c0610_row7_col13\" class=\"data row7 col13\" >0.083757</td>\n",
              "      <td id=\"T_c0610_row7_col14\" class=\"data row7 col14\" >0.087120</td>\n",
              "      <td id=\"T_c0610_row7_col15\" class=\"data row7 col15\" >0.093674</td>\n",
              "      <td id=\"T_c0610_row7_col16\" class=\"data row7 col16\" >0.096458</td>\n",
              "      <td id=\"T_c0610_row7_col17\" class=\"data row7 col17\" >-0.048499</td>\n",
              "      <td id=\"T_c0610_row7_col18\" class=\"data row7 col18\" >-0.133875</td>\n",
              "      <td id=\"T_c0610_row7_col19\" class=\"data row7 col19\" >-0.095781</td>\n",
              "      <td id=\"T_c0610_row7_col20\" class=\"data row7 col20\" >-0.080673</td>\n",
              "      <td id=\"T_c0610_row7_col21\" class=\"data row7 col21\" >-0.069972</td>\n",
              "      <td id=\"T_c0610_row7_col22\" class=\"data row7 col22\" >-0.067083</td>\n",
              "      <td id=\"T_c0610_row7_col23\" class=\"data row7 col23\" >0.300042</td>\n",
              "      <td id=\"T_c0610_row7_col24\" class=\"data row7 col24\" >-0.161543</td>\n",
              "      <td id=\"T_c0610_row7_col25\" class=\"data row7 col25\" >-0.555046</td>\n",
              "      <td id=\"T_c0610_row7_col26\" class=\"data row7 col26\" >-0.272257</td>\n",
              "      <td id=\"T_c0610_row7_col27\" class=\"data row7 col27\" >-0.206207</td>\n",
              "      <td id=\"T_c0610_row7_col28\" class=\"data row7 col28\" >-0.151989</td>\n",
              "      <td id=\"T_c0610_row7_col29\" class=\"data row7 col29\" >-0.162094</td>\n",
              "    </tr>\n",
              "    <tr>\n",
              "      <th id=\"T_c0610_level0_row8\" class=\"row_heading level0 row8\" >PAY_4</th>\n",
              "      <td id=\"T_c0610_row8_col0\" class=\"data row8 col0\" >-0.231040</td>\n",
              "      <td id=\"T_c0610_row8_col1\" class=\"data row8 col1\" >-0.041116</td>\n",
              "      <td id=\"T_c0610_row8_col2\" class=\"data row8 col2\" >0.092116</td>\n",
              "      <td id=\"T_c0610_row8_col3\" class=\"data row8 col3\" >0.011726</td>\n",
              "      <td id=\"T_c0610_row8_col4\" class=\"data row8 col4\" >-0.020912</td>\n",
              "      <td id=\"T_c0610_row8_col5\" class=\"data row8 col5\" >0.536015</td>\n",
              "      <td id=\"T_c0610_row8_col6\" class=\"data row8 col6\" >0.567924</td>\n",
              "      <td id=\"T_c0610_row8_col7\" class=\"data row8 col7\" >0.696907</td>\n",
              "      <td id=\"T_c0610_row8_col8\" class=\"data row8 col8\" >1.000000</td>\n",
              "      <td id=\"T_c0610_row8_col9\" class=\"data row8 col9\" >0.750012</td>\n",
              "      <td id=\"T_c0610_row8_col10\" class=\"data row8 col10\" >0.636160</td>\n",
              "      <td id=\"T_c0610_row8_col11\" class=\"data row8 col11\" >0.054537</td>\n",
              "      <td id=\"T_c0610_row8_col12\" class=\"data row8 col12\" >0.067860</td>\n",
              "      <td id=\"T_c0610_row8_col13\" class=\"data row8 col13\" >0.088100</td>\n",
              "      <td id=\"T_c0610_row8_col14\" class=\"data row8 col14\" >0.089861</td>\n",
              "      <td id=\"T_c0610_row8_col15\" class=\"data row8 col15\" >0.095500</td>\n",
              "      <td id=\"T_c0610_row8_col16\" class=\"data row8 col16\" >0.098917</td>\n",
              "      <td id=\"T_c0610_row8_col17\" class=\"data row8 col17\" >-0.066001</td>\n",
              "      <td id=\"T_c0610_row8_col18\" class=\"data row8 col18\" >-0.050524</td>\n",
              "      <td id=\"T_c0610_row8_col19\" class=\"data row8 col19\" >-0.139472</td>\n",
              "      <td id=\"T_c0610_row8_col20\" class=\"data row8 col20\" >-0.091346</td>\n",
              "      <td id=\"T_c0610_row8_col21\" class=\"data row8 col21\" >-0.074020</td>\n",
              "      <td id=\"T_c0610_row8_col22\" class=\"data row8 col22\" >-0.060838</td>\n",
              "      <td id=\"T_c0610_row8_col23\" class=\"data row8 col23\" >0.282354</td>\n",
              "      <td id=\"T_c0610_row8_col24\" class=\"data row8 col24\" >-0.199880</td>\n",
              "      <td id=\"T_c0610_row8_col25\" class=\"data row8 col25\" >-0.181692</td>\n",
              "      <td id=\"T_c0610_row8_col26\" class=\"data row8 col26\" >-0.487054</td>\n",
              "      <td id=\"T_c0610_row8_col27\" class=\"data row8 col27\" >-0.246796</td>\n",
              "      <td id=\"T_c0610_row8_col28\" class=\"data row8 col28\" >-0.162145</td>\n",
              "      <td id=\"T_c0610_row8_col29\" class=\"data row8 col29\" >-0.154755</td>\n",
              "    </tr>\n",
              "    <tr>\n",
              "      <th id=\"T_c0610_level0_row9\" class=\"row_heading level0 row9\" >PAY_5</th>\n",
              "      <td id=\"T_c0610_row9_col0\" class=\"data row9 col0\" >-0.215870</td>\n",
              "      <td id=\"T_c0610_row9_col1\" class=\"data row9 col1\" >-0.039703</td>\n",
              "      <td id=\"T_c0610_row9_col2\" class=\"data row9 col2\" >0.076419</td>\n",
              "      <td id=\"T_c0610_row9_col3\" class=\"data row9 col3\" >0.012230</td>\n",
              "      <td id=\"T_c0610_row9_col4\" class=\"data row9 col4\" >-0.026311</td>\n",
              "      <td id=\"T_c0610_row9_col5\" class=\"data row9 col5\" >0.501426</td>\n",
              "      <td id=\"T_c0610_row9_col6\" class=\"data row9 col6\" >0.527504</td>\n",
              "      <td id=\"T_c0610_row9_col7\" class=\"data row9 col7\" >0.597001</td>\n",
              "      <td id=\"T_c0610_row9_col8\" class=\"data row9 col8\" >0.750012</td>\n",
              "      <td id=\"T_c0610_row9_col9\" class=\"data row9 col9\" >1.000000</td>\n",
              "      <td id=\"T_c0610_row9_col10\" class=\"data row9 col10\" >0.749683</td>\n",
              "      <td id=\"T_c0610_row9_col11\" class=\"data row9 col11\" >0.062758</td>\n",
              "      <td id=\"T_c0610_row9_col12\" class=\"data row9 col12\" >0.073254</td>\n",
              "      <td id=\"T_c0610_row9_col13\" class=\"data row9 col13\" >0.088779</td>\n",
              "      <td id=\"T_c0610_row9_col14\" class=\"data row9 col14\" >0.112083</td>\n",
              "      <td id=\"T_c0610_row9_col15\" class=\"data row9 col15\" >0.116021</td>\n",
              "      <td id=\"T_c0610_row9_col16\" class=\"data row9 col16\" >0.116652</td>\n",
              "      <td id=\"T_c0610_row9_col17\" class=\"data row9 col17\" >-0.061085</td>\n",
              "      <td id=\"T_c0610_row9_col18\" class=\"data row9 col18\" >-0.048287</td>\n",
              "      <td id=\"T_c0610_row9_col19\" class=\"data row9 col19\" >-0.046290</td>\n",
              "      <td id=\"T_c0610_row9_col20\" class=\"data row9 col20\" >-0.137970</td>\n",
              "      <td id=\"T_c0610_row9_col21\" class=\"data row9 col21\" >-0.080824</td>\n",
              "      <td id=\"T_c0610_row9_col22\" class=\"data row9 col22\" >-0.059593</td>\n",
              "      <td id=\"T_c0610_row9_col23\" class=\"data row9 col23\" >0.273554</td>\n",
              "      <td id=\"T_c0610_row9_col24\" class=\"data row9 col24\" >-0.193124</td>\n",
              "      <td id=\"T_c0610_row9_col25\" class=\"data row9 col25\" >-0.193084</td>\n",
              "      <td id=\"T_c0610_row9_col26\" class=\"data row9 col26\" >-0.144653</td>\n",
              "      <td id=\"T_c0610_row9_col27\" class=\"data row9 col27\" >-0.436620</td>\n",
              "      <td id=\"T_c0610_row9_col28\" class=\"data row9 col28\" >-0.178308</td>\n",
              "      <td id=\"T_c0610_row9_col29\" class=\"data row9 col29\" >-0.149050</td>\n",
              "    </tr>\n",
              "    <tr>\n",
              "      <th id=\"T_c0610_level0_row10\" class=\"row_heading level0 row10\" >PAY_6</th>\n",
              "      <td id=\"T_c0610_row10_col0\" class=\"data row10 col0\" >-0.214777</td>\n",
              "      <td id=\"T_c0610_row10_col1\" class=\"data row10 col1\" >-0.032220</td>\n",
              "      <td id=\"T_c0610_row10_col2\" class=\"data row10 col2\" >0.069299</td>\n",
              "      <td id=\"T_c0610_row10_col3\" class=\"data row10 col3\" >0.015824</td>\n",
              "      <td id=\"T_c0610_row10_col4\" class=\"data row10 col4\" >-0.028964</td>\n",
              "      <td id=\"T_c0610_row10_col5\" class=\"data row10 col5\" >0.460674</td>\n",
              "      <td id=\"T_c0610_row10_col6\" class=\"data row10 col6\" >0.478521</td>\n",
              "      <td id=\"T_c0610_row10_col7\" class=\"data row10 col7\" >0.544675</td>\n",
              "      <td id=\"T_c0610_row10_col8\" class=\"data row10 col8\" >0.636160</td>\n",
              "      <td id=\"T_c0610_row10_col9\" class=\"data row10 col9\" >0.749683</td>\n",
              "      <td id=\"T_c0610_row10_col10\" class=\"data row10 col10\" >1.000000</td>\n",
              "      <td id=\"T_c0610_row10_col11\" class=\"data row10 col11\" >0.063861</td>\n",
              "      <td id=\"T_c0610_row10_col12\" class=\"data row10 col12\" >0.074276</td>\n",
              "      <td id=\"T_c0610_row10_col13\" class=\"data row10 col13\" >0.086444</td>\n",
              "      <td id=\"T_c0610_row10_col14\" class=\"data row10 col14\" >0.105495</td>\n",
              "      <td id=\"T_c0610_row10_col15\" class=\"data row10 col15\" >0.130739</td>\n",
              "      <td id=\"T_c0610_row10_col16\" class=\"data row10 col16\" >0.130421</td>\n",
              "      <td id=\"T_c0610_row10_col17\" class=\"data row10 col17\" >-0.057402</td>\n",
              "      <td id=\"T_c0610_row10_col18\" class=\"data row10 col18\" >-0.056014</td>\n",
              "      <td id=\"T_c0610_row10_col19\" class=\"data row10 col19\" >-0.050774</td>\n",
              "      <td id=\"T_c0610_row10_col20\" class=\"data row10 col20\" >-0.043969</td>\n",
              "      <td id=\"T_c0610_row10_col21\" class=\"data row10 col21\" >-0.128215</td>\n",
              "      <td id=\"T_c0610_row10_col22\" class=\"data row10 col22\" >-0.074232</td>\n",
              "      <td id=\"T_c0610_row10_col23\" class=\"data row10 col23\" >0.255822</td>\n",
              "      <td id=\"T_c0610_row10_col24\" class=\"data row10 col24\" >-0.169142</td>\n",
              "      <td id=\"T_c0610_row10_col25\" class=\"data row10 col25\" >-0.195464</td>\n",
              "      <td id=\"T_c0610_row10_col26\" class=\"data row10 col26\" >-0.152359</td>\n",
              "      <td id=\"T_c0610_row10_col27\" class=\"data row10 col27\" >-0.118390</td>\n",
              "      <td id=\"T_c0610_row10_col28\" class=\"data row10 col28\" >-0.387370</td>\n",
              "      <td id=\"T_c0610_row10_col29\" class=\"data row10 col29\" >-0.168708</td>\n",
              "    </tr>\n",
              "    <tr>\n",
              "      <th id=\"T_c0610_level0_row11\" class=\"row_heading level0 row11\" >BILL_AMT1</th>\n",
              "      <td id=\"T_c0610_row11_col0\" class=\"data row11 col0\" >0.401205</td>\n",
              "      <td id=\"T_c0610_row11_col1\" class=\"data row11 col1\" >-0.015881</td>\n",
              "      <td id=\"T_c0610_row11_col2\" class=\"data row11 col2\" >-0.032231</td>\n",
              "      <td id=\"T_c0610_row11_col3\" class=\"data row11 col3\" >-0.041413</td>\n",
              "      <td id=\"T_c0610_row11_col4\" class=\"data row11 col4\" >0.080695</td>\n",
              "      <td id=\"T_c0610_row11_col5\" class=\"data row11 col5\" >0.123493</td>\n",
              "      <td id=\"T_c0610_row11_col6\" class=\"data row11 col6\" >0.101392</td>\n",
              "      <td id=\"T_c0610_row11_col7\" class=\"data row11 col7\" >0.065607</td>\n",
              "      <td id=\"T_c0610_row11_col8\" class=\"data row11 col8\" >0.054537</td>\n",
              "      <td id=\"T_c0610_row11_col9\" class=\"data row11 col9\" >0.062758</td>\n",
              "      <td id=\"T_c0610_row11_col10\" class=\"data row11 col10\" >0.063861</td>\n",
              "      <td id=\"T_c0610_row11_col11\" class=\"data row11 col11\" >1.000000</td>\n",
              "      <td id=\"T_c0610_row11_col12\" class=\"data row11 col12\" >0.959704</td>\n",
              "      <td id=\"T_c0610_row11_col13\" class=\"data row11 col13\" >0.915607</td>\n",
              "      <td id=\"T_c0610_row11_col14\" class=\"data row11 col14\" >0.876476</td>\n",
              "      <td id=\"T_c0610_row11_col15\" class=\"data row11 col15\" >0.848159</td>\n",
              "      <td id=\"T_c0610_row11_col16\" class=\"data row11 col16\" >0.820976</td>\n",
              "      <td id=\"T_c0610_row11_col17\" class=\"data row11 col17\" >0.135822</td>\n",
              "      <td id=\"T_c0610_row11_col18\" class=\"data row11 col18\" >0.115810</td>\n",
              "      <td id=\"T_c0610_row11_col19\" class=\"data row11 col19\" >0.156431</td>\n",
              "      <td id=\"T_c0610_row11_col20\" class=\"data row11 col20\" >0.168762</td>\n",
              "      <td id=\"T_c0610_row11_col21\" class=\"data row11 col21\" >0.174736</td>\n",
              "      <td id=\"T_c0610_row11_col22\" class=\"data row11 col22\" >0.187579</td>\n",
              "      <td id=\"T_c0610_row11_col23\" class=\"data row11 col23\" >-0.032167</td>\n",
              "      <td id=\"T_c0610_row11_col24\" class=\"data row11 col24\" >0.244819</td>\n",
              "      <td id=\"T_c0610_row11_col25\" class=\"data row11 col25\" >0.252356</td>\n",
              "      <td id=\"T_c0610_row11_col26\" class=\"data row11 col26\" >0.275060</td>\n",
              "      <td id=\"T_c0610_row11_col27\" class=\"data row11 col27\" >0.292690</td>\n",
              "      <td id=\"T_c0610_row11_col28\" class=\"data row11 col28\" >0.282151</td>\n",
              "      <td id=\"T_c0610_row11_col29\" class=\"data row11 col29\" >0.286218</td>\n",
              "    </tr>\n",
              "    <tr>\n",
              "      <th id=\"T_c0610_level0_row12\" class=\"row_heading level0 row12\" >BILL_AMT2</th>\n",
              "      <td id=\"T_c0610_row12_col0\" class=\"data row12 col0\" >0.395235</td>\n",
              "      <td id=\"T_c0610_row12_col1\" class=\"data row12 col1\" >-0.014452</td>\n",
              "      <td id=\"T_c0610_row12_col2\" class=\"data row12 col2\" >-0.035978</td>\n",
              "      <td id=\"T_c0610_row12_col3\" class=\"data row12 col3\" >-0.039729</td>\n",
              "      <td id=\"T_c0610_row12_col4\" class=\"data row12 col4\" >0.078205</td>\n",
              "      <td id=\"T_c0610_row12_col5\" class=\"data row12 col5\" >0.126138</td>\n",
              "      <td id=\"T_c0610_row12_col6\" class=\"data row12 col6\" >0.099526</td>\n",
              "      <td id=\"T_c0610_row12_col7\" class=\"data row12 col7\" >0.087446</td>\n",
              "      <td id=\"T_c0610_row12_col8\" class=\"data row12 col8\" >0.067860</td>\n",
              "      <td id=\"T_c0610_row12_col9\" class=\"data row12 col9\" >0.073254</td>\n",
              "      <td id=\"T_c0610_row12_col10\" class=\"data row12 col10\" >0.074276</td>\n",
              "      <td id=\"T_c0610_row12_col11\" class=\"data row12 col11\" >0.959704</td>\n",
              "      <td id=\"T_c0610_row12_col12\" class=\"data row12 col12\" >1.000000</td>\n",
              "      <td id=\"T_c0610_row12_col13\" class=\"data row12 col13\" >0.945143</td>\n",
              "      <td id=\"T_c0610_row12_col14\" class=\"data row12 col14\" >0.903782</td>\n",
              "      <td id=\"T_c0610_row12_col15\" class=\"data row12 col15\" >0.873584</td>\n",
              "      <td id=\"T_c0610_row12_col16\" class=\"data row12 col16\" >0.846078</td>\n",
              "      <td id=\"T_c0610_row12_col17\" class=\"data row12 col17\" >0.266922</td>\n",
              "      <td id=\"T_c0610_row12_col18\" class=\"data row12 col18\" >0.117469</td>\n",
              "      <td id=\"T_c0610_row12_col19\" class=\"data row12 col19\" >0.155302</td>\n",
              "      <td id=\"T_c0610_row12_col20\" class=\"data row12 col20\" >0.159660</td>\n",
              "      <td id=\"T_c0610_row12_col21\" class=\"data row12 col21\" >0.169559</td>\n",
              "      <td id=\"T_c0610_row12_col22\" class=\"data row12 col22\" >0.178549</td>\n",
              "      <td id=\"T_c0610_row12_col23\" class=\"data row12 col23\" >-0.025983</td>\n",
              "      <td id=\"T_c0610_row12_col24\" class=\"data row12 col24\" >0.284347</td>\n",
              "      <td id=\"T_c0610_row12_col25\" class=\"data row12 col25\" >0.243764</td>\n",
              "      <td id=\"T_c0610_row12_col26\" class=\"data row12 col26\" >0.275626</td>\n",
              "      <td id=\"T_c0610_row12_col27\" class=\"data row12 col27\" >0.293720</td>\n",
              "      <td id=\"T_c0610_row12_col28\" class=\"data row12 col28\" >0.287510</td>\n",
              "      <td id=\"T_c0610_row12_col29\" class=\"data row12 col29\" >0.287681</td>\n",
              "    </tr>\n",
              "    <tr>\n",
              "      <th id=\"T_c0610_level0_row13\" class=\"row_heading level0 row13\" >BILL_AMT3</th>\n",
              "      <td id=\"T_c0610_row13_col0\" class=\"data row13 col0\" >0.399863</td>\n",
              "      <td id=\"T_c0610_row13_col1\" class=\"data row13 col1\" >-0.010495</td>\n",
              "      <td id=\"T_c0610_row13_col2\" class=\"data row13 col2\" >-0.041544</td>\n",
              "      <td id=\"T_c0610_row13_col3\" class=\"data row13 col3\" >-0.042112</td>\n",
              "      <td id=\"T_c0610_row13_col4\" class=\"data row13 col4\" >0.078653</td>\n",
              "      <td id=\"T_c0610_row13_col5\" class=\"data row13 col5\" >0.123303</td>\n",
              "      <td id=\"T_c0610_row13_col6\" class=\"data row13 col6\" >0.097217</td>\n",
              "      <td id=\"T_c0610_row13_col7\" class=\"data row13 col7\" >0.083757</td>\n",
              "      <td id=\"T_c0610_row13_col8\" class=\"data row13 col8\" >0.088100</td>\n",
              "      <td id=\"T_c0610_row13_col9\" class=\"data row13 col9\" >0.088779</td>\n",
              "      <td id=\"T_c0610_row13_col10\" class=\"data row13 col10\" >0.086444</td>\n",
              "      <td id=\"T_c0610_row13_col11\" class=\"data row13 col11\" >0.915607</td>\n",
              "      <td id=\"T_c0610_row13_col12\" class=\"data row13 col12\" >0.945143</td>\n",
              "      <td id=\"T_c0610_row13_col13\" class=\"data row13 col13\" >1.000000</td>\n",
              "      <td id=\"T_c0610_row13_col14\" class=\"data row13 col14\" >0.941433</td>\n",
              "      <td id=\"T_c0610_row13_col15\" class=\"data row13 col15\" >0.903579</td>\n",
              "      <td id=\"T_c0610_row13_col16\" class=\"data row13 col16\" >0.868593</td>\n",
              "      <td id=\"T_c0610_row13_col17\" class=\"data row13 col17\" >0.244427</td>\n",
              "      <td id=\"T_c0610_row13_col18\" class=\"data row13 col18\" >0.267307</td>\n",
              "      <td id=\"T_c0610_row13_col19\" class=\"data row13 col19\" >0.126183</td>\n",
              "      <td id=\"T_c0610_row13_col20\" class=\"data row13 col20\" >0.149421</td>\n",
              "      <td id=\"T_c0610_row13_col21\" class=\"data row13 col21\" >0.168369</td>\n",
              "      <td id=\"T_c0610_row13_col22\" class=\"data row13 col22\" >0.194540</td>\n",
              "      <td id=\"T_c0610_row13_col23\" class=\"data row13 col23\" >-0.024783</td>\n",
              "      <td id=\"T_c0610_row13_col24\" class=\"data row13 col24\" >0.261458</td>\n",
              "      <td id=\"T_c0610_row13_col25\" class=\"data row13 col25\" >0.288720</td>\n",
              "      <td id=\"T_c0610_row13_col26\" class=\"data row13 col26\" >0.268932</td>\n",
              "      <td id=\"T_c0610_row13_col27\" class=\"data row13 col27\" >0.293608</td>\n",
              "      <td id=\"T_c0610_row13_col28\" class=\"data row13 col28\" >0.288321</td>\n",
              "      <td id=\"T_c0610_row13_col29\" class=\"data row13 col29\" >0.292730</td>\n",
              "    </tr>\n",
              "    <tr>\n",
              "      <th id=\"T_c0610_level0_row14\" class=\"row_heading level0 row14\" >BILL_AMT4</th>\n",
              "      <td id=\"T_c0610_row14_col0\" class=\"data row14 col0\" >0.406947</td>\n",
              "      <td id=\"T_c0610_row14_col1\" class=\"data row14 col1\" >-0.008951</td>\n",
              "      <td id=\"T_c0610_row14_col2\" class=\"data row14 col2\" >-0.054036</td>\n",
              "      <td id=\"T_c0610_row14_col3\" class=\"data row14 col3\" >-0.040685</td>\n",
              "      <td id=\"T_c0610_row14_col4\" class=\"data row14 col4\" >0.075462</td>\n",
              "      <td id=\"T_c0610_row14_col5\" class=\"data row14 col5\" >0.122380</td>\n",
              "      <td id=\"T_c0610_row14_col6\" class=\"data row14 col6\" >0.096819</td>\n",
              "      <td id=\"T_c0610_row14_col7\" class=\"data row14 col7\" >0.087120</td>\n",
              "      <td id=\"T_c0610_row14_col8\" class=\"data row14 col8\" >0.089861</td>\n",
              "      <td id=\"T_c0610_row14_col9\" class=\"data row14 col9\" >0.112083</td>\n",
              "      <td id=\"T_c0610_row14_col10\" class=\"data row14 col10\" >0.105495</td>\n",
              "      <td id=\"T_c0610_row14_col11\" class=\"data row14 col11\" >0.876476</td>\n",
              "      <td id=\"T_c0610_row14_col12\" class=\"data row14 col12\" >0.903782</td>\n",
              "      <td id=\"T_c0610_row14_col13\" class=\"data row14 col13\" >0.941433</td>\n",
              "      <td id=\"T_c0610_row14_col14\" class=\"data row14 col14\" >1.000000</td>\n",
              "      <td id=\"T_c0610_row14_col15\" class=\"data row14 col15\" >0.945478</td>\n",
              "      <td id=\"T_c0610_row14_col16\" class=\"data row14 col16\" >0.907849</td>\n",
              "      <td id=\"T_c0610_row14_col17\" class=\"data row14 col17\" >0.232545</td>\n",
              "      <td id=\"T_c0610_row14_col18\" class=\"data row14 col18\" >0.228494</td>\n",
              "      <td id=\"T_c0610_row14_col19\" class=\"data row14 col19\" >0.283036</td>\n",
              "      <td id=\"T_c0610_row14_col20\" class=\"data row14 col20\" >0.132706</td>\n",
              "      <td id=\"T_c0610_row14_col21\" class=\"data row14 col21\" >0.165300</td>\n",
              "      <td id=\"T_c0610_row14_col22\" class=\"data row14 col22\" >0.186311</td>\n",
              "      <td id=\"T_c0610_row14_col23\" class=\"data row14 col23\" >-0.019994</td>\n",
              "      <td id=\"T_c0610_row14_col24\" class=\"data row14 col24\" >0.251717</td>\n",
              "      <td id=\"T_c0610_row14_col25\" class=\"data row14 col25\" >0.261801</td>\n",
              "      <td id=\"T_c0610_row14_col26\" class=\"data row14 col26\" >0.313452</td>\n",
              "      <td id=\"T_c0610_row14_col27\" class=\"data row14 col27\" >0.285275</td>\n",
              "      <td id=\"T_c0610_row14_col28\" class=\"data row14 col28\" >0.288609</td>\n",
              "      <td id=\"T_c0610_row14_col29\" class=\"data row14 col29\" >0.289934</td>\n",
              "    </tr>\n",
              "    <tr>\n",
              "      <th id=\"T_c0610_level0_row15\" class=\"row_heading level0 row15\" >BILL_AMT5</th>\n",
              "      <td id=\"T_c0610_row15_col0\" class=\"data row15 col0\" >0.405660</td>\n",
              "      <td id=\"T_c0610_row15_col1\" class=\"data row15 col1\" >-0.006127</td>\n",
              "      <td id=\"T_c0610_row15_col2\" class=\"data row15 col2\" >-0.058170</td>\n",
              "      <td id=\"T_c0610_row15_col3\" class=\"data row15 col3\" >-0.041762</td>\n",
              "      <td id=\"T_c0610_row15_col4\" class=\"data row15 col4\" >0.072856</td>\n",
              "      <td id=\"T_c0610_row15_col5\" class=\"data row15 col5\" >0.128071</td>\n",
              "      <td id=\"T_c0610_row15_col6\" class=\"data row15 col6\" >0.103760</td>\n",
              "      <td id=\"T_c0610_row15_col7\" class=\"data row15 col7\" >0.093674</td>\n",
              "      <td id=\"T_c0610_row15_col8\" class=\"data row15 col8\" >0.095500</td>\n",
              "      <td id=\"T_c0610_row15_col9\" class=\"data row15 col9\" >0.116021</td>\n",
              "      <td id=\"T_c0610_row15_col10\" class=\"data row15 col10\" >0.130739</td>\n",
              "      <td id=\"T_c0610_row15_col11\" class=\"data row15 col11\" >0.848159</td>\n",
              "      <td id=\"T_c0610_row15_col12\" class=\"data row15 col12\" >0.873584</td>\n",
              "      <td id=\"T_c0610_row15_col13\" class=\"data row15 col13\" >0.903579</td>\n",
              "      <td id=\"T_c0610_row15_col14\" class=\"data row15 col14\" >0.945478</td>\n",
              "      <td id=\"T_c0610_row15_col15\" class=\"data row15 col15\" >1.000000</td>\n",
              "      <td id=\"T_c0610_row15_col16\" class=\"data row15 col16\" >0.950568</td>\n",
              "      <td id=\"T_c0610_row15_col17\" class=\"data row15 col17\" >0.216064</td>\n",
              "      <td id=\"T_c0610_row15_col18\" class=\"data row15 col18\" >0.197962</td>\n",
              "      <td id=\"T_c0610_row15_col19\" class=\"data row15 col19\" >0.247815</td>\n",
              "      <td id=\"T_c0610_row15_col20\" class=\"data row15 col20\" >0.275798</td>\n",
              "      <td id=\"T_c0610_row15_col21\" class=\"data row15 col21\" >0.143626</td>\n",
              "      <td id=\"T_c0610_row15_col22\" class=\"data row15 col22\" >0.172951</td>\n",
              "      <td id=\"T_c0610_row15_col23\" class=\"data row15 col23\" >-0.015402</td>\n",
              "      <td id=\"T_c0610_row15_col24\" class=\"data row15 col24\" >0.239140</td>\n",
              "      <td id=\"T_c0610_row15_col25\" class=\"data row15 col25\" >0.246114</td>\n",
              "      <td id=\"T_c0610_row15_col26\" class=\"data row15 col26\" >0.286123</td>\n",
              "      <td id=\"T_c0610_row15_col27\" class=\"data row15 col27\" >0.328451</td>\n",
              "      <td id=\"T_c0610_row15_col28\" class=\"data row15 col28\" >0.284506</td>\n",
              "      <td id=\"T_c0610_row15_col29\" class=\"data row15 col29\" >0.295497</td>\n",
              "    </tr>\n",
              "    <tr>\n",
              "      <th id=\"T_c0610_level0_row16\" class=\"row_heading level0 row16\" >BILL_AMT6</th>\n",
              "      <td id=\"T_c0610_row16_col0\" class=\"data row16 col0\" >0.395285</td>\n",
              "      <td id=\"T_c0610_row16_col1\" class=\"data row16 col1\" >-0.007041</td>\n",
              "      <td id=\"T_c0610_row16_col2\" class=\"data row16 col2\" >-0.054537</td>\n",
              "      <td id=\"T_c0610_row16_col3\" class=\"data row16 col3\" >-0.038452</td>\n",
              "      <td id=\"T_c0610_row16_col4\" class=\"data row16 col4\" >0.071029</td>\n",
              "      <td id=\"T_c0610_row16_col5\" class=\"data row16 col5\" >0.127862</td>\n",
              "      <td id=\"T_c0610_row16_col6\" class=\"data row16 col6\" >0.105932</td>\n",
              "      <td id=\"T_c0610_row16_col7\" class=\"data row16 col7\" >0.096458</td>\n",
              "      <td id=\"T_c0610_row16_col8\" class=\"data row16 col8\" >0.098917</td>\n",
              "      <td id=\"T_c0610_row16_col9\" class=\"data row16 col9\" >0.116652</td>\n",
              "      <td id=\"T_c0610_row16_col10\" class=\"data row16 col10\" >0.130421</td>\n",
              "      <td id=\"T_c0610_row16_col11\" class=\"data row16 col11\" >0.820976</td>\n",
              "      <td id=\"T_c0610_row16_col12\" class=\"data row16 col12\" >0.846078</td>\n",
              "      <td id=\"T_c0610_row16_col13\" class=\"data row16 col13\" >0.868593</td>\n",
              "      <td id=\"T_c0610_row16_col14\" class=\"data row16 col14\" >0.907849</td>\n",
              "      <td id=\"T_c0610_row16_col15\" class=\"data row16 col15\" >0.950568</td>\n",
              "      <td id=\"T_c0610_row16_col16\" class=\"data row16 col16\" >1.000000</td>\n",
              "      <td id=\"T_c0610_row16_col17\" class=\"data row16 col17\" >0.198670</td>\n",
              "      <td id=\"T_c0610_row16_col18\" class=\"data row16 col18\" >0.173696</td>\n",
              "      <td id=\"T_c0610_row16_col19\" class=\"data row16 col19\" >0.230686</td>\n",
              "      <td id=\"T_c0610_row16_col20\" class=\"data row16 col20\" >0.242935</td>\n",
              "      <td id=\"T_c0610_row16_col21\" class=\"data row16 col21\" >0.294024</td>\n",
              "      <td id=\"T_c0610_row16_col22\" class=\"data row16 col22\" >0.121175</td>\n",
              "      <td id=\"T_c0610_row16_col23\" class=\"data row16 col23\" >-0.013940</td>\n",
              "      <td id=\"T_c0610_row16_col24\" class=\"data row16 col24\" >0.230229</td>\n",
              "      <td id=\"T_c0610_row16_col25\" class=\"data row16 col25\" >0.236262</td>\n",
              "      <td id=\"T_c0610_row16_col26\" class=\"data row16 col26\" >0.276302</td>\n",
              "      <td id=\"T_c0610_row16_col27\" class=\"data row16 col27\" >0.310846</td>\n",
              "      <td id=\"T_c0610_row16_col28\" class=\"data row16 col28\" >0.341771</td>\n",
              "      <td id=\"T_c0610_row16_col29\" class=\"data row16 col29\" >0.300906</td>\n",
              "    </tr>\n",
              "    <tr>\n",
              "      <th id=\"T_c0610_level0_row17\" class=\"row_heading level0 row17\" >PAY_AMT1</th>\n",
              "      <td id=\"T_c0610_row17_col0\" class=\"data row17 col0\" >0.223196</td>\n",
              "      <td id=\"T_c0610_row17_col1\" class=\"data row17 col1\" >-0.001638</td>\n",
              "      <td id=\"T_c0610_row17_col2\" class=\"data row17 col2\" >-0.058814</td>\n",
              "      <td id=\"T_c0610_row17_col3\" class=\"data row17 col3\" >-0.006462</td>\n",
              "      <td id=\"T_c0610_row17_col4\" class=\"data row17 col4\" >0.026646</td>\n",
              "      <td id=\"T_c0610_row17_col5\" class=\"data row17 col5\" >-0.092154</td>\n",
              "      <td id=\"T_c0610_row17_col6\" class=\"data row17 col6\" >-0.148406</td>\n",
              "      <td id=\"T_c0610_row17_col7\" class=\"data row17 col7\" >-0.048499</td>\n",
              "      <td id=\"T_c0610_row17_col8\" class=\"data row17 col8\" >-0.066001</td>\n",
              "      <td id=\"T_c0610_row17_col9\" class=\"data row17 col9\" >-0.061085</td>\n",
              "      <td id=\"T_c0610_row17_col10\" class=\"data row17 col10\" >-0.057402</td>\n",
              "      <td id=\"T_c0610_row17_col11\" class=\"data row17 col11\" >0.135822</td>\n",
              "      <td id=\"T_c0610_row17_col12\" class=\"data row17 col12\" >0.266922</td>\n",
              "      <td id=\"T_c0610_row17_col13\" class=\"data row17 col13\" >0.244427</td>\n",
              "      <td id=\"T_c0610_row17_col14\" class=\"data row17 col14\" >0.232545</td>\n",
              "      <td id=\"T_c0610_row17_col15\" class=\"data row17 col15\" >0.216064</td>\n",
              "      <td id=\"T_c0610_row17_col16\" class=\"data row17 col16\" >0.198670</td>\n",
              "      <td id=\"T_c0610_row17_col17\" class=\"data row17 col17\" >1.000000</td>\n",
              "      <td id=\"T_c0610_row17_col18\" class=\"data row17 col18\" >0.359835</td>\n",
              "      <td id=\"T_c0610_row17_col19\" class=\"data row17 col19\" >0.270388</td>\n",
              "      <td id=\"T_c0610_row17_col20\" class=\"data row17 col20\" >0.217016</td>\n",
              "      <td id=\"T_c0610_row17_col21\" class=\"data row17 col21\" >0.143363</td>\n",
              "      <td id=\"T_c0610_row17_col22\" class=\"data row17 col22\" >0.159290</td>\n",
              "      <td id=\"T_c0610_row17_col23\" class=\"data row17 col23\" >-0.075208</td>\n",
              "      <td id=\"T_c0610_row17_col24\" class=\"data row17 col24\" >0.334743</td>\n",
              "      <td id=\"T_c0610_row17_col25\" class=\"data row17 col25\" >0.127838</td>\n",
              "      <td id=\"T_c0610_row17_col26\" class=\"data row17 col26\" >0.146299</td>\n",
              "      <td id=\"T_c0610_row17_col27\" class=\"data row17 col27\" >0.137093</td>\n",
              "      <td id=\"T_c0610_row17_col28\" class=\"data row17 col28\" >0.129605</td>\n",
              "      <td id=\"T_c0610_row17_col29\" class=\"data row17 col29\" >0.131334</td>\n",
              "    </tr>\n",
              "    <tr>\n",
              "      <th id=\"T_c0610_level0_row18\" class=\"row_heading level0 row18\" >PAY_AMT2</th>\n",
              "      <td id=\"T_c0610_row18_col0\" class=\"data row18 col0\" >0.223476</td>\n",
              "      <td id=\"T_c0610_row18_col1\" class=\"data row18 col1\" >-0.000939</td>\n",
              "      <td id=\"T_c0610_row18_col2\" class=\"data row18 col2\" >-0.059155</td>\n",
              "      <td id=\"T_c0610_row18_col3\" class=\"data row18 col3\" >-0.004605</td>\n",
              "      <td id=\"T_c0610_row18_col4\" class=\"data row18 col4\" >0.028978</td>\n",
              "      <td id=\"T_c0610_row18_col5\" class=\"data row18 col5\" >-0.082467</td>\n",
              "      <td id=\"T_c0610_row18_col6\" class=\"data row18 col6\" >-0.097945</td>\n",
              "      <td id=\"T_c0610_row18_col7\" class=\"data row18 col7\" >-0.133875</td>\n",
              "      <td id=\"T_c0610_row18_col8\" class=\"data row18 col8\" >-0.050524</td>\n",
              "      <td id=\"T_c0610_row18_col9\" class=\"data row18 col9\" >-0.048287</td>\n",
              "      <td id=\"T_c0610_row18_col10\" class=\"data row18 col10\" >-0.056014</td>\n",
              "      <td id=\"T_c0610_row18_col11\" class=\"data row18 col11\" >0.115810</td>\n",
              "      <td id=\"T_c0610_row18_col12\" class=\"data row18 col12\" >0.117469</td>\n",
              "      <td id=\"T_c0610_row18_col13\" class=\"data row18 col13\" >0.267307</td>\n",
              "      <td id=\"T_c0610_row18_col14\" class=\"data row18 col14\" >0.228494</td>\n",
              "      <td id=\"T_c0610_row18_col15\" class=\"data row18 col15\" >0.197962</td>\n",
              "      <td id=\"T_c0610_row18_col16\" class=\"data row18 col16\" >0.173696</td>\n",
              "      <td id=\"T_c0610_row18_col17\" class=\"data row18 col17\" >0.359835</td>\n",
              "      <td id=\"T_c0610_row18_col18\" class=\"data row18 col18\" >1.000000</td>\n",
              "      <td id=\"T_c0610_row18_col19\" class=\"data row18 col19\" >0.285263</td>\n",
              "      <td id=\"T_c0610_row18_col20\" class=\"data row18 col20\" >0.209693</td>\n",
              "      <td id=\"T_c0610_row18_col21\" class=\"data row18 col21\" >0.136295</td>\n",
              "      <td id=\"T_c0610_row18_col22\" class=\"data row18 col22\" >0.186085</td>\n",
              "      <td id=\"T_c0610_row18_col23\" class=\"data row18 col23\" >-0.067184</td>\n",
              "      <td id=\"T_c0610_row18_col24\" class=\"data row18 col24\" >0.099554</td>\n",
              "      <td id=\"T_c0610_row18_col25\" class=\"data row18 col25\" >0.298439</td>\n",
              "      <td id=\"T_c0610_row18_col26\" class=\"data row18 col26\" >0.110913</td>\n",
              "      <td id=\"T_c0610_row18_col27\" class=\"data row18 col27\" >0.107886</td>\n",
              "      <td id=\"T_c0610_row18_col28\" class=\"data row18 col28\" >0.108230</td>\n",
              "      <td id=\"T_c0610_row18_col29\" class=\"data row18 col29\" >0.118944</td>\n",
              "    </tr>\n",
              "    <tr>\n",
              "      <th id=\"T_c0610_level0_row19\" class=\"row_heading level0 row19\" >PAY_AMT3</th>\n",
              "      <td id=\"T_c0610_row19_col0\" class=\"data row19 col0\" >0.237088</td>\n",
              "      <td id=\"T_c0610_row19_col1\" class=\"data row19 col1\" >-0.007381</td>\n",
              "      <td id=\"T_c0610_row19_col2\" class=\"data row19 col2\" >-0.065303</td>\n",
              "      <td id=\"T_c0610_row19_col3\" class=\"data row19 col3\" >-0.003336</td>\n",
              "      <td id=\"T_c0610_row19_col4\" class=\"data row19 col4\" >0.032660</td>\n",
              "      <td id=\"T_c0610_row19_col5\" class=\"data row19 col5\" >-0.079317</td>\n",
              "      <td id=\"T_c0610_row19_col6\" class=\"data row19 col6\" >-0.093931</td>\n",
              "      <td id=\"T_c0610_row19_col7\" class=\"data row19 col7\" >-0.095781</td>\n",
              "      <td id=\"T_c0610_row19_col8\" class=\"data row19 col8\" >-0.139472</td>\n",
              "      <td id=\"T_c0610_row19_col9\" class=\"data row19 col9\" >-0.046290</td>\n",
              "      <td id=\"T_c0610_row19_col10\" class=\"data row19 col10\" >-0.050774</td>\n",
              "      <td id=\"T_c0610_row19_col11\" class=\"data row19 col11\" >0.156431</td>\n",
              "      <td id=\"T_c0610_row19_col12\" class=\"data row19 col12\" >0.155302</td>\n",
              "      <td id=\"T_c0610_row19_col13\" class=\"data row19 col13\" >0.126183</td>\n",
              "      <td id=\"T_c0610_row19_col14\" class=\"data row19 col14\" >0.283036</td>\n",
              "      <td id=\"T_c0610_row19_col15\" class=\"data row19 col15\" >0.247815</td>\n",
              "      <td id=\"T_c0610_row19_col16\" class=\"data row19 col16\" >0.230686</td>\n",
              "      <td id=\"T_c0610_row19_col17\" class=\"data row19 col17\" >0.270388</td>\n",
              "      <td id=\"T_c0610_row19_col18\" class=\"data row19 col18\" >0.285263</td>\n",
              "      <td id=\"T_c0610_row19_col19\" class=\"data row19 col19\" >1.000000</td>\n",
              "      <td id=\"T_c0610_row19_col20\" class=\"data row19 col20\" >0.224821</td>\n",
              "      <td id=\"T_c0610_row19_col21\" class=\"data row19 col21\" >0.149163</td>\n",
              "      <td id=\"T_c0610_row19_col22\" class=\"data row19 col22\" >0.149779</td>\n",
              "      <td id=\"T_c0610_row19_col23\" class=\"data row19 col23\" >-0.057127</td>\n",
              "      <td id=\"T_c0610_row19_col24\" class=\"data row19 col24\" >0.125065</td>\n",
              "      <td id=\"T_c0610_row19_col25\" class=\"data row19 col25\" >0.101110</td>\n",
              "      <td id=\"T_c0610_row19_col26\" class=\"data row19 col26\" >0.318400</td>\n",
              "      <td id=\"T_c0610_row19_col27\" class=\"data row19 col27\" >0.110488</td>\n",
              "      <td id=\"T_c0610_row19_col28\" class=\"data row19 col28\" >0.112088</td>\n",
              "      <td id=\"T_c0610_row19_col29\" class=\"data row19 col29\" >0.119226</td>\n",
              "    </tr>\n",
              "    <tr>\n",
              "      <th id=\"T_c0610_level0_row20\" class=\"row_heading level0 row20\" >PAY_AMT4</th>\n",
              "      <td id=\"T_c0610_row20_col0\" class=\"data row20 col0\" >0.226402</td>\n",
              "      <td id=\"T_c0610_row20_col1\" class=\"data row20 col1\" >-0.002598</td>\n",
              "      <td id=\"T_c0610_row20_col2\" class=\"data row20 col2\" >-0.056125</td>\n",
              "      <td id=\"T_c0610_row20_col3\" class=\"data row20 col3\" >-0.010558</td>\n",
              "      <td id=\"T_c0610_row20_col4\" class=\"data row20 col4\" >0.022073</td>\n",
              "      <td id=\"T_c0610_row20_col5\" class=\"data row20 col5\" >-0.072789</td>\n",
              "      <td id=\"T_c0610_row20_col6\" class=\"data row20 col6\" >-0.077350</td>\n",
              "      <td id=\"T_c0610_row20_col7\" class=\"data row20 col7\" >-0.080673</td>\n",
              "      <td id=\"T_c0610_row20_col8\" class=\"data row20 col8\" >-0.091346</td>\n",
              "      <td id=\"T_c0610_row20_col9\" class=\"data row20 col9\" >-0.137970</td>\n",
              "      <td id=\"T_c0610_row20_col10\" class=\"data row20 col10\" >-0.043969</td>\n",
              "      <td id=\"T_c0610_row20_col11\" class=\"data row20 col11\" >0.168762</td>\n",
              "      <td id=\"T_c0610_row20_col12\" class=\"data row20 col12\" >0.159660</td>\n",
              "      <td id=\"T_c0610_row20_col13\" class=\"data row20 col13\" >0.149421</td>\n",
              "      <td id=\"T_c0610_row20_col14\" class=\"data row20 col14\" >0.132706</td>\n",
              "      <td id=\"T_c0610_row20_col15\" class=\"data row20 col15\" >0.275798</td>\n",
              "      <td id=\"T_c0610_row20_col16\" class=\"data row20 col16\" >0.242935</td>\n",
              "      <td id=\"T_c0610_row20_col17\" class=\"data row20 col17\" >0.217016</td>\n",
              "      <td id=\"T_c0610_row20_col18\" class=\"data row20 col18\" >0.209693</td>\n",
              "      <td id=\"T_c0610_row20_col19\" class=\"data row20 col19\" >0.224821</td>\n",
              "      <td id=\"T_c0610_row20_col20\" class=\"data row20 col20\" >1.000000</td>\n",
              "      <td id=\"T_c0610_row20_col21\" class=\"data row20 col21\" >0.152262</td>\n",
              "      <td id=\"T_c0610_row20_col22\" class=\"data row20 col22\" >0.157719</td>\n",
              "      <td id=\"T_c0610_row20_col23\" class=\"data row20 col23\" >-0.059269</td>\n",
              "      <td id=\"T_c0610_row20_col24\" class=\"data row20 col24\" >0.116597</td>\n",
              "      <td id=\"T_c0610_row20_col25\" class=\"data row20 col25\" >0.115818</td>\n",
              "      <td id=\"T_c0610_row20_col26\" class=\"data row20 col26\" >0.098833</td>\n",
              "      <td id=\"T_c0610_row20_col27\" class=\"data row20 col27\" >0.343465</td>\n",
              "      <td id=\"T_c0610_row20_col28\" class=\"data row20 col28\" >0.113442</td>\n",
              "      <td id=\"T_c0610_row20_col29\" class=\"data row20 col29\" >0.135526</td>\n",
              "    </tr>\n",
              "    <tr>\n",
              "      <th id=\"T_c0610_level0_row21\" class=\"row_heading level0 row21\" >PAY_AMT5</th>\n",
              "      <td id=\"T_c0610_row21_col0\" class=\"data row21 col0\" >0.246167</td>\n",
              "      <td id=\"T_c0610_row21_col1\" class=\"data row21 col1\" >-0.006190</td>\n",
              "      <td id=\"T_c0610_row21_col2\" class=\"data row21 col2\" >-0.062032</td>\n",
              "      <td id=\"T_c0610_row21_col3\" class=\"data row21 col3\" >-0.004278</td>\n",
              "      <td id=\"T_c0610_row21_col4\" class=\"data row21 col4\" >0.023581</td>\n",
              "      <td id=\"T_c0610_row21_col5\" class=\"data row21 col5\" >-0.061194</td>\n",
              "      <td id=\"T_c0610_row21_col6\" class=\"data row21 col6\" >-0.068484</td>\n",
              "      <td id=\"T_c0610_row21_col7\" class=\"data row21 col7\" >-0.069972</td>\n",
              "      <td id=\"T_c0610_row21_col8\" class=\"data row21 col8\" >-0.074020</td>\n",
              "      <td id=\"T_c0610_row21_col9\" class=\"data row21 col9\" >-0.080824</td>\n",
              "      <td id=\"T_c0610_row21_col10\" class=\"data row21 col10\" >-0.128215</td>\n",
              "      <td id=\"T_c0610_row21_col11\" class=\"data row21 col11\" >0.174736</td>\n",
              "      <td id=\"T_c0610_row21_col12\" class=\"data row21 col12\" >0.169559</td>\n",
              "      <td id=\"T_c0610_row21_col13\" class=\"data row21 col13\" >0.168369</td>\n",
              "      <td id=\"T_c0610_row21_col14\" class=\"data row21 col14\" >0.165300</td>\n",
              "      <td id=\"T_c0610_row21_col15\" class=\"data row21 col15\" >0.143626</td>\n",
              "      <td id=\"T_c0610_row21_col16\" class=\"data row21 col16\" >0.294024</td>\n",
              "      <td id=\"T_c0610_row21_col17\" class=\"data row21 col17\" >0.143363</td>\n",
              "      <td id=\"T_c0610_row21_col18\" class=\"data row21 col18\" >0.136295</td>\n",
              "      <td id=\"T_c0610_row21_col19\" class=\"data row21 col19\" >0.149163</td>\n",
              "      <td id=\"T_c0610_row21_col20\" class=\"data row21 col20\" >0.152262</td>\n",
              "      <td id=\"T_c0610_row21_col21\" class=\"data row21 col21\" >1.000000</td>\n",
              "      <td id=\"T_c0610_row21_col22\" class=\"data row21 col22\" >0.144991</td>\n",
              "      <td id=\"T_c0610_row21_col23\" class=\"data row21 col23\" >-0.058851</td>\n",
              "      <td id=\"T_c0610_row21_col24\" class=\"data row21 col24\" >0.110661</td>\n",
              "      <td id=\"T_c0610_row21_col25\" class=\"data row21 col25\" >0.114938</td>\n",
              "      <td id=\"T_c0610_row21_col26\" class=\"data row21 col26\" >0.114315</td>\n",
              "      <td id=\"T_c0610_row21_col27\" class=\"data row21 col27\" >0.113440</td>\n",
              "      <td id=\"T_c0610_row21_col28\" class=\"data row21 col28\" >0.348127</td>\n",
              "      <td id=\"T_c0610_row21_col29\" class=\"data row21 col29\" >0.138523</td>\n",
              "    </tr>\n",
              "    <tr>\n",
              "      <th id=\"T_c0610_level0_row22\" class=\"row_heading level0 row22\" >PAY_AMT6</th>\n",
              "      <td id=\"T_c0610_row22_col0\" class=\"data row22 col0\" >0.240682</td>\n",
              "      <td id=\"T_c0610_row22_col1\" class=\"data row22 col1\" >0.000708</td>\n",
              "      <td id=\"T_c0610_row22_col2\" class=\"data row22 col2\" >-0.063823</td>\n",
              "      <td id=\"T_c0610_row22_col3\" class=\"data row22 col3\" >-0.007002</td>\n",
              "      <td id=\"T_c0610_row22_col4\" class=\"data row22 col4\" >0.019536</td>\n",
              "      <td id=\"T_c0610_row22_col5\" class=\"data row22 col5\" >-0.057097</td>\n",
              "      <td id=\"T_c0610_row22_col6\" class=\"data row22 col6\" >-0.062549</td>\n",
              "      <td id=\"T_c0610_row22_col7\" class=\"data row22 col7\" >-0.067083</td>\n",
              "      <td id=\"T_c0610_row22_col8\" class=\"data row22 col8\" >-0.060838</td>\n",
              "      <td id=\"T_c0610_row22_col9\" class=\"data row22 col9\" >-0.059593</td>\n",
              "      <td id=\"T_c0610_row22_col10\" class=\"data row22 col10\" >-0.074232</td>\n",
              "      <td id=\"T_c0610_row22_col11\" class=\"data row22 col11\" >0.187579</td>\n",
              "      <td id=\"T_c0610_row22_col12\" class=\"data row22 col12\" >0.178549</td>\n",
              "      <td id=\"T_c0610_row22_col13\" class=\"data row22 col13\" >0.194540</td>\n",
              "      <td id=\"T_c0610_row22_col14\" class=\"data row22 col14\" >0.186311</td>\n",
              "      <td id=\"T_c0610_row22_col15\" class=\"data row22 col15\" >0.172951</td>\n",
              "      <td id=\"T_c0610_row22_col16\" class=\"data row22 col16\" >0.121175</td>\n",
              "      <td id=\"T_c0610_row22_col17\" class=\"data row22 col17\" >0.159290</td>\n",
              "      <td id=\"T_c0610_row22_col18\" class=\"data row22 col18\" >0.186085</td>\n",
              "      <td id=\"T_c0610_row22_col19\" class=\"data row22 col19\" >0.149779</td>\n",
              "      <td id=\"T_c0610_row22_col20\" class=\"data row22 col20\" >0.157719</td>\n",
              "      <td id=\"T_c0610_row22_col21\" class=\"data row22 col21\" >0.144991</td>\n",
              "      <td id=\"T_c0610_row22_col22\" class=\"data row22 col22\" >1.000000</td>\n",
              "      <td id=\"T_c0610_row22_col23\" class=\"data row22 col23\" >-0.047348</td>\n",
              "      <td id=\"T_c0610_row22_col24\" class=\"data row22 col24\" >0.110019</td>\n",
              "      <td id=\"T_c0610_row22_col25\" class=\"data row22 col25\" >0.117212</td>\n",
              "      <td id=\"T_c0610_row22_col26\" class=\"data row22 col26\" >0.107044</td>\n",
              "      <td id=\"T_c0610_row22_col27\" class=\"data row22 col27\" >0.106448</td>\n",
              "      <td id=\"T_c0610_row22_col28\" class=\"data row22 col28\" >0.098485</td>\n",
              "      <td id=\"T_c0610_row22_col29\" class=\"data row22 col29\" >0.335685</td>\n",
              "    </tr>\n",
              "    <tr>\n",
              "      <th id=\"T_c0610_level0_row23\" class=\"row_heading level0 row23\" >TARGET</th>\n",
              "      <td id=\"T_c0610_row23_col0\" class=\"data row23 col0\" >-0.173595</td>\n",
              "      <td id=\"T_c0610_row23_col1\" class=\"data row23 col1\" >-0.039121</td>\n",
              "      <td id=\"T_c0610_row23_col2\" class=\"data row23 col2\" >0.051687</td>\n",
              "      <td id=\"T_c0610_row23_col3\" class=\"data row23 col3\" >-0.030420</td>\n",
              "      <td id=\"T_c0610_row23_col4\" class=\"data row23 col4\" >0.010668</td>\n",
              "      <td id=\"T_c0610_row23_col5\" class=\"data row23 col5\" >0.386348</td>\n",
              "      <td id=\"T_c0610_row23_col6\" class=\"data row23 col6\" >0.332388</td>\n",
              "      <td id=\"T_c0610_row23_col7\" class=\"data row23 col7\" >0.300042</td>\n",
              "      <td id=\"T_c0610_row23_col8\" class=\"data row23 col8\" >0.282354</td>\n",
              "      <td id=\"T_c0610_row23_col9\" class=\"data row23 col9\" >0.273554</td>\n",
              "      <td id=\"T_c0610_row23_col10\" class=\"data row23 col10\" >0.255822</td>\n",
              "      <td id=\"T_c0610_row23_col11\" class=\"data row23 col11\" >-0.032167</td>\n",
              "      <td id=\"T_c0610_row23_col12\" class=\"data row23 col12\" >-0.025983</td>\n",
              "      <td id=\"T_c0610_row23_col13\" class=\"data row23 col13\" >-0.024783</td>\n",
              "      <td id=\"T_c0610_row23_col14\" class=\"data row23 col14\" >-0.019994</td>\n",
              "      <td id=\"T_c0610_row23_col15\" class=\"data row23 col15\" >-0.015402</td>\n",
              "      <td id=\"T_c0610_row23_col16\" class=\"data row23 col16\" >-0.013940</td>\n",
              "      <td id=\"T_c0610_row23_col17\" class=\"data row23 col17\" >-0.075208</td>\n",
              "      <td id=\"T_c0610_row23_col18\" class=\"data row23 col18\" >-0.067184</td>\n",
              "      <td id=\"T_c0610_row23_col19\" class=\"data row23 col19\" >-0.057127</td>\n",
              "      <td id=\"T_c0610_row23_col20\" class=\"data row23 col20\" >-0.059269</td>\n",
              "      <td id=\"T_c0610_row23_col21\" class=\"data row23 col21\" >-0.058851</td>\n",
              "      <td id=\"T_c0610_row23_col22\" class=\"data row23 col22\" >-0.047348</td>\n",
              "      <td id=\"T_c0610_row23_col23\" class=\"data row23 col23\" >1.000000</td>\n",
              "      <td id=\"T_c0610_row23_col24\" class=\"data row23 col24\" >-0.220771</td>\n",
              "      <td id=\"T_c0610_row23_col25\" class=\"data row23 col25\" >-0.206337</td>\n",
              "      <td id=\"T_c0610_row23_col26\" class=\"data row23 col26\" >-0.183766</td>\n",
              "      <td id=\"T_c0610_row23_col27\" class=\"data row23 col27\" >-0.161370</td>\n",
              "      <td id=\"T_c0610_row23_col28\" class=\"data row23 col28\" >-0.138667</td>\n",
              "      <td id=\"T_c0610_row23_col29\" class=\"data row23 col29\" >-0.131838</td>\n",
              "    </tr>\n",
              "    <tr>\n",
              "      <th id=\"T_c0610_level0_row24\" class=\"row_heading level0 row24\" >Log_PAY_AMT1</th>\n",
              "      <td id=\"T_c0610_row24_col0\" class=\"data row24 col0\" >0.242100</td>\n",
              "      <td id=\"T_c0610_row24_col1\" class=\"data row24 col1\" >0.018164</td>\n",
              "      <td id=\"T_c0610_row24_col2\" class=\"data row24 col2\" >-0.061343</td>\n",
              "      <td id=\"T_c0610_row24_col3\" class=\"data row24 col3\" >-0.001208</td>\n",
              "      <td id=\"T_c0610_row24_col4\" class=\"data row24 col4\" >0.015776</td>\n",
              "      <td id=\"T_c0610_row24_col5\" class=\"data row24 col5\" >-0.299676</td>\n",
              "      <td id=\"T_c0610_row24_col6\" class=\"data row24 col6\" >-0.533252</td>\n",
              "      <td id=\"T_c0610_row24_col7\" class=\"data row24 col7\" >-0.161543</td>\n",
              "      <td id=\"T_c0610_row24_col8\" class=\"data row24 col8\" >-0.199880</td>\n",
              "      <td id=\"T_c0610_row24_col9\" class=\"data row24 col9\" >-0.193124</td>\n",
              "      <td id=\"T_c0610_row24_col10\" class=\"data row24 col10\" >-0.169142</td>\n",
              "      <td id=\"T_c0610_row24_col11\" class=\"data row24 col11\" >0.244819</td>\n",
              "      <td id=\"T_c0610_row24_col12\" class=\"data row24 col12\" >0.284347</td>\n",
              "      <td id=\"T_c0610_row24_col13\" class=\"data row24 col13\" >0.261458</td>\n",
              "      <td id=\"T_c0610_row24_col14\" class=\"data row24 col14\" >0.251717</td>\n",
              "      <td id=\"T_c0610_row24_col15\" class=\"data row24 col15\" >0.239140</td>\n",
              "      <td id=\"T_c0610_row24_col16\" class=\"data row24 col16\" >0.230229</td>\n",
              "      <td id=\"T_c0610_row24_col17\" class=\"data row24 col17\" >0.334743</td>\n",
              "      <td id=\"T_c0610_row24_col18\" class=\"data row24 col18\" >0.099554</td>\n",
              "      <td id=\"T_c0610_row24_col19\" class=\"data row24 col19\" >0.125065</td>\n",
              "      <td id=\"T_c0610_row24_col20\" class=\"data row24 col20\" >0.116597</td>\n",
              "      <td id=\"T_c0610_row24_col21\" class=\"data row24 col21\" >0.110661</td>\n",
              "      <td id=\"T_c0610_row24_col22\" class=\"data row24 col22\" >0.110019</td>\n",
              "      <td id=\"T_c0610_row24_col23\" class=\"data row24 col23\" >-0.220771</td>\n",
              "      <td id=\"T_c0610_row24_col24\" class=\"data row24 col24\" >1.000000</td>\n",
              "      <td id=\"T_c0610_row24_col25\" class=\"data row24 col25\" >0.181305</td>\n",
              "      <td id=\"T_c0610_row24_col26\" class=\"data row24 col26\" >0.315886</td>\n",
              "      <td id=\"T_c0610_row24_col27\" class=\"data row24 col27\" >0.277187</td>\n",
              "      <td id=\"T_c0610_row24_col28\" class=\"data row24 col28\" >0.248767</td>\n",
              "      <td id=\"T_c0610_row24_col29\" class=\"data row24 col29\" >0.237596</td>\n",
              "    </tr>\n",
              "    <tr>\n",
              "      <th id=\"T_c0610_level0_row25\" class=\"row_heading level0 row25\" >Log_PAY_AMT2</th>\n",
              "      <td id=\"T_c0610_row25_col0\" class=\"data row25 col0\" >0.250210</td>\n",
              "      <td id=\"T_c0610_row25_col1\" class=\"data row25 col1\" >0.026421</td>\n",
              "      <td id=\"T_c0610_row25_col2\" class=\"data row25 col2\" >-0.064686</td>\n",
              "      <td id=\"T_c0610_row25_col3\" class=\"data row25 col3\" >-0.007888</td>\n",
              "      <td id=\"T_c0610_row25_col4\" class=\"data row25 col4\" >0.029717</td>\n",
              "      <td id=\"T_c0610_row25_col5\" class=\"data row25 col5\" >-0.246915</td>\n",
              "      <td id=\"T_c0610_row25_col6\" class=\"data row25 col6\" >-0.297018</td>\n",
              "      <td id=\"T_c0610_row25_col7\" class=\"data row25 col7\" >-0.555046</td>\n",
              "      <td id=\"T_c0610_row25_col8\" class=\"data row25 col8\" >-0.181692</td>\n",
              "      <td id=\"T_c0610_row25_col9\" class=\"data row25 col9\" >-0.193084</td>\n",
              "      <td id=\"T_c0610_row25_col10\" class=\"data row25 col10\" >-0.195464</td>\n",
              "      <td id=\"T_c0610_row25_col11\" class=\"data row25 col11\" >0.252356</td>\n",
              "      <td id=\"T_c0610_row25_col12\" class=\"data row25 col12\" >0.243764</td>\n",
              "      <td id=\"T_c0610_row25_col13\" class=\"data row25 col13\" >0.288720</td>\n",
              "      <td id=\"T_c0610_row25_col14\" class=\"data row25 col14\" >0.261801</td>\n",
              "      <td id=\"T_c0610_row25_col15\" class=\"data row25 col15\" >0.246114</td>\n",
              "      <td id=\"T_c0610_row25_col16\" class=\"data row25 col16\" >0.236262</td>\n",
              "      <td id=\"T_c0610_row25_col17\" class=\"data row25 col17\" >0.127838</td>\n",
              "      <td id=\"T_c0610_row25_col18\" class=\"data row25 col18\" >0.298439</td>\n",
              "      <td id=\"T_c0610_row25_col19\" class=\"data row25 col19\" >0.101110</td>\n",
              "      <td id=\"T_c0610_row25_col20\" class=\"data row25 col20\" >0.115818</td>\n",
              "      <td id=\"T_c0610_row25_col21\" class=\"data row25 col21\" >0.114938</td>\n",
              "      <td id=\"T_c0610_row25_col22\" class=\"data row25 col22\" >0.117212</td>\n",
              "      <td id=\"T_c0610_row25_col23\" class=\"data row25 col23\" >-0.206337</td>\n",
              "      <td id=\"T_c0610_row25_col24\" class=\"data row25 col24\" >0.181305</td>\n",
              "      <td id=\"T_c0610_row25_col25\" class=\"data row25 col25\" >1.000000</td>\n",
              "      <td id=\"T_c0610_row25_col26\" class=\"data row25 col26\" >0.186423</td>\n",
              "      <td id=\"T_c0610_row25_col27\" class=\"data row25 col27\" >0.310757</td>\n",
              "      <td id=\"T_c0610_row25_col28\" class=\"data row25 col28\" >0.256220</td>\n",
              "      <td id=\"T_c0610_row25_col29\" class=\"data row25 col29\" >0.267236</td>\n",
              "    </tr>\n",
              "    <tr>\n",
              "      <th id=\"T_c0610_level0_row26\" class=\"row_heading level0 row26\" >Log_PAY_AMT3</th>\n",
              "      <td id=\"T_c0610_row26_col0\" class=\"data row26 col0\" >0.253487</td>\n",
              "      <td id=\"T_c0610_row26_col1\" class=\"data row26 col1\" >0.037330</td>\n",
              "      <td id=\"T_c0610_row26_col2\" class=\"data row26 col2\" >-0.053312</td>\n",
              "      <td id=\"T_c0610_row26_col3\" class=\"data row26 col3\" >-0.011826</td>\n",
              "      <td id=\"T_c0610_row26_col4\" class=\"data row26 col4\" >0.019231</td>\n",
              "      <td id=\"T_c0610_row26_col5\" class=\"data row26 col5\" >-0.188143</td>\n",
              "      <td id=\"T_c0610_row26_col6\" class=\"data row26 col6\" >-0.217408</td>\n",
              "      <td id=\"T_c0610_row26_col7\" class=\"data row26 col7\" >-0.272257</td>\n",
              "      <td id=\"T_c0610_row26_col8\" class=\"data row26 col8\" >-0.487054</td>\n",
              "      <td id=\"T_c0610_row26_col9\" class=\"data row26 col9\" >-0.144653</td>\n",
              "      <td id=\"T_c0610_row26_col10\" class=\"data row26 col10\" >-0.152359</td>\n",
              "      <td id=\"T_c0610_row26_col11\" class=\"data row26 col11\" >0.275060</td>\n",
              "      <td id=\"T_c0610_row26_col12\" class=\"data row26 col12\" >0.275626</td>\n",
              "      <td id=\"T_c0610_row26_col13\" class=\"data row26 col13\" >0.268932</td>\n",
              "      <td id=\"T_c0610_row26_col14\" class=\"data row26 col14\" >0.313452</td>\n",
              "      <td id=\"T_c0610_row26_col15\" class=\"data row26 col15\" >0.286123</td>\n",
              "      <td id=\"T_c0610_row26_col16\" class=\"data row26 col16\" >0.276302</td>\n",
              "      <td id=\"T_c0610_row26_col17\" class=\"data row26 col17\" >0.146299</td>\n",
              "      <td id=\"T_c0610_row26_col18\" class=\"data row26 col18\" >0.110913</td>\n",
              "      <td id=\"T_c0610_row26_col19\" class=\"data row26 col19\" >0.318400</td>\n",
              "      <td id=\"T_c0610_row26_col20\" class=\"data row26 col20\" >0.098833</td>\n",
              "      <td id=\"T_c0610_row26_col21\" class=\"data row26 col21\" >0.114315</td>\n",
              "      <td id=\"T_c0610_row26_col22\" class=\"data row26 col22\" >0.107044</td>\n",
              "      <td id=\"T_c0610_row26_col23\" class=\"data row26 col23\" >-0.183766</td>\n",
              "      <td id=\"T_c0610_row26_col24\" class=\"data row26 col24\" >0.315886</td>\n",
              "      <td id=\"T_c0610_row26_col25\" class=\"data row26 col25\" >0.186423</td>\n",
              "      <td id=\"T_c0610_row26_col26\" class=\"data row26 col26\" >1.000000</td>\n",
              "      <td id=\"T_c0610_row26_col27\" class=\"data row26 col27\" >0.192804</td>\n",
              "      <td id=\"T_c0610_row26_col28\" class=\"data row26 col28\" >0.307173</td>\n",
              "      <td id=\"T_c0610_row26_col29\" class=\"data row26 col29\" >0.268818</td>\n",
              "    </tr>\n",
              "    <tr>\n",
              "      <th id=\"T_c0610_level0_row27\" class=\"row_heading level0 row27\" >Log_PAY_AMT4</th>\n",
              "      <td id=\"T_c0610_row27_col0\" class=\"data row27 col0\" >0.246574</td>\n",
              "      <td id=\"T_c0610_row27_col1\" class=\"data row27 col1\" >0.021663</td>\n",
              "      <td id=\"T_c0610_row27_col2\" class=\"data row27 col2\" >-0.048012</td>\n",
              "      <td id=\"T_c0610_row27_col3\" class=\"data row27 col3\" >-0.016057</td>\n",
              "      <td id=\"T_c0610_row27_col4\" class=\"data row27 col4\" >0.027605</td>\n",
              "      <td id=\"T_c0610_row27_col5\" class=\"data row27 col5\" >-0.154495</td>\n",
              "      <td id=\"T_c0610_row27_col6\" class=\"data row27 col6\" >-0.185733</td>\n",
              "      <td id=\"T_c0610_row27_col7\" class=\"data row27 col7\" >-0.206207</td>\n",
              "      <td id=\"T_c0610_row27_col8\" class=\"data row27 col8\" >-0.246796</td>\n",
              "      <td id=\"T_c0610_row27_col9\" class=\"data row27 col9\" >-0.436620</td>\n",
              "      <td id=\"T_c0610_row27_col10\" class=\"data row27 col10\" >-0.118390</td>\n",
              "      <td id=\"T_c0610_row27_col11\" class=\"data row27 col11\" >0.292690</td>\n",
              "      <td id=\"T_c0610_row27_col12\" class=\"data row27 col12\" >0.293720</td>\n",
              "      <td id=\"T_c0610_row27_col13\" class=\"data row27 col13\" >0.293608</td>\n",
              "      <td id=\"T_c0610_row27_col14\" class=\"data row27 col14\" >0.285275</td>\n",
              "      <td id=\"T_c0610_row27_col15\" class=\"data row27 col15\" >0.328451</td>\n",
              "      <td id=\"T_c0610_row27_col16\" class=\"data row27 col16\" >0.310846</td>\n",
              "      <td id=\"T_c0610_row27_col17\" class=\"data row27 col17\" >0.137093</td>\n",
              "      <td id=\"T_c0610_row27_col18\" class=\"data row27 col18\" >0.107886</td>\n",
              "      <td id=\"T_c0610_row27_col19\" class=\"data row27 col19\" >0.110488</td>\n",
              "      <td id=\"T_c0610_row27_col20\" class=\"data row27 col20\" >0.343465</td>\n",
              "      <td id=\"T_c0610_row27_col21\" class=\"data row27 col21\" >0.113440</td>\n",
              "      <td id=\"T_c0610_row27_col22\" class=\"data row27 col22\" >0.106448</td>\n",
              "      <td id=\"T_c0610_row27_col23\" class=\"data row27 col23\" >-0.161370</td>\n",
              "      <td id=\"T_c0610_row27_col24\" class=\"data row27 col24\" >0.277187</td>\n",
              "      <td id=\"T_c0610_row27_col25\" class=\"data row27 col25\" >0.310757</td>\n",
              "      <td id=\"T_c0610_row27_col26\" class=\"data row27 col26\" >0.192804</td>\n",
              "      <td id=\"T_c0610_row27_col27\" class=\"data row27 col27\" >1.000000</td>\n",
              "      <td id=\"T_c0610_row27_col28\" class=\"data row27 col28\" >0.208829</td>\n",
              "      <td id=\"T_c0610_row27_col29\" class=\"data row27 col29\" >0.331281</td>\n",
              "    </tr>\n",
              "    <tr>\n",
              "      <th id=\"T_c0610_level0_row28\" class=\"row_heading level0 row28\" >Log_PAY_AMT5</th>\n",
              "      <td id=\"T_c0610_row28_col0\" class=\"data row28 col0\" >0.252646</td>\n",
              "      <td id=\"T_c0610_row28_col1\" class=\"data row28 col1\" >0.018058</td>\n",
              "      <td id=\"T_c0610_row28_col2\" class=\"data row28 col2\" >-0.052637</td>\n",
              "      <td id=\"T_c0610_row28_col3\" class=\"data row28 col3\" >-0.013592</td>\n",
              "      <td id=\"T_c0610_row28_col4\" class=\"data row28 col4\" >0.021610</td>\n",
              "      <td id=\"T_c0610_row28_col5\" class=\"data row28 col5\" >-0.116357</td>\n",
              "      <td id=\"T_c0610_row28_col6\" class=\"data row28 col6\" >-0.134860</td>\n",
              "      <td id=\"T_c0610_row28_col7\" class=\"data row28 col7\" >-0.151989</td>\n",
              "      <td id=\"T_c0610_row28_col8\" class=\"data row28 col8\" >-0.162145</td>\n",
              "      <td id=\"T_c0610_row28_col9\" class=\"data row28 col9\" >-0.178308</td>\n",
              "      <td id=\"T_c0610_row28_col10\" class=\"data row28 col10\" >-0.387370</td>\n",
              "      <td id=\"T_c0610_row28_col11\" class=\"data row28 col11\" >0.282151</td>\n",
              "      <td id=\"T_c0610_row28_col12\" class=\"data row28 col12\" >0.287510</td>\n",
              "      <td id=\"T_c0610_row28_col13\" class=\"data row28 col13\" >0.288321</td>\n",
              "      <td id=\"T_c0610_row28_col14\" class=\"data row28 col14\" >0.288609</td>\n",
              "      <td id=\"T_c0610_row28_col15\" class=\"data row28 col15\" >0.284506</td>\n",
              "      <td id=\"T_c0610_row28_col16\" class=\"data row28 col16\" >0.341771</td>\n",
              "      <td id=\"T_c0610_row28_col17\" class=\"data row28 col17\" >0.129605</td>\n",
              "      <td id=\"T_c0610_row28_col18\" class=\"data row28 col18\" >0.108230</td>\n",
              "      <td id=\"T_c0610_row28_col19\" class=\"data row28 col19\" >0.112088</td>\n",
              "      <td id=\"T_c0610_row28_col20\" class=\"data row28 col20\" >0.113442</td>\n",
              "      <td id=\"T_c0610_row28_col21\" class=\"data row28 col21\" >0.348127</td>\n",
              "      <td id=\"T_c0610_row28_col22\" class=\"data row28 col22\" >0.098485</td>\n",
              "      <td id=\"T_c0610_row28_col23\" class=\"data row28 col23\" >-0.138667</td>\n",
              "      <td id=\"T_c0610_row28_col24\" class=\"data row28 col24\" >0.248767</td>\n",
              "      <td id=\"T_c0610_row28_col25\" class=\"data row28 col25\" >0.256220</td>\n",
              "      <td id=\"T_c0610_row28_col26\" class=\"data row28 col26\" >0.307173</td>\n",
              "      <td id=\"T_c0610_row28_col27\" class=\"data row28 col27\" >0.208829</td>\n",
              "      <td id=\"T_c0610_row28_col28\" class=\"data row28 col28\" >1.000000</td>\n",
              "      <td id=\"T_c0610_row28_col29\" class=\"data row28 col29\" >0.302239</td>\n",
              "    </tr>\n",
              "    <tr>\n",
              "      <th id=\"T_c0610_level0_row29\" class=\"row_heading level0 row29\" >Log_PAY_AMT6</th>\n",
              "      <td id=\"T_c0610_row29_col0\" class=\"data row29 col0\" >0.286340</td>\n",
              "      <td id=\"T_c0610_row29_col1\" class=\"data row29 col1\" >0.043671</td>\n",
              "      <td id=\"T_c0610_row29_col2\" class=\"data row29 col2\" >-0.055170</td>\n",
              "      <td id=\"T_c0610_row29_col3\" class=\"data row29 col3\" >-0.017792</td>\n",
              "      <td id=\"T_c0610_row29_col4\" class=\"data row29 col4\" >0.032474</td>\n",
              "      <td id=\"T_c0610_row29_col5\" class=\"data row29 col5\" >-0.117158</td>\n",
              "      <td id=\"T_c0610_row29_col6\" class=\"data row29 col6\" >-0.134335</td>\n",
              "      <td id=\"T_c0610_row29_col7\" class=\"data row29 col7\" >-0.162094</td>\n",
              "      <td id=\"T_c0610_row29_col8\" class=\"data row29 col8\" >-0.154755</td>\n",
              "      <td id=\"T_c0610_row29_col9\" class=\"data row29 col9\" >-0.149050</td>\n",
              "      <td id=\"T_c0610_row29_col10\" class=\"data row29 col10\" >-0.168708</td>\n",
              "      <td id=\"T_c0610_row29_col11\" class=\"data row29 col11\" >0.286218</td>\n",
              "      <td id=\"T_c0610_row29_col12\" class=\"data row29 col12\" >0.287681</td>\n",
              "      <td id=\"T_c0610_row29_col13\" class=\"data row29 col13\" >0.292730</td>\n",
              "      <td id=\"T_c0610_row29_col14\" class=\"data row29 col14\" >0.289934</td>\n",
              "      <td id=\"T_c0610_row29_col15\" class=\"data row29 col15\" >0.295497</td>\n",
              "      <td id=\"T_c0610_row29_col16\" class=\"data row29 col16\" >0.300906</td>\n",
              "      <td id=\"T_c0610_row29_col17\" class=\"data row29 col17\" >0.131334</td>\n",
              "      <td id=\"T_c0610_row29_col18\" class=\"data row29 col18\" >0.118944</td>\n",
              "      <td id=\"T_c0610_row29_col19\" class=\"data row29 col19\" >0.119226</td>\n",
              "      <td id=\"T_c0610_row29_col20\" class=\"data row29 col20\" >0.135526</td>\n",
              "      <td id=\"T_c0610_row29_col21\" class=\"data row29 col21\" >0.138523</td>\n",
              "      <td id=\"T_c0610_row29_col22\" class=\"data row29 col22\" >0.335685</td>\n",
              "      <td id=\"T_c0610_row29_col23\" class=\"data row29 col23\" >-0.131838</td>\n",
              "      <td id=\"T_c0610_row29_col24\" class=\"data row29 col24\" >0.237596</td>\n",
              "      <td id=\"T_c0610_row29_col25\" class=\"data row29 col25\" >0.267236</td>\n",
              "      <td id=\"T_c0610_row29_col26\" class=\"data row29 col26\" >0.268818</td>\n",
              "      <td id=\"T_c0610_row29_col27\" class=\"data row29 col27\" >0.331281</td>\n",
              "      <td id=\"T_c0610_row29_col28\" class=\"data row29 col28\" >0.302239</td>\n",
              "      <td id=\"T_c0610_row29_col29\" class=\"data row29 col29\" >1.000000</td>\n",
              "    </tr>\n",
              "  </tbody>\n",
              "</table>\n"
            ]
          },
          "metadata": {},
          "execution_count": 853
        }
      ],
      "source": [
        "# We need to check the correlation between the numerical variables.\n",
        "\n",
        "Num_vars = ['LIMIT_BAL', 'AGE',\n",
        "            'BILL_AMT1', 'BILL_AMT2', 'BILL_AMT3', 'BILL_AMT4', 'BILL_AMT5', 'BILL_AMT6', \n",
        "            'PAY_AMT1', 'PAY_AMT2', 'PAY_AMT3', 'PAY_AMT4', 'PAY_AMT5', 'PAY_AMT6']\n",
        "\n",
        "corr=ds.corr(method ='pearson')\n",
        "corr.style.background_gradient(cmap='coolwarm')"
      ]
    },
    {
      "cell_type": "markdown",
      "source": [
        "ATTENTION HERE.\n",
        "\n",
        "The dataframe above show high correlation between the variables 'BILL_AMT1', 'BILL_AMT2', 'BILL_AMT3', 'BILL_AMT4', 'BILL_AMT5',\tand 'BILL_AMT6'.\n",
        "We decided to create a new variable out of them."
      ],
      "metadata": {
        "id": "SQOaZAsmb3uj"
      }
    },
    {
      "cell_type": "code",
      "source": [
        "ds['BILL_AMT']= ds[Bill_Amt].mean(axis=1)"
      ],
      "metadata": {
        "id": "rcQFhL8envHT"
      },
      "execution_count": 854,
      "outputs": []
    },
    {
      "cell_type": "code",
      "source": [
        ""
      ],
      "metadata": {
        "id": "Sb4l2_sXoAyQ"
      },
      "execution_count": 854,
      "outputs": []
    },
    {
      "cell_type": "code",
      "execution_count": 855,
      "metadata": {
        "id": "BojDki5wRbRr"
      },
      "outputs": [],
      "source": [
        "# From the dataframe above we can see high correlations, between  :\n",
        "\n",
        "\n",
        "# Maybe i should check the correlations between the variables before transforming to the log, \n",
        "# this can allow us to get ride of some variables.\n"
      ]
    },
    {
      "cell_type": "code",
      "execution_count": 856,
      "metadata": {
        "id": "VMDduBUWRbRr"
      },
      "outputs": [],
      "source": [
        "#ds.drop(columns=['BILL_AMT5'], inplace=True)"
      ]
    },
    {
      "cell_type": "code",
      "execution_count": 857,
      "metadata": {
        "id": "_m9F7fU0RbRt"
      },
      "outputs": [],
      "source": [
        "#corr=ds.corr(method ='pearson')\n",
        "#corr.style.background_gradient(cmap='coolwarm')"
      ]
    },
    {
      "cell_type": "code",
      "execution_count": 858,
      "metadata": {
        "id": "2Razg3VdRbRt"
      },
      "outputs": [],
      "source": [
        "#ds.drop(columns=['BILL_AMT4'], inplace=True)"
      ]
    },
    {
      "cell_type": "code",
      "execution_count": 859,
      "metadata": {
        "id": "OIB5x0xmRbRv"
      },
      "outputs": [],
      "source": [
        "#corr=ds.corr(method ='pearson')\n",
        "#corr.style.background_gradient(cmap='coolwarm')"
      ]
    },
    {
      "cell_type": "code",
      "execution_count": 860,
      "metadata": {
        "id": "QE2Is9dzRbRw"
      },
      "outputs": [],
      "source": [
        "#ds.drop(columns=['BILL_AMT2'], inplace=True)"
      ]
    },
    {
      "cell_type": "code",
      "execution_count": 861,
      "metadata": {
        "id": "55eRY180RbRx"
      },
      "outputs": [],
      "source": [
        "#corr=ds.corr(method ='pearson')\n",
        "#corr.style.background_gradient(cmap='coolwarm')"
      ]
    },
    {
      "cell_type": "code",
      "execution_count": 862,
      "metadata": {
        "id": "RT159miJRbRy"
      },
      "outputs": [],
      "source": [
        "#ds.drop(columns=['BILL_AMT3'], inplace=True)"
      ]
    },
    {
      "cell_type": "code",
      "execution_count": 863,
      "metadata": {
        "id": "vyUAsoS5RbRy"
      },
      "outputs": [],
      "source": [
        "#corr=ds.corr(method ='pearson')\n",
        "#corr.style.background_gradient(cmap='coolwarm')"
      ]
    },
    {
      "cell_type": "code",
      "execution_count": 864,
      "metadata": {
        "id": "0LMU614ZRbR0"
      },
      "outputs": [],
      "source": [
        "# Depending on the business understanding, we should decide to keep only one variable either 'BILL_AMT1' and 'BILL_AMT6' \n",
        "\n",
        "#ds.drop(columns=['BILL_AMT1'], inplace=True)"
      ]
    },
    {
      "cell_type": "code",
      "execution_count": 865,
      "metadata": {
        "id": "3Gks2hPFRbR1"
      },
      "outputs": [],
      "source": [
        "#corr=ds.corr(method ='pearson')\n",
        "#corr.style.background_gradient(cmap='coolwarm')"
      ]
    },
    {
      "cell_type": "code",
      "execution_count": 866,
      "metadata": {
        "id": "cT1G4EBARbR2"
      },
      "outputs": [],
      "source": [
        "# We drop all the PAY variables and keep only ones, \n",
        "# Dropping the PAY_AMT variables.\n",
        "\n",
        "#ds.drop(columns=['PAY_0', 'PAY_2', 'PAY_3', 'PAY_4', 'PAY_5'], inplace=True)\n",
        "#ds.drop(columns=['PAY_AMT1', 'PAY_AMT2', 'PAY_AMT3', 'PAY_AMT4', 'PAY_AMT5', 'PAY_AMT6'], inplace=True)"
      ]
    },
    {
      "cell_type": "code",
      "execution_count": 867,
      "metadata": {
        "id": "XciGj-pRRbR2"
      },
      "outputs": [],
      "source": [
        "#corr=ds.corr(method ='pearson')\n",
        "#corr.style.background_gradient(cmap='coolwarm')"
      ]
    },
    {
      "cell_type": "markdown",
      "metadata": {
        "id": "ptphSC43RbR5"
      },
      "source": [
        "# Data Preparation:"
      ]
    },
    {
      "cell_type": "markdown",
      "source": [
        "We start by dropping the variables 'Log_PAY_AMT1', 'Log_PAY_AMT2', 'Log_PAY_AMT3', 'Log_PAY_AMT4',\n",
        "       'Log_PAY_AMT5' and 'Log_PAY_AMT6'."
      ],
      "metadata": {
        "id": "ecEkD_j4mTVw"
      }
    },
    {
      "cell_type": "code",
      "source": [
        "ds.drop(columns= ['BILL_AMT1', 'BILL_AMT2', 'BILL_AMT3', 'BILL_AMT4', 'BILL_AMT5', 'BILL_AMT6'], inplace=True)\n",
        "ds.drop(columns= ['PAY_AMT1', 'PAY_AMT2', 'PAY_AMT3', 'PAY_AMT4', 'PAY_AMT5', 'PAY_AMT6'], inplace=True)"
      ],
      "metadata": {
        "id": "2mrBIH_tiOti"
      },
      "execution_count": 868,
      "outputs": []
    },
    {
      "cell_type": "code",
      "execution_count": 869,
      "metadata": {
        "id": "RNyaAJYjRbR7"
      },
      "outputs": [],
      "source": [
        "# Create a modeling dataset from the original dataset\n",
        "X = ds.copy(deep=True)"
      ]
    },
    {
      "cell_type": "markdown",
      "metadata": {
        "id": "bGHwhOXcRbR7"
      },
      "source": [
        "## Dealing with outliers:"
      ]
    },
    {
      "cell_type": "code",
      "execution_count": 870,
      "metadata": {
        "id": "maHzyxGQRbR8"
      },
      "outputs": [],
      "source": [
        "#X.describe().T"
      ]
    },
    {
      "cell_type": "code",
      "execution_count": 871,
      "metadata": {
        "id": "pC7SH73_RbR9"
      },
      "outputs": [],
      "source": [
        "#cols=['LIMIT_BAL', 'AGE', 'PAY_6', 'BILL_AMT6', 'Log_PAY_AMT1', 'Log_PAY_AMT2', 'Log_PAY_AMT3', 'Log_PAY_AMT4',\n",
        "#'Log_PAY_AMT5', 'Log_PAY_AMT6']"
      ]
    },
    {
      "cell_type": "code",
      "execution_count": 872,
      "metadata": {
        "id": "F1iFUsCNRbR-"
      },
      "outputs": [],
      "source": [
        "#X = removeOutliers(X, colList=cols , lowPercentile=0.05, highPercentile=0.95, verbose=True)"
      ]
    },
    {
      "cell_type": "markdown",
      "metadata": {
        "id": "UZr6_vgTRbR_"
      },
      "source": [
        "## One Hot encoding the categorical variables:"
      ]
    },
    {
      "cell_type": "code",
      "source": [
        "# Transforming a list of columns to categorical.\n",
        "cols = ['SEX', 'EDUCATION', 'MARRIAGE']\n",
        "ds[cols] = ds[cols].apply(lambda x:x.astype('category'))"
      ],
      "metadata": {
        "id": "cqryf59dlwu-"
      },
      "execution_count": 873,
      "outputs": []
    },
    {
      "cell_type": "code",
      "execution_count": 874,
      "metadata": {
        "id": "GJjXwLA9RbSA"
      },
      "outputs": [],
      "source": [
        "# Encode categorical values into dummy variables.\n",
        "cols = ['SEX', 'EDUCATION', 'MARRIAGE']\n",
        "ce_one_hot = ce.OneHotEncoder(cols = cols, use_cat_names=True)\n",
        "X = ce_one_hot.fit_transform(X)"
      ]
    },
    {
      "cell_type": "markdown",
      "metadata": {
        "id": "uds_1CTaRbSC"
      },
      "source": [
        "## Defining the target variable:"
      ]
    },
    {
      "cell_type": "code",
      "execution_count": 875,
      "metadata": {
        "id": "I3ttGwVvRbSD"
      },
      "outputs": [],
      "source": [
        "y = X['TARGET']\n",
        "X = X.drop(columns=['TARGET'])"
      ]
    },
    {
      "cell_type": "markdown",
      "metadata": {
        "id": "MlgpnwczRbSE"
      },
      "source": [
        "# Modelling:"
      ]
    },
    {
      "cell_type": "code",
      "execution_count": 876,
      "metadata": {
        "id": "1XCOpWpERbSE"
      },
      "outputs": [],
      "source": [
        "# Split the dataset intro train and test sets.\n",
        "\n",
        "X_train, X_test, y_train, y_test = train_test_split(X, y, test_size = 0.2, shuffle =True, stratify=y, random_state=2022)"
      ]
    },
    {
      "cell_type": "code",
      "execution_count": 877,
      "metadata": {
        "id": "NG08A_5SRbSF",
        "colab": {
          "base_uri": "https://localhost:8080/"
        },
        "outputId": "17d10282-0610-4fa5-9cd0-7dc5010722ce"
      },
      "outputs": [
        {
          "output_type": "execute_result",
          "data": {
            "text/plain": [
              "0    14230\n",
              "1     4290\n",
              "Name: TARGET, dtype: int64"
            ]
          },
          "metadata": {},
          "execution_count": 877
        }
      ],
      "source": [
        "y_train.value_counts()"
      ]
    },
    {
      "cell_type": "code",
      "execution_count": 878,
      "metadata": {
        "id": "oYIPVuzVRbSG",
        "colab": {
          "base_uri": "https://localhost:8080/"
        },
        "outputId": "60523326-601c-4204-c218-d1516f413301"
      },
      "outputs": [
        {
          "output_type": "execute_result",
          "data": {
            "text/plain": [
              "0    3558\n",
              "1    1072\n",
              "Name: TARGET, dtype: int64"
            ]
          },
          "metadata": {},
          "execution_count": 878
        }
      ],
      "source": [
        "y_test.value_counts()"
      ]
    },
    {
      "cell_type": "markdown",
      "metadata": {
        "id": "vPv7t8DWRbSH"
      },
      "source": [
        "### Logistic Regression:"
      ]
    },
    {
      "cell_type": "code",
      "execution_count": 879,
      "metadata": {
        "id": "Fps_7o9rRbSI",
        "colab": {
          "base_uri": "https://localhost:8080/"
        },
        "outputId": "355dcd8f-1b60-43b7-94a8-2f9d12f038ba"
      },
      "outputs": [
        {
          "output_type": "stream",
          "name": "stdout",
          "text": [
            "              precision    recall  f1-score   support\n",
            "\n",
            "           0       0.98      0.79      0.87      4419\n",
            "           1       0.12      0.61      0.20       211\n",
            "\n",
            "    accuracy                           0.78      4630\n",
            "   macro avg       0.55      0.70      0.54      4630\n",
            "weighted avg       0.94      0.78      0.84      4630\n",
            "\n",
            "[[3475  944]\n",
            " [  83  128]]\n",
            "\n",
            "Accuracy Score for modelLR:  0.7781857451403887\n"
          ]
        }
      ],
      "source": [
        "# Initializing the model.\n",
        "\n",
        "modelLR = linear_model.LogisticRegression(random_state=2022)\n",
        "\n",
        "# Creating and training the model.\n",
        "\n",
        "modelLR.fit(X_train, y_train)\n",
        "\n",
        "# Predicting the target for X_train and X_test.\n",
        "\n",
        "y_pred_train = modelLR.predict(X_train) \n",
        "y_pred_test = modelLR.predict(X_test) \n",
        "\n",
        "# Probabilities of belong to the class 1.\n",
        "y_pred_proba_train = modelLR.predict_proba(X_train)[:,1] \n",
        "y_pred_proba_test = modelLR.predict_proba(X_test)[:,1] \n",
        "\n",
        "print(classification_report(y_pred_test, y_test))\n",
        "print(confusion_matrix(y_pred_test, y_test))\n",
        "print('\\nAccuracy Score for modelLR: ', accuracy_score(y_pred_test, y_test))"
      ]
    },
    {
      "cell_type": "code",
      "execution_count": 880,
      "metadata": {
        "id": "YsKz06fjRbSL",
        "colab": {
          "base_uri": "https://localhost:8080/",
          "height": 237
        },
        "outputId": "d9580d64-5e11-488b-9b3b-d0b130f22f0f"
      },
      "outputs": [
        {
          "output_type": "execute_result",
          "data": {
            "text/plain": [
              "     Measure     Train      Test\n",
              "0   ACCURACY  0.775324  0.778186\n",
              "1  PRECISION  0.578755  0.606635\n",
              "2     RECALL  0.110490  0.119403\n",
              "3   F1 SCORE  0.711214  0.715729\n",
              "4        AUC  0.543122  0.548038\n",
              "5  AUC_Proba  0.735737  0.718934"
            ],
            "text/html": [
              "\n",
              "  <div id=\"df-c34f8f8d-da97-4607-ad86-a8750be259fe\">\n",
              "    <div class=\"colab-df-container\">\n",
              "      <div>\n",
              "<style scoped>\n",
              "    .dataframe tbody tr th:only-of-type {\n",
              "        vertical-align: middle;\n",
              "    }\n",
              "\n",
              "    .dataframe tbody tr th {\n",
              "        vertical-align: top;\n",
              "    }\n",
              "\n",
              "    .dataframe thead th {\n",
              "        text-align: right;\n",
              "    }\n",
              "</style>\n",
              "<table border=\"1\" class=\"dataframe\">\n",
              "  <thead>\n",
              "    <tr style=\"text-align: right;\">\n",
              "      <th></th>\n",
              "      <th>Measure</th>\n",
              "      <th>Train</th>\n",
              "      <th>Test</th>\n",
              "    </tr>\n",
              "  </thead>\n",
              "  <tbody>\n",
              "    <tr>\n",
              "      <th>0</th>\n",
              "      <td>ACCURACY</td>\n",
              "      <td>0.775324</td>\n",
              "      <td>0.778186</td>\n",
              "    </tr>\n",
              "    <tr>\n",
              "      <th>1</th>\n",
              "      <td>PRECISION</td>\n",
              "      <td>0.578755</td>\n",
              "      <td>0.606635</td>\n",
              "    </tr>\n",
              "    <tr>\n",
              "      <th>2</th>\n",
              "      <td>RECALL</td>\n",
              "      <td>0.110490</td>\n",
              "      <td>0.119403</td>\n",
              "    </tr>\n",
              "    <tr>\n",
              "      <th>3</th>\n",
              "      <td>F1 SCORE</td>\n",
              "      <td>0.711214</td>\n",
              "      <td>0.715729</td>\n",
              "    </tr>\n",
              "    <tr>\n",
              "      <th>4</th>\n",
              "      <td>AUC</td>\n",
              "      <td>0.543122</td>\n",
              "      <td>0.548038</td>\n",
              "    </tr>\n",
              "    <tr>\n",
              "      <th>5</th>\n",
              "      <td>AUC_Proba</td>\n",
              "      <td>0.735737</td>\n",
              "      <td>0.718934</td>\n",
              "    </tr>\n",
              "  </tbody>\n",
              "</table>\n",
              "</div>\n",
              "      <button class=\"colab-df-convert\" onclick=\"convertToInteractive('df-c34f8f8d-da97-4607-ad86-a8750be259fe')\"\n",
              "              title=\"Convert this dataframe to an interactive table.\"\n",
              "              style=\"display:none;\">\n",
              "        \n",
              "  <svg xmlns=\"http://www.w3.org/2000/svg\" height=\"24px\"viewBox=\"0 0 24 24\"\n",
              "       width=\"24px\">\n",
              "    <path d=\"M0 0h24v24H0V0z\" fill=\"none\"/>\n",
              "    <path d=\"M18.56 5.44l.94 2.06.94-2.06 2.06-.94-2.06-.94-.94-2.06-.94 2.06-2.06.94zm-11 1L8.5 8.5l.94-2.06 2.06-.94-2.06-.94L8.5 2.5l-.94 2.06-2.06.94zm10 10l.94 2.06.94-2.06 2.06-.94-2.06-.94-.94-2.06-.94 2.06-2.06.94z\"/><path d=\"M17.41 7.96l-1.37-1.37c-.4-.4-.92-.59-1.43-.59-.52 0-1.04.2-1.43.59L10.3 9.45l-7.72 7.72c-.78.78-.78 2.05 0 2.83L4 21.41c.39.39.9.59 1.41.59.51 0 1.02-.2 1.41-.59l7.78-7.78 2.81-2.81c.8-.78.8-2.07 0-2.86zM5.41 20L4 18.59l7.72-7.72 1.47 1.35L5.41 20z\"/>\n",
              "  </svg>\n",
              "      </button>\n",
              "      \n",
              "  <style>\n",
              "    .colab-df-container {\n",
              "      display:flex;\n",
              "      flex-wrap:wrap;\n",
              "      gap: 12px;\n",
              "    }\n",
              "\n",
              "    .colab-df-convert {\n",
              "      background-color: #E8F0FE;\n",
              "      border: none;\n",
              "      border-radius: 50%;\n",
              "      cursor: pointer;\n",
              "      display: none;\n",
              "      fill: #1967D2;\n",
              "      height: 32px;\n",
              "      padding: 0 0 0 0;\n",
              "      width: 32px;\n",
              "    }\n",
              "\n",
              "    .colab-df-convert:hover {\n",
              "      background-color: #E2EBFA;\n",
              "      box-shadow: 0px 1px 2px rgba(60, 64, 67, 0.3), 0px 1px 3px 1px rgba(60, 64, 67, 0.15);\n",
              "      fill: #174EA6;\n",
              "    }\n",
              "\n",
              "    [theme=dark] .colab-df-convert {\n",
              "      background-color: #3B4455;\n",
              "      fill: #D2E3FC;\n",
              "    }\n",
              "\n",
              "    [theme=dark] .colab-df-convert:hover {\n",
              "      background-color: #434B5C;\n",
              "      box-shadow: 0px 1px 3px 1px rgba(0, 0, 0, 0.15);\n",
              "      filter: drop-shadow(0px 1px 2px rgba(0, 0, 0, 0.3));\n",
              "      fill: #FFFFFF;\n",
              "    }\n",
              "  </style>\n",
              "\n",
              "      <script>\n",
              "        const buttonEl =\n",
              "          document.querySelector('#df-c34f8f8d-da97-4607-ad86-a8750be259fe button.colab-df-convert');\n",
              "        buttonEl.style.display =\n",
              "          google.colab.kernel.accessAllowed ? 'block' : 'none';\n",
              "\n",
              "        async function convertToInteractive(key) {\n",
              "          const element = document.querySelector('#df-c34f8f8d-da97-4607-ad86-a8750be259fe');\n",
              "          const dataTable =\n",
              "            await google.colab.kernel.invokeFunction('convertToInteractive',\n",
              "                                                     [key], {});\n",
              "          if (!dataTable) return;\n",
              "\n",
              "          const docLinkHtml = 'Like what you see? Visit the ' +\n",
              "            '<a target=\"_blank\" href=https://colab.research.google.com/notebooks/data_table.ipynb>data table notebook</a>'\n",
              "            + ' to learn more about interactive tables.';\n",
              "          element.innerHTML = '';\n",
              "          dataTable['output_type'] = 'display_data';\n",
              "          await google.colab.output.renderOutput(dataTable, element);\n",
              "          const docLink = document.createElement('div');\n",
              "          docLink.innerHTML = docLinkHtml;\n",
              "          element.appendChild(docLink);\n",
              "        }\n",
              "      </script>\n",
              "    </div>\n",
              "  </div>\n",
              "  "
            ]
          },
          "metadata": {},
          "execution_count": 880
        }
      ],
      "source": [
        "# Showing the results performance.\n",
        "\n",
        "resultsDF = performanceMetricsDF(metrics, y_train, y_pred_proba_train, y_pred_train, y_test, y_pred_proba_test, y_pred_test)\n",
        "resultsDF"
      ]
    },
    {
      "cell_type": "markdown",
      "source": [
        "The Logistic Regression model predict most of observations to belong to class 0, meaning no default, this is a consequence of the class imbalance.\n",
        "We can also remark that our model does not over fit."
      ],
      "metadata": {
        "id": "j2-tp8c5kmZc"
      }
    },
    {
      "cell_type": "markdown",
      "source": [
        "### Random Forest:"
      ],
      "metadata": {
        "id": "Dtymi6zipIBL"
      }
    },
    {
      "cell_type": "code",
      "source": [
        "# Initializing the model.\n",
        "\n",
        "modelRF = RandomForestClassifier(max_depth=10, random_state=2022)\n",
        "\n",
        "# Creating and training the model.\n",
        "\n",
        "modelRF.fit(X_train, y_train)\n",
        "\n",
        "# Predicting the target for X_train and X_test.\n",
        "\n",
        "y_pred_train = modelRF.predict(X_train) \n",
        "y_pred_test = modelRF.predict(X_test) \n",
        "\n",
        "# Probabilities of belong to the class 1.\n",
        "y_pred_proba_train = modelRF.predict_proba(X_train)[:,1] \n",
        "y_pred_proba_test = modelRF.predict_proba(X_test)[:,1] \n",
        "\n",
        "print(classification_report(y_pred_test, y_test))\n",
        "print(confusion_matrix(y_pred_test, y_test))\n",
        "print('\\nAccuracy Score for modelRF: ', accuracy_score(y_pred_test, y_test))"
      ],
      "metadata": {
        "colab": {
          "base_uri": "https://localhost:8080/"
        },
        "id": "mRxuET4rpNJJ",
        "outputId": "db4ae271-0af1-48c7-c8c6-2da66d3b8e3d"
      },
      "execution_count": 881,
      "outputs": [
        {
          "output_type": "stream",
          "name": "stdout",
          "text": [
            "              precision    recall  f1-score   support\n",
            "\n",
            "           0       0.93      0.84      0.89      3927\n",
            "           1       0.43      0.65      0.52       703\n",
            "\n",
            "    accuracy                           0.81      4630\n",
            "   macro avg       0.68      0.75      0.70      4630\n",
            "weighted avg       0.85      0.81      0.83      4630\n",
            "\n",
            "[[3313  614]\n",
            " [ 245  458]]\n",
            "\n",
            "Accuracy Score for modelRF:  0.8144708423326134\n"
          ]
        }
      ]
    },
    {
      "cell_type": "code",
      "source": [
        "# Showing the results performance.\n",
        "\n",
        "resultsDF = performanceMetricsDF(metrics, y_train, y_pred_proba_train, y_pred_train, y_test, y_pred_proba_test, y_pred_test)\n",
        "resultsDF"
      ],
      "metadata": {
        "colab": {
          "base_uri": "https://localhost:8080/",
          "height": 237
        },
        "id": "jy3VJKUMpOdz",
        "outputId": "a9711daf-1094-48ec-ce91-d79688f827a6"
      },
      "execution_count": 882,
      "outputs": [
        {
          "output_type": "execute_result",
          "data": {
            "text/plain": [
              "     Measure     Train      Test\n",
              "0   ACCURACY  0.999946  0.814471\n",
              "1  PRECISION  0.999767  0.651494\n",
              "2     RECALL  1.000000  0.427239\n",
              "3   F1 SCORE  0.999946  0.799759\n",
              "4        AUC  0.999965  0.679190\n",
              "5  AUC_Proba  1.000000  0.778065"
            ],
            "text/html": [
              "\n",
              "  <div id=\"df-cd048766-3a0a-4c2f-bb77-658fcf2c046d\">\n",
              "    <div class=\"colab-df-container\">\n",
              "      <div>\n",
              "<style scoped>\n",
              "    .dataframe tbody tr th:only-of-type {\n",
              "        vertical-align: middle;\n",
              "    }\n",
              "\n",
              "    .dataframe tbody tr th {\n",
              "        vertical-align: top;\n",
              "    }\n",
              "\n",
              "    .dataframe thead th {\n",
              "        text-align: right;\n",
              "    }\n",
              "</style>\n",
              "<table border=\"1\" class=\"dataframe\">\n",
              "  <thead>\n",
              "    <tr style=\"text-align: right;\">\n",
              "      <th></th>\n",
              "      <th>Measure</th>\n",
              "      <th>Train</th>\n",
              "      <th>Test</th>\n",
              "    </tr>\n",
              "  </thead>\n",
              "  <tbody>\n",
              "    <tr>\n",
              "      <th>0</th>\n",
              "      <td>ACCURACY</td>\n",
              "      <td>0.999946</td>\n",
              "      <td>0.814471</td>\n",
              "    </tr>\n",
              "    <tr>\n",
              "      <th>1</th>\n",
              "      <td>PRECISION</td>\n",
              "      <td>0.999767</td>\n",
              "      <td>0.651494</td>\n",
              "    </tr>\n",
              "    <tr>\n",
              "      <th>2</th>\n",
              "      <td>RECALL</td>\n",
              "      <td>1.000000</td>\n",
              "      <td>0.427239</td>\n",
              "    </tr>\n",
              "    <tr>\n",
              "      <th>3</th>\n",
              "      <td>F1 SCORE</td>\n",
              "      <td>0.999946</td>\n",
              "      <td>0.799759</td>\n",
              "    </tr>\n",
              "    <tr>\n",
              "      <th>4</th>\n",
              "      <td>AUC</td>\n",
              "      <td>0.999965</td>\n",
              "      <td>0.679190</td>\n",
              "    </tr>\n",
              "    <tr>\n",
              "      <th>5</th>\n",
              "      <td>AUC_Proba</td>\n",
              "      <td>1.000000</td>\n",
              "      <td>0.778065</td>\n",
              "    </tr>\n",
              "  </tbody>\n",
              "</table>\n",
              "</div>\n",
              "      <button class=\"colab-df-convert\" onclick=\"convertToInteractive('df-cd048766-3a0a-4c2f-bb77-658fcf2c046d')\"\n",
              "              title=\"Convert this dataframe to an interactive table.\"\n",
              "              style=\"display:none;\">\n",
              "        \n",
              "  <svg xmlns=\"http://www.w3.org/2000/svg\" height=\"24px\"viewBox=\"0 0 24 24\"\n",
              "       width=\"24px\">\n",
              "    <path d=\"M0 0h24v24H0V0z\" fill=\"none\"/>\n",
              "    <path d=\"M18.56 5.44l.94 2.06.94-2.06 2.06-.94-2.06-.94-.94-2.06-.94 2.06-2.06.94zm-11 1L8.5 8.5l.94-2.06 2.06-.94-2.06-.94L8.5 2.5l-.94 2.06-2.06.94zm10 10l.94 2.06.94-2.06 2.06-.94-2.06-.94-.94-2.06-.94 2.06-2.06.94z\"/><path d=\"M17.41 7.96l-1.37-1.37c-.4-.4-.92-.59-1.43-.59-.52 0-1.04.2-1.43.59L10.3 9.45l-7.72 7.72c-.78.78-.78 2.05 0 2.83L4 21.41c.39.39.9.59 1.41.59.51 0 1.02-.2 1.41-.59l7.78-7.78 2.81-2.81c.8-.78.8-2.07 0-2.86zM5.41 20L4 18.59l7.72-7.72 1.47 1.35L5.41 20z\"/>\n",
              "  </svg>\n",
              "      </button>\n",
              "      \n",
              "  <style>\n",
              "    .colab-df-container {\n",
              "      display:flex;\n",
              "      flex-wrap:wrap;\n",
              "      gap: 12px;\n",
              "    }\n",
              "\n",
              "    .colab-df-convert {\n",
              "      background-color: #E8F0FE;\n",
              "      border: none;\n",
              "      border-radius: 50%;\n",
              "      cursor: pointer;\n",
              "      display: none;\n",
              "      fill: #1967D2;\n",
              "      height: 32px;\n",
              "      padding: 0 0 0 0;\n",
              "      width: 32px;\n",
              "    }\n",
              "\n",
              "    .colab-df-convert:hover {\n",
              "      background-color: #E2EBFA;\n",
              "      box-shadow: 0px 1px 2px rgba(60, 64, 67, 0.3), 0px 1px 3px 1px rgba(60, 64, 67, 0.15);\n",
              "      fill: #174EA6;\n",
              "    }\n",
              "\n",
              "    [theme=dark] .colab-df-convert {\n",
              "      background-color: #3B4455;\n",
              "      fill: #D2E3FC;\n",
              "    }\n",
              "\n",
              "    [theme=dark] .colab-df-convert:hover {\n",
              "      background-color: #434B5C;\n",
              "      box-shadow: 0px 1px 3px 1px rgba(0, 0, 0, 0.15);\n",
              "      filter: drop-shadow(0px 1px 2px rgba(0, 0, 0, 0.3));\n",
              "      fill: #FFFFFF;\n",
              "    }\n",
              "  </style>\n",
              "\n",
              "      <script>\n",
              "        const buttonEl =\n",
              "          document.querySelector('#df-cd048766-3a0a-4c2f-bb77-658fcf2c046d button.colab-df-convert');\n",
              "        buttonEl.style.display =\n",
              "          google.colab.kernel.accessAllowed ? 'block' : 'none';\n",
              "\n",
              "        async function convertToInteractive(key) {\n",
              "          const element = document.querySelector('#df-cd048766-3a0a-4c2f-bb77-658fcf2c046d');\n",
              "          const dataTable =\n",
              "            await google.colab.kernel.invokeFunction('convertToInteractive',\n",
              "                                                     [key], {});\n",
              "          if (!dataTable) return;\n",
              "\n",
              "          const docLinkHtml = 'Like what you see? Visit the ' +\n",
              "            '<a target=\"_blank\" href=https://colab.research.google.com/notebooks/data_table.ipynb>data table notebook</a>'\n",
              "            + ' to learn more about interactive tables.';\n",
              "          element.innerHTML = '';\n",
              "          dataTable['output_type'] = 'display_data';\n",
              "          await google.colab.output.renderOutput(dataTable, element);\n",
              "          const docLink = document.createElement('div');\n",
              "          docLink.innerHTML = docLinkHtml;\n",
              "          element.appendChild(docLink);\n",
              "        }\n",
              "      </script>\n",
              "    </div>\n",
              "  </div>\n",
              "  "
            ]
          },
          "metadata": {},
          "execution_count": 882
        }
      ]
    },
    {
      "cell_type": "markdown",
      "metadata": {
        "id": "JW1xTFwORbSO"
      },
      "source": [
        "## Imbalanced learn algorithms."
      ]
    },
    {
      "cell_type": "code",
      "source": [
        "!pip install imblearn"
      ],
      "metadata": {
        "colab": {
          "base_uri": "https://localhost:8080/"
        },
        "id": "9OtZE9jVmYcd",
        "outputId": "d4147b2c-128d-4f8a-e7b3-2a8f8bb683d2"
      },
      "execution_count": 883,
      "outputs": [
        {
          "output_type": "stream",
          "name": "stdout",
          "text": [
            "Requirement already satisfied: imblearn in /usr/local/lib/python3.7/dist-packages (0.0)\n",
            "Requirement already satisfied: imbalanced-learn in /usr/local/lib/python3.7/dist-packages (from imblearn) (0.8.1)\n",
            "Requirement already satisfied: numpy>=1.13.3 in /usr/local/lib/python3.7/dist-packages (from imbalanced-learn->imblearn) (1.21.5)\n",
            "Requirement already satisfied: scikit-learn>=0.24 in /usr/local/lib/python3.7/dist-packages (from imbalanced-learn->imblearn) (1.0.2)\n",
            "Requirement already satisfied: scipy>=0.19.1 in /usr/local/lib/python3.7/dist-packages (from imbalanced-learn->imblearn) (1.4.1)\n",
            "Requirement already satisfied: joblib>=0.11 in /usr/local/lib/python3.7/dist-packages (from imbalanced-learn->imblearn) (1.1.0)\n",
            "Requirement already satisfied: threadpoolctl>=2.0.0 in /usr/local/lib/python3.7/dist-packages (from scikit-learn>=0.24->imbalanced-learn->imblearn) (3.1.0)\n"
          ]
        }
      ]
    },
    {
      "cell_type": "markdown",
      "metadata": {
        "id": "jKktfDaMRbSO"
      },
      "source": [
        "### Balanced Random Forest:"
      ]
    },
    {
      "cell_type": "code",
      "source": [
        "# Initializing the model.\n",
        "\n",
        "modelBRF = BalancedRandomForestClassifier(max_depth=10, random_state=2022)\n",
        "\n",
        "# Creating and training the model.\n",
        "\n",
        "modelBRF.fit(X_train, y_train)\n",
        "\n",
        "# Predicting the target for X_train and X_test.\n",
        "\n",
        "y_pred_train = modelBRF.predict(X_train) \n",
        "y_pred_test = modelBRF.predict(X_test) \n",
        "\n",
        "# Probabilities of belong to the class 1.\n",
        "y_pred_proba_train = modelBRF.predict_proba(X_train)[:,1] \n",
        "y_pred_proba_test = modelBRF.predict_proba(X_test)[:,1] \n",
        "\n",
        "print(classification_report(y_pred_test, y_test))\n",
        "print(confusion_matrix(y_pred_test, y_test))\n",
        "print('\\nAccuracy Score for modelBRF: ', accuracy_score(y_pred_test, y_test))"
      ],
      "metadata": {
        "colab": {
          "base_uri": "https://localhost:8080/"
        },
        "id": "PxKhJYmdrPGn",
        "outputId": "3e2ec636-743b-4cf0-9d06-4f742865e394"
      },
      "execution_count": 885,
      "outputs": [
        {
          "output_type": "stream",
          "name": "stdout",
          "text": [
            "              precision    recall  f1-score   support\n",
            "\n",
            "           0       0.79      0.88      0.83      3169\n",
            "           1       0.66      0.48      0.56      1461\n",
            "\n",
            "    accuracy                           0.76      4630\n",
            "   macro avg       0.72      0.68      0.69      4630\n",
            "weighted avg       0.75      0.76      0.74      4630\n",
            "\n",
            "[[2800  369]\n",
            " [ 758  703]]\n",
            "\n",
            "Accuracy Score for modelRF:  0.7565874730021598\n"
          ]
        }
      ]
    },
    {
      "cell_type": "code",
      "source": [
        "# Showing the results performance.\n",
        "\n",
        "resultsDF = performanceMetricsDF(metrics, y_train, y_pred_proba_train, y_pred_train, y_test, y_pred_proba_test, y_pred_test)\n",
        "resultsDF"
      ],
      "metadata": {
        "colab": {
          "base_uri": "https://localhost:8080/",
          "height": 237
        },
        "id": "jcJGXB-7rXxa",
        "outputId": "a0088a9f-86ea-4c0b-a70b-4c3a6c797ff0"
      },
      "execution_count": 887,
      "outputs": [
        {
          "output_type": "execute_result",
          "data": {
            "text/plain": [
              "     Measure     Train      Test\n",
              "0   ACCURACY  0.906965  0.756587\n",
              "1  PRECISION  0.713454  0.481177\n",
              "2     RECALL  1.000000  0.655784\n",
              "3   F1 SCORE  0.911747  0.768240\n",
              "4        AUC  0.939459  0.721371\n",
              "5  AUC_Proba  0.996173  0.787378"
            ],
            "text/html": [
              "\n",
              "  <div id=\"df-b19bc6ff-38a1-4610-b244-608e73f03693\">\n",
              "    <div class=\"colab-df-container\">\n",
              "      <div>\n",
              "<style scoped>\n",
              "    .dataframe tbody tr th:only-of-type {\n",
              "        vertical-align: middle;\n",
              "    }\n",
              "\n",
              "    .dataframe tbody tr th {\n",
              "        vertical-align: top;\n",
              "    }\n",
              "\n",
              "    .dataframe thead th {\n",
              "        text-align: right;\n",
              "    }\n",
              "</style>\n",
              "<table border=\"1\" class=\"dataframe\">\n",
              "  <thead>\n",
              "    <tr style=\"text-align: right;\">\n",
              "      <th></th>\n",
              "      <th>Measure</th>\n",
              "      <th>Train</th>\n",
              "      <th>Test</th>\n",
              "    </tr>\n",
              "  </thead>\n",
              "  <tbody>\n",
              "    <tr>\n",
              "      <th>0</th>\n",
              "      <td>ACCURACY</td>\n",
              "      <td>0.906965</td>\n",
              "      <td>0.756587</td>\n",
              "    </tr>\n",
              "    <tr>\n",
              "      <th>1</th>\n",
              "      <td>PRECISION</td>\n",
              "      <td>0.713454</td>\n",
              "      <td>0.481177</td>\n",
              "    </tr>\n",
              "    <tr>\n",
              "      <th>2</th>\n",
              "      <td>RECALL</td>\n",
              "      <td>1.000000</td>\n",
              "      <td>0.655784</td>\n",
              "    </tr>\n",
              "    <tr>\n",
              "      <th>3</th>\n",
              "      <td>F1 SCORE</td>\n",
              "      <td>0.911747</td>\n",
              "      <td>0.768240</td>\n",
              "    </tr>\n",
              "    <tr>\n",
              "      <th>4</th>\n",
              "      <td>AUC</td>\n",
              "      <td>0.939459</td>\n",
              "      <td>0.721371</td>\n",
              "    </tr>\n",
              "    <tr>\n",
              "      <th>5</th>\n",
              "      <td>AUC_Proba</td>\n",
              "      <td>0.996173</td>\n",
              "      <td>0.787378</td>\n",
              "    </tr>\n",
              "  </tbody>\n",
              "</table>\n",
              "</div>\n",
              "      <button class=\"colab-df-convert\" onclick=\"convertToInteractive('df-b19bc6ff-38a1-4610-b244-608e73f03693')\"\n",
              "              title=\"Convert this dataframe to an interactive table.\"\n",
              "              style=\"display:none;\">\n",
              "        \n",
              "  <svg xmlns=\"http://www.w3.org/2000/svg\" height=\"24px\"viewBox=\"0 0 24 24\"\n",
              "       width=\"24px\">\n",
              "    <path d=\"M0 0h24v24H0V0z\" fill=\"none\"/>\n",
              "    <path d=\"M18.56 5.44l.94 2.06.94-2.06 2.06-.94-2.06-.94-.94-2.06-.94 2.06-2.06.94zm-11 1L8.5 8.5l.94-2.06 2.06-.94-2.06-.94L8.5 2.5l-.94 2.06-2.06.94zm10 10l.94 2.06.94-2.06 2.06-.94-2.06-.94-.94-2.06-.94 2.06-2.06.94z\"/><path d=\"M17.41 7.96l-1.37-1.37c-.4-.4-.92-.59-1.43-.59-.52 0-1.04.2-1.43.59L10.3 9.45l-7.72 7.72c-.78.78-.78 2.05 0 2.83L4 21.41c.39.39.9.59 1.41.59.51 0 1.02-.2 1.41-.59l7.78-7.78 2.81-2.81c.8-.78.8-2.07 0-2.86zM5.41 20L4 18.59l7.72-7.72 1.47 1.35L5.41 20z\"/>\n",
              "  </svg>\n",
              "      </button>\n",
              "      \n",
              "  <style>\n",
              "    .colab-df-container {\n",
              "      display:flex;\n",
              "      flex-wrap:wrap;\n",
              "      gap: 12px;\n",
              "    }\n",
              "\n",
              "    .colab-df-convert {\n",
              "      background-color: #E8F0FE;\n",
              "      border: none;\n",
              "      border-radius: 50%;\n",
              "      cursor: pointer;\n",
              "      display: none;\n",
              "      fill: #1967D2;\n",
              "      height: 32px;\n",
              "      padding: 0 0 0 0;\n",
              "      width: 32px;\n",
              "    }\n",
              "\n",
              "    .colab-df-convert:hover {\n",
              "      background-color: #E2EBFA;\n",
              "      box-shadow: 0px 1px 2px rgba(60, 64, 67, 0.3), 0px 1px 3px 1px rgba(60, 64, 67, 0.15);\n",
              "      fill: #174EA6;\n",
              "    }\n",
              "\n",
              "    [theme=dark] .colab-df-convert {\n",
              "      background-color: #3B4455;\n",
              "      fill: #D2E3FC;\n",
              "    }\n",
              "\n",
              "    [theme=dark] .colab-df-convert:hover {\n",
              "      background-color: #434B5C;\n",
              "      box-shadow: 0px 1px 3px 1px rgba(0, 0, 0, 0.15);\n",
              "      filter: drop-shadow(0px 1px 2px rgba(0, 0, 0, 0.3));\n",
              "      fill: #FFFFFF;\n",
              "    }\n",
              "  </style>\n",
              "\n",
              "      <script>\n",
              "        const buttonEl =\n",
              "          document.querySelector('#df-b19bc6ff-38a1-4610-b244-608e73f03693 button.colab-df-convert');\n",
              "        buttonEl.style.display =\n",
              "          google.colab.kernel.accessAllowed ? 'block' : 'none';\n",
              "\n",
              "        async function convertToInteractive(key) {\n",
              "          const element = document.querySelector('#df-b19bc6ff-38a1-4610-b244-608e73f03693');\n",
              "          const dataTable =\n",
              "            await google.colab.kernel.invokeFunction('convertToInteractive',\n",
              "                                                     [key], {});\n",
              "          if (!dataTable) return;\n",
              "\n",
              "          const docLinkHtml = 'Like what you see? Visit the ' +\n",
              "            '<a target=\"_blank\" href=https://colab.research.google.com/notebooks/data_table.ipynb>data table notebook</a>'\n",
              "            + ' to learn more about interactive tables.';\n",
              "          element.innerHTML = '';\n",
              "          dataTable['output_type'] = 'display_data';\n",
              "          await google.colab.output.renderOutput(dataTable, element);\n",
              "          const docLink = document.createElement('div');\n",
              "          docLink.innerHTML = docLinkHtml;\n",
              "          element.appendChild(docLink);\n",
              "        }\n",
              "      </script>\n",
              "    </div>\n",
              "  </div>\n",
              "  "
            ]
          },
          "metadata": {},
          "execution_count": 887
        }
      ]
    },
    {
      "cell_type": "code",
      "execution_count": 77,
      "metadata": {
        "id": "gxK_zR8WRbSR",
        "colab": {
          "base_uri": "https://localhost:8080/"
        },
        "outputId": "a33f0724-01e1-45b6-ef2d-dc587dca76fb"
      },
      "outputs": [
        {
          "output_type": "stream",
          "name": "stdout",
          "text": [
            "CPU times: user 3 µs, sys: 0 ns, total: 3 µs\n",
            "Wall time: 6.91 µs\n"
          ]
        }
      ],
      "source": [
        "%%time\n",
        "#grid_param = {'n_estimators': [100, 500, 1000, 1500, 2000],\n",
        "#               'max_depth': [5, 10, 20, 1000],\n",
        "#               'min_samples_split': [2, 4, 8],\n",
        "#               'max_features':['auto', 'sqrt'],\n",
        "#               'warm_start':['False', 'True'],\n",
        "#              }\n",
        "\n",
        "#grid = GridSearchCV(brf_clf, grid_param, cv=3)\n",
        "#grid.fit(X_train, y_train)\n",
        "#print(\"Grid search best parameters: {}\".format(grid.best_params_))"
      ]
    },
    {
      "cell_type": "markdown",
      "metadata": {
        "id": "ivsRgq5ZRbSc"
      },
      "source": [
        "### Balanced Bagging Classifier:"
      ]
    },
    {
      "cell_type": "code",
      "execution_count": 84,
      "metadata": {
        "id": "I1X8ynPZRbSe"
      },
      "outputs": [],
      "source": [
        "# Initializing the model.\n",
        "\n",
        "modelBRF = BalancedRandomForestClassifier(max_depth=10, random_state=2022)\n",
        "\n",
        "# Creating and training the model.\n",
        "\n",
        "modelBRF.fit(X_train, y_train)\n",
        "\n",
        "# Predicting the target for X_train and X_test.\n",
        "\n",
        "y_pred_train = modelBRF.predict(X_train) \n",
        "y_pred_test = modelBRF.predict(X_test) \n",
        "\n",
        "# Probabilities of belong to the class 1.\n",
        "y_pred_proba_train = modelBRF.predict_proba(X_train)[:,1] \n",
        "y_pred_proba_test = modelBRF.predict_proba(X_test)[:,1] \n",
        "\n",
        "print(classification_report(y_pred_test, y_test))\n",
        "print(confusion_matrix(y_pred_test, y_test))\n",
        "print('\\nAccuracy Score for modelRF: ', accuracy_score(y_pred_test, y_test))"
      ]
    },
    {
      "cell_type": "code",
      "execution_count": 85,
      "metadata": {
        "id": "YindaExARbSf"
      },
      "outputs": [],
      "source": [
        "# Creating and training the model.\n",
        "\n",
        "#bbc_clf.fit(X_train, y_train)"
      ]
    },
    {
      "cell_type": "code",
      "execution_count": 86,
      "metadata": {
        "id": "ceTHmmaJRbSh"
      },
      "outputs": [],
      "source": [
        "# Predicting the target for X_train and X_test.\n",
        "\n",
        "#y_pred_train = bbc_clf.predict(X_train) \n",
        "#y_pred_test = bbc_clf.predict(X_test) \n",
        "\n",
        "# Probabilities of belong to the class 1.\n",
        "#y_pred_proba_train = bbc_clf.predict_proba(X_train)[:,1] \n",
        "#y_pred_proba_test = bbc_clf.predict_proba(X_test)[:,1] "
      ]
    },
    {
      "cell_type": "code",
      "execution_count": 87,
      "metadata": {
        "id": "6GFtNcnXRbSj"
      },
      "outputs": [],
      "source": [
        "# Showing the results performance.\n",
        "\n",
        "#resultsDF = performanceMetricsDF(metrics, y_train, y_pred_proba_train, y_pred_train, y_test, y_pred_proba_test, y_pred_test)\n",
        "#resultsDF"
      ]
    },
    {
      "cell_type": "code",
      "execution_count": 87,
      "metadata": {
        "id": "VWqYQau4RbSl"
      },
      "outputs": [],
      "source": [
        ""
      ]
    },
    {
      "cell_type": "code",
      "execution_count": 87,
      "metadata": {
        "id": "S-cKpK-sRbSl"
      },
      "outputs": [],
      "source": [
        ""
      ]
    },
    {
      "cell_type": "code",
      "execution_count": 87,
      "metadata": {
        "id": "qcsvSJPdRbSm"
      },
      "outputs": [],
      "source": [
        ""
      ]
    },
    {
      "cell_type": "code",
      "execution_count": 87,
      "metadata": {
        "id": "ERgl7bXNRbSm"
      },
      "outputs": [],
      "source": [
        ""
      ]
    },
    {
      "cell_type": "code",
      "execution_count": 87,
      "metadata": {
        "id": "D9-3vNz1RbSn"
      },
      "outputs": [],
      "source": [
        ""
      ]
    },
    {
      "cell_type": "markdown",
      "metadata": {
        "id": "Dxwd_3N7RbSn"
      },
      "source": [
        "### Random Forest Classifier with Random Under Sampler:"
      ]
    },
    {
      "cell_type": "code",
      "execution_count": 88,
      "metadata": {
        "id": "OA0fPBoYRbSo"
      },
      "outputs": [],
      "source": [
        "# I am trying something new here.\n",
        "# Using RandomUnderSampler."
      ]
    },
    {
      "cell_type": "code",
      "execution_count": 89,
      "metadata": {
        "id": "oucJ2ZYGRbSo"
      },
      "outputs": [],
      "source": [
        "rf_clf = make_pipeline(\n",
        "    RandomUnderSampler(sampling_strategy='auto', replacement=False, random_state=2022),\n",
        "    RandomForestClassifier(n_estimators=500, max_depth=10,\n",
        "                           min_samples_split=8, random_state=2022, n_jobs=-1),\n",
        "    )"
      ]
    },
    {
      "cell_type": "code",
      "execution_count": 90,
      "metadata": {
        "id": "rl3aFkMVRbSp",
        "colab": {
          "base_uri": "https://localhost:8080/"
        },
        "outputId": "f01708db-a3e9-481d-eaba-f9d47d86ba37"
      },
      "outputs": [
        {
          "output_type": "stream",
          "name": "stdout",
          "text": [
            "CPU times: user 2 µs, sys: 0 ns, total: 2 µs\n",
            "Wall time: 5.25 µs\n"
          ]
        }
      ],
      "source": [
        "%%time\n",
        "#grid_param = {'rfc__n_estimators': [100, 500, 1000, 1500, 2000],\n",
        "#          'rfc__min_samples_split': [2, 4, 8],\n",
        "#          'rfc__max_features':['auto', 'sqrt'],\n",
        "#          'rfc__warm_start':['False', 'True'],\n",
        "#         }\n",
        "\n",
        "#grid = GridSearchCV(rf_clf, grid_param, cv=5)\n",
        "#grid.fit(X_train, y_train)\n",
        "#print(\"Grid search best parameters: {}\".format(grid.best_params_))"
      ]
    },
    {
      "cell_type": "code",
      "execution_count": 91,
      "metadata": {
        "id": "Mp5AG7x1RbSr"
      },
      "outputs": [],
      "source": [
        "# Here i need to use the best parameters we found previously."
      ]
    },
    {
      "cell_type": "code",
      "execution_count": 92,
      "metadata": {
        "id": "ahZUcFSRRbSr",
        "colab": {
          "base_uri": "https://localhost:8080/"
        },
        "outputId": "f7eec31d-7cd5-4dde-d2e9-39a975660a6b"
      },
      "outputs": [
        {
          "output_type": "stream",
          "name": "stdout",
          "text": [
            "CPU times: user 4.62 s, sys: 104 ms, total: 4.73 s\n",
            "Wall time: 3.33 s\n"
          ]
        },
        {
          "output_type": "execute_result",
          "data": {
            "text/plain": [
              "Pipeline(steps=[('randomundersampler', RandomUnderSampler(random_state=2022)),\n",
              "                ('randomforestclassifier',\n",
              "                 RandomForestClassifier(max_depth=10, min_samples_split=8,\n",
              "                                        n_estimators=500, n_jobs=-1,\n",
              "                                        random_state=2022))])"
            ]
          },
          "metadata": {},
          "execution_count": 92
        }
      ],
      "source": [
        "%%time\n",
        "# Creating and training the model.\n",
        "\n",
        "rf_clf.fit(X_train, y_train)"
      ]
    },
    {
      "cell_type": "code",
      "execution_count": 93,
      "metadata": {
        "id": "qGrQSUV3RbSr"
      },
      "outputs": [],
      "source": [
        "# Predicting the target for X_train and X_test.\n",
        "\n",
        "y_pred_train = rf_clf.predict(X_train) \n",
        "y_pred_test = rf_clf.predict(X_test) \n",
        "\n",
        "# Probabilities of belong to the class 1.\n",
        "y_pred_proba_train = rf_clf.predict_proba(X_train)[:,1] \n",
        "y_pred_proba_test = rf_clf.predict_proba(X_test)[:,1] "
      ]
    },
    {
      "cell_type": "code",
      "execution_count": 94,
      "metadata": {
        "id": "gFl4opyXRbSt",
        "colab": {
          "base_uri": "https://localhost:8080/",
          "height": 301
        },
        "outputId": "2f547c1e-252c-4b56-a4e6-e6e25258bad8"
      },
      "outputs": [
        {
          "output_type": "execute_result",
          "data": {
            "text/plain": [
              "     Measure     Train      Test\n",
              "0   ACCURACY  0.745259  0.680417\n",
              "1  PRECISION  0.477648  0.391358\n",
              "2     RECALL  0.763902  0.618956\n",
              "3   F1 SCORE  0.587775  0.479520\n",
              "4        AUC  0.751674  0.659277\n",
              "5  AUC_Proba  0.834710  0.726876"
            ],
            "text/html": [
              "\n",
              "  <div id=\"df-7b8096da-fae3-473e-9f01-8edfb4cf8f7a\">\n",
              "    <div class=\"colab-df-container\">\n",
              "      <div>\n",
              "<style scoped>\n",
              "    .dataframe tbody tr th:only-of-type {\n",
              "        vertical-align: middle;\n",
              "    }\n",
              "\n",
              "    .dataframe tbody tr th {\n",
              "        vertical-align: top;\n",
              "    }\n",
              "\n",
              "    .dataframe thead th {\n",
              "        text-align: right;\n",
              "    }\n",
              "</style>\n",
              "<table border=\"1\" class=\"dataframe\">\n",
              "  <thead>\n",
              "    <tr style=\"text-align: right;\">\n",
              "      <th></th>\n",
              "      <th>Measure</th>\n",
              "      <th>Train</th>\n",
              "      <th>Test</th>\n",
              "    </tr>\n",
              "  </thead>\n",
              "  <tbody>\n",
              "    <tr>\n",
              "      <th>0</th>\n",
              "      <td>ACCURACY</td>\n",
              "      <td>0.745259</td>\n",
              "      <td>0.680417</td>\n",
              "    </tr>\n",
              "    <tr>\n",
              "      <th>1</th>\n",
              "      <td>PRECISION</td>\n",
              "      <td>0.477648</td>\n",
              "      <td>0.391358</td>\n",
              "    </tr>\n",
              "    <tr>\n",
              "      <th>2</th>\n",
              "      <td>RECALL</td>\n",
              "      <td>0.763902</td>\n",
              "      <td>0.618956</td>\n",
              "    </tr>\n",
              "    <tr>\n",
              "      <th>3</th>\n",
              "      <td>F1 SCORE</td>\n",
              "      <td>0.587775</td>\n",
              "      <td>0.479520</td>\n",
              "    </tr>\n",
              "    <tr>\n",
              "      <th>4</th>\n",
              "      <td>AUC</td>\n",
              "      <td>0.751674</td>\n",
              "      <td>0.659277</td>\n",
              "    </tr>\n",
              "    <tr>\n",
              "      <th>5</th>\n",
              "      <td>AUC_Proba</td>\n",
              "      <td>0.834710</td>\n",
              "      <td>0.726876</td>\n",
              "    </tr>\n",
              "  </tbody>\n",
              "</table>\n",
              "</div>\n",
              "      <button class=\"colab-df-convert\" onclick=\"convertToInteractive('df-7b8096da-fae3-473e-9f01-8edfb4cf8f7a')\"\n",
              "              title=\"Convert this dataframe to an interactive table.\"\n",
              "              style=\"display:none;\">\n",
              "        \n",
              "  <svg xmlns=\"http://www.w3.org/2000/svg\" height=\"24px\"viewBox=\"0 0 24 24\"\n",
              "       width=\"24px\">\n",
              "    <path d=\"M0 0h24v24H0V0z\" fill=\"none\"/>\n",
              "    <path d=\"M18.56 5.44l.94 2.06.94-2.06 2.06-.94-2.06-.94-.94-2.06-.94 2.06-2.06.94zm-11 1L8.5 8.5l.94-2.06 2.06-.94-2.06-.94L8.5 2.5l-.94 2.06-2.06.94zm10 10l.94 2.06.94-2.06 2.06-.94-2.06-.94-.94-2.06-.94 2.06-2.06.94z\"/><path d=\"M17.41 7.96l-1.37-1.37c-.4-.4-.92-.59-1.43-.59-.52 0-1.04.2-1.43.59L10.3 9.45l-7.72 7.72c-.78.78-.78 2.05 0 2.83L4 21.41c.39.39.9.59 1.41.59.51 0 1.02-.2 1.41-.59l7.78-7.78 2.81-2.81c.8-.78.8-2.07 0-2.86zM5.41 20L4 18.59l7.72-7.72 1.47 1.35L5.41 20z\"/>\n",
              "  </svg>\n",
              "      </button>\n",
              "      \n",
              "  <style>\n",
              "    .colab-df-container {\n",
              "      display:flex;\n",
              "      flex-wrap:wrap;\n",
              "      gap: 12px;\n",
              "    }\n",
              "\n",
              "    .colab-df-convert {\n",
              "      background-color: #E8F0FE;\n",
              "      border: none;\n",
              "      border-radius: 50%;\n",
              "      cursor: pointer;\n",
              "      display: none;\n",
              "      fill: #1967D2;\n",
              "      height: 32px;\n",
              "      padding: 0 0 0 0;\n",
              "      width: 32px;\n",
              "    }\n",
              "\n",
              "    .colab-df-convert:hover {\n",
              "      background-color: #E2EBFA;\n",
              "      box-shadow: 0px 1px 2px rgba(60, 64, 67, 0.3), 0px 1px 3px 1px rgba(60, 64, 67, 0.15);\n",
              "      fill: #174EA6;\n",
              "    }\n",
              "\n",
              "    [theme=dark] .colab-df-convert {\n",
              "      background-color: #3B4455;\n",
              "      fill: #D2E3FC;\n",
              "    }\n",
              "\n",
              "    [theme=dark] .colab-df-convert:hover {\n",
              "      background-color: #434B5C;\n",
              "      box-shadow: 0px 1px 3px 1px rgba(0, 0, 0, 0.15);\n",
              "      filter: drop-shadow(0px 1px 2px rgba(0, 0, 0, 0.3));\n",
              "      fill: #FFFFFF;\n",
              "    }\n",
              "  </style>\n",
              "\n",
              "      <script>\n",
              "        const buttonEl =\n",
              "          document.querySelector('#df-7b8096da-fae3-473e-9f01-8edfb4cf8f7a button.colab-df-convert');\n",
              "        buttonEl.style.display =\n",
              "          google.colab.kernel.accessAllowed ? 'block' : 'none';\n",
              "\n",
              "        async function convertToInteractive(key) {\n",
              "          const element = document.querySelector('#df-7b8096da-fae3-473e-9f01-8edfb4cf8f7a');\n",
              "          const dataTable =\n",
              "            await google.colab.kernel.invokeFunction('convertToInteractive',\n",
              "                                                     [key], {});\n",
              "          if (!dataTable) return;\n",
              "\n",
              "          const docLinkHtml = 'Like what you see? Visit the ' +\n",
              "            '<a target=\"_blank\" href=https://colab.research.google.com/notebooks/data_table.ipynb>data table notebook</a>'\n",
              "            + ' to learn more about interactive tables.';\n",
              "          element.innerHTML = '';\n",
              "          dataTable['output_type'] = 'display_data';\n",
              "          await google.colab.output.renderOutput(dataTable, element);\n",
              "          const docLink = document.createElement('div');\n",
              "          docLink.innerHTML = docLinkHtml;\n",
              "          element.appendChild(docLink);\n",
              "        }\n",
              "      </script>\n",
              "    </div>\n",
              "  </div>\n",
              "  "
            ]
          },
          "metadata": {},
          "execution_count": 94
        }
      ],
      "source": [
        "# Showing the results performance.\n",
        "\n",
        "resultsDF = performanceMetricsDF(metrics, y_train, y_pred_proba_train, y_pred_train, y_test, y_pred_proba_test, y_pred_test)\n",
        "resultsDF"
      ]
    },
    {
      "cell_type": "markdown",
      "metadata": {
        "id": "10GBq3OhRbSv"
      },
      "source": [
        "### Balanced Random Forest Classifier with Random Under Sampler:"
      ]
    },
    {
      "cell_type": "code",
      "execution_count": 95,
      "metadata": {
        "id": "rY--SdlURbSv"
      },
      "outputs": [],
      "source": [
        "brf_clf = make_pipeline(\n",
        "    RandomUnderSampler(random_state=2022),\n",
        "    BalancedRandomForestClassifier(n_estimators=500, random_state=2022, n_jobs=-1),\n",
        "    )\n",
        "# , max_depth=20"
      ]
    },
    {
      "cell_type": "code",
      "execution_count": 96,
      "metadata": {
        "id": "64bftMfMRbSx",
        "colab": {
          "base_uri": "https://localhost:8080/"
        },
        "outputId": "f87204c3-388c-4aed-9005-cdb2c69a4398"
      },
      "outputs": [
        {
          "output_type": "execute_result",
          "data": {
            "text/plain": [
              "Pipeline(steps=[('randomundersampler', RandomUnderSampler(random_state=2022)),\n",
              "                ('balancedrandomforestclassifier',\n",
              "                 BalancedRandomForestClassifier(n_estimators=500, n_jobs=-1,\n",
              "                                                random_state=2022))])"
            ]
          },
          "metadata": {},
          "execution_count": 96
        }
      ],
      "source": [
        "# Creating and training the model.\n",
        "\n",
        "brf_clf.fit(X_train, y_train)"
      ]
    },
    {
      "cell_type": "code",
      "execution_count": 97,
      "metadata": {
        "id": "HqUagkK0RbSy"
      },
      "outputs": [],
      "source": [
        "# Predicting the target for X_train and X_test.\n",
        "\n",
        "y_pred_train = brf_clf.predict(X_train) \n",
        "y_pred_test = brf_clf.predict(X_test) \n",
        "\n",
        "# Probabilities of belong to the class 1.\n",
        "y_pred_proba_train = brf_clf.predict_proba(X_train)[:,1] \n",
        "y_pred_proba_test = brf_clf.predict_proba(X_test)[:,1] "
      ]
    },
    {
      "cell_type": "code",
      "execution_count": 98,
      "metadata": {
        "id": "VqRsK82SRbSz",
        "colab": {
          "base_uri": "https://localhost:8080/",
          "height": 301
        },
        "outputId": "e8cc8b77-72c7-4667-a786-b5e5e6ef534e"
      },
      "outputs": [
        {
          "output_type": "execute_result",
          "data": {
            "text/plain": [
              "     Measure     Train      Test\n",
              "0   ACCURACY  0.831533  0.673363\n",
              "1  PRECISION  0.585398  0.383125\n",
              "2     RECALL  0.998729  0.611863\n",
              "3   F1 SCORE  0.738140  0.471202\n",
              "4        AUC  0.889057  0.652209\n",
              "5  AUC_Proba  0.981465  0.707495"
            ],
            "text/html": [
              "\n",
              "  <div id=\"df-96a503e8-1245-4749-a1c2-25d8e5b12f3b\">\n",
              "    <div class=\"colab-df-container\">\n",
              "      <div>\n",
              "<style scoped>\n",
              "    .dataframe tbody tr th:only-of-type {\n",
              "        vertical-align: middle;\n",
              "    }\n",
              "\n",
              "    .dataframe tbody tr th {\n",
              "        vertical-align: top;\n",
              "    }\n",
              "\n",
              "    .dataframe thead th {\n",
              "        text-align: right;\n",
              "    }\n",
              "</style>\n",
              "<table border=\"1\" class=\"dataframe\">\n",
              "  <thead>\n",
              "    <tr style=\"text-align: right;\">\n",
              "      <th></th>\n",
              "      <th>Measure</th>\n",
              "      <th>Train</th>\n",
              "      <th>Test</th>\n",
              "    </tr>\n",
              "  </thead>\n",
              "  <tbody>\n",
              "    <tr>\n",
              "      <th>0</th>\n",
              "      <td>ACCURACY</td>\n",
              "      <td>0.831533</td>\n",
              "      <td>0.673363</td>\n",
              "    </tr>\n",
              "    <tr>\n",
              "      <th>1</th>\n",
              "      <td>PRECISION</td>\n",
              "      <td>0.585398</td>\n",
              "      <td>0.383125</td>\n",
              "    </tr>\n",
              "    <tr>\n",
              "      <th>2</th>\n",
              "      <td>RECALL</td>\n",
              "      <td>0.998729</td>\n",
              "      <td>0.611863</td>\n",
              "    </tr>\n",
              "    <tr>\n",
              "      <th>3</th>\n",
              "      <td>F1 SCORE</td>\n",
              "      <td>0.738140</td>\n",
              "      <td>0.471202</td>\n",
              "    </tr>\n",
              "    <tr>\n",
              "      <th>4</th>\n",
              "      <td>AUC</td>\n",
              "      <td>0.889057</td>\n",
              "      <td>0.652209</td>\n",
              "    </tr>\n",
              "    <tr>\n",
              "      <th>5</th>\n",
              "      <td>AUC_Proba</td>\n",
              "      <td>0.981465</td>\n",
              "      <td>0.707495</td>\n",
              "    </tr>\n",
              "  </tbody>\n",
              "</table>\n",
              "</div>\n",
              "      <button class=\"colab-df-convert\" onclick=\"convertToInteractive('df-96a503e8-1245-4749-a1c2-25d8e5b12f3b')\"\n",
              "              title=\"Convert this dataframe to an interactive table.\"\n",
              "              style=\"display:none;\">\n",
              "        \n",
              "  <svg xmlns=\"http://www.w3.org/2000/svg\" height=\"24px\"viewBox=\"0 0 24 24\"\n",
              "       width=\"24px\">\n",
              "    <path d=\"M0 0h24v24H0V0z\" fill=\"none\"/>\n",
              "    <path d=\"M18.56 5.44l.94 2.06.94-2.06 2.06-.94-2.06-.94-.94-2.06-.94 2.06-2.06.94zm-11 1L8.5 8.5l.94-2.06 2.06-.94-2.06-.94L8.5 2.5l-.94 2.06-2.06.94zm10 10l.94 2.06.94-2.06 2.06-.94-2.06-.94-.94-2.06-.94 2.06-2.06.94z\"/><path d=\"M17.41 7.96l-1.37-1.37c-.4-.4-.92-.59-1.43-.59-.52 0-1.04.2-1.43.59L10.3 9.45l-7.72 7.72c-.78.78-.78 2.05 0 2.83L4 21.41c.39.39.9.59 1.41.59.51 0 1.02-.2 1.41-.59l7.78-7.78 2.81-2.81c.8-.78.8-2.07 0-2.86zM5.41 20L4 18.59l7.72-7.72 1.47 1.35L5.41 20z\"/>\n",
              "  </svg>\n",
              "      </button>\n",
              "      \n",
              "  <style>\n",
              "    .colab-df-container {\n",
              "      display:flex;\n",
              "      flex-wrap:wrap;\n",
              "      gap: 12px;\n",
              "    }\n",
              "\n",
              "    .colab-df-convert {\n",
              "      background-color: #E8F0FE;\n",
              "      border: none;\n",
              "      border-radius: 50%;\n",
              "      cursor: pointer;\n",
              "      display: none;\n",
              "      fill: #1967D2;\n",
              "      height: 32px;\n",
              "      padding: 0 0 0 0;\n",
              "      width: 32px;\n",
              "    }\n",
              "\n",
              "    .colab-df-convert:hover {\n",
              "      background-color: #E2EBFA;\n",
              "      box-shadow: 0px 1px 2px rgba(60, 64, 67, 0.3), 0px 1px 3px 1px rgba(60, 64, 67, 0.15);\n",
              "      fill: #174EA6;\n",
              "    }\n",
              "\n",
              "    [theme=dark] .colab-df-convert {\n",
              "      background-color: #3B4455;\n",
              "      fill: #D2E3FC;\n",
              "    }\n",
              "\n",
              "    [theme=dark] .colab-df-convert:hover {\n",
              "      background-color: #434B5C;\n",
              "      box-shadow: 0px 1px 3px 1px rgba(0, 0, 0, 0.15);\n",
              "      filter: drop-shadow(0px 1px 2px rgba(0, 0, 0, 0.3));\n",
              "      fill: #FFFFFF;\n",
              "    }\n",
              "  </style>\n",
              "\n",
              "      <script>\n",
              "        const buttonEl =\n",
              "          document.querySelector('#df-96a503e8-1245-4749-a1c2-25d8e5b12f3b button.colab-df-convert');\n",
              "        buttonEl.style.display =\n",
              "          google.colab.kernel.accessAllowed ? 'block' : 'none';\n",
              "\n",
              "        async function convertToInteractive(key) {\n",
              "          const element = document.querySelector('#df-96a503e8-1245-4749-a1c2-25d8e5b12f3b');\n",
              "          const dataTable =\n",
              "            await google.colab.kernel.invokeFunction('convertToInteractive',\n",
              "                                                     [key], {});\n",
              "          if (!dataTable) return;\n",
              "\n",
              "          const docLinkHtml = 'Like what you see? Visit the ' +\n",
              "            '<a target=\"_blank\" href=https://colab.research.google.com/notebooks/data_table.ipynb>data table notebook</a>'\n",
              "            + ' to learn more about interactive tables.';\n",
              "          element.innerHTML = '';\n",
              "          dataTable['output_type'] = 'display_data';\n",
              "          await google.colab.output.renderOutput(dataTable, element);\n",
              "          const docLink = document.createElement('div');\n",
              "          docLink.innerHTML = docLinkHtml;\n",
              "          element.appendChild(docLink);\n",
              "        }\n",
              "      </script>\n",
              "    </div>\n",
              "  </div>\n",
              "  "
            ]
          },
          "metadata": {},
          "execution_count": 98
        }
      ],
      "source": [
        "# Showing the results performance.\n",
        "\n",
        "resultsDF = performanceMetricsDF(metrics, y_train, y_pred_proba_train, y_pred_train, y_test, y_pred_proba_test, y_pred_test)\n",
        "resultsDF"
      ]
    },
    {
      "cell_type": "code",
      "execution_count": 98,
      "metadata": {
        "id": "MN2rFyu-RbS0"
      },
      "outputs": [],
      "source": [
        ""
      ]
    },
    {
      "cell_type": "markdown",
      "metadata": {
        "id": "aUbpcOVuRbS2"
      },
      "source": [
        "###  Gradient Boosting Classifier with Random Under Sampler:"
      ]
    },
    {
      "cell_type": "code",
      "execution_count": 99,
      "metadata": {
        "id": "OxAXHPrYRbS3"
      },
      "outputs": [],
      "source": [
        "gb_clf = make_pipeline(\n",
        "    RandomUnderSampler(random_state=2022),\n",
        "    GradientBoostingClassifier(n_estimators=100, learning_rate=1.0,\n",
        "                                random_state=2022),\n",
        ")\n",
        "# , max_depth=20 max_depth=2,"
      ]
    },
    {
      "cell_type": "code",
      "execution_count": 100,
      "metadata": {
        "id": "6Au4RJ95RbS4",
        "colab": {
          "base_uri": "https://localhost:8080/"
        },
        "outputId": "82081317-e346-4420-ac12-d9f79fbb8746"
      },
      "outputs": [
        {
          "output_type": "execute_result",
          "data": {
            "text/plain": [
              "Pipeline(steps=[('randomundersampler', RandomUnderSampler(random_state=2022)),\n",
              "                ('gradientboostingclassifier',\n",
              "                 GradientBoostingClassifier(learning_rate=1.0,\n",
              "                                            random_state=2022))])"
            ]
          },
          "metadata": {},
          "execution_count": 100
        }
      ],
      "source": [
        "# Creating and training the model.\n",
        "\n",
        "gb_clf.fit(X_train, y_train)"
      ]
    },
    {
      "cell_type": "code",
      "execution_count": 101,
      "metadata": {
        "id": "hDkeJeMaRbS5"
      },
      "outputs": [],
      "source": [
        "# Predicting the target for X_train and X_test.\n",
        "\n",
        "y_pred_train = gb_clf.predict(X_train) \n",
        "y_pred_test = gb_clf.predict(X_test) \n",
        "\n",
        "# Probabilities of belong to the class 1.\n",
        "y_pred_proba_train = gb_clf.predict_proba(X_train)[:,1] \n",
        "y_pred_proba_test = gb_clf.predict_proba(X_test)[:,1] "
      ]
    },
    {
      "cell_type": "code",
      "execution_count": 102,
      "metadata": {
        "id": "T0SkVY76RbS5",
        "colab": {
          "base_uri": "https://localhost:8080/",
          "height": 301
        },
        "outputId": "c7f8f587-fc80-4250-da21-fcd551de32cb"
      },
      "outputs": [
        {
          "output_type": "execute_result",
          "data": {
            "text/plain": [
              "     Measure     Train      Test\n",
              "0   ACCURACY  0.707260  0.610029\n",
              "1  PRECISION  0.437926  0.327298\n",
              "2     RECALL  0.816015  0.606061\n",
              "3   F1 SCORE  0.569970  0.425051\n",
              "4        AUC  0.744678  0.608664\n",
              "5  AUC_Proba  0.817775  0.651248"
            ],
            "text/html": [
              "\n",
              "  <div id=\"df-9ddb2854-3ce6-4aed-a012-920e24aebb60\">\n",
              "    <div class=\"colab-df-container\">\n",
              "      <div>\n",
              "<style scoped>\n",
              "    .dataframe tbody tr th:only-of-type {\n",
              "        vertical-align: middle;\n",
              "    }\n",
              "\n",
              "    .dataframe tbody tr th {\n",
              "        vertical-align: top;\n",
              "    }\n",
              "\n",
              "    .dataframe thead th {\n",
              "        text-align: right;\n",
              "    }\n",
              "</style>\n",
              "<table border=\"1\" class=\"dataframe\">\n",
              "  <thead>\n",
              "    <tr style=\"text-align: right;\">\n",
              "      <th></th>\n",
              "      <th>Measure</th>\n",
              "      <th>Train</th>\n",
              "      <th>Test</th>\n",
              "    </tr>\n",
              "  </thead>\n",
              "  <tbody>\n",
              "    <tr>\n",
              "      <th>0</th>\n",
              "      <td>ACCURACY</td>\n",
              "      <td>0.707260</td>\n",
              "      <td>0.610029</td>\n",
              "    </tr>\n",
              "    <tr>\n",
              "      <th>1</th>\n",
              "      <td>PRECISION</td>\n",
              "      <td>0.437926</td>\n",
              "      <td>0.327298</td>\n",
              "    </tr>\n",
              "    <tr>\n",
              "      <th>2</th>\n",
              "      <td>RECALL</td>\n",
              "      <td>0.816015</td>\n",
              "      <td>0.606061</td>\n",
              "    </tr>\n",
              "    <tr>\n",
              "      <th>3</th>\n",
              "      <td>F1 SCORE</td>\n",
              "      <td>0.569970</td>\n",
              "      <td>0.425051</td>\n",
              "    </tr>\n",
              "    <tr>\n",
              "      <th>4</th>\n",
              "      <td>AUC</td>\n",
              "      <td>0.744678</td>\n",
              "      <td>0.608664</td>\n",
              "    </tr>\n",
              "    <tr>\n",
              "      <th>5</th>\n",
              "      <td>AUC_Proba</td>\n",
              "      <td>0.817775</td>\n",
              "      <td>0.651248</td>\n",
              "    </tr>\n",
              "  </tbody>\n",
              "</table>\n",
              "</div>\n",
              "      <button class=\"colab-df-convert\" onclick=\"convertToInteractive('df-9ddb2854-3ce6-4aed-a012-920e24aebb60')\"\n",
              "              title=\"Convert this dataframe to an interactive table.\"\n",
              "              style=\"display:none;\">\n",
              "        \n",
              "  <svg xmlns=\"http://www.w3.org/2000/svg\" height=\"24px\"viewBox=\"0 0 24 24\"\n",
              "       width=\"24px\">\n",
              "    <path d=\"M0 0h24v24H0V0z\" fill=\"none\"/>\n",
              "    <path d=\"M18.56 5.44l.94 2.06.94-2.06 2.06-.94-2.06-.94-.94-2.06-.94 2.06-2.06.94zm-11 1L8.5 8.5l.94-2.06 2.06-.94-2.06-.94L8.5 2.5l-.94 2.06-2.06.94zm10 10l.94 2.06.94-2.06 2.06-.94-2.06-.94-.94-2.06-.94 2.06-2.06.94z\"/><path d=\"M17.41 7.96l-1.37-1.37c-.4-.4-.92-.59-1.43-.59-.52 0-1.04.2-1.43.59L10.3 9.45l-7.72 7.72c-.78.78-.78 2.05 0 2.83L4 21.41c.39.39.9.59 1.41.59.51 0 1.02-.2 1.41-.59l7.78-7.78 2.81-2.81c.8-.78.8-2.07 0-2.86zM5.41 20L4 18.59l7.72-7.72 1.47 1.35L5.41 20z\"/>\n",
              "  </svg>\n",
              "      </button>\n",
              "      \n",
              "  <style>\n",
              "    .colab-df-container {\n",
              "      display:flex;\n",
              "      flex-wrap:wrap;\n",
              "      gap: 12px;\n",
              "    }\n",
              "\n",
              "    .colab-df-convert {\n",
              "      background-color: #E8F0FE;\n",
              "      border: none;\n",
              "      border-radius: 50%;\n",
              "      cursor: pointer;\n",
              "      display: none;\n",
              "      fill: #1967D2;\n",
              "      height: 32px;\n",
              "      padding: 0 0 0 0;\n",
              "      width: 32px;\n",
              "    }\n",
              "\n",
              "    .colab-df-convert:hover {\n",
              "      background-color: #E2EBFA;\n",
              "      box-shadow: 0px 1px 2px rgba(60, 64, 67, 0.3), 0px 1px 3px 1px rgba(60, 64, 67, 0.15);\n",
              "      fill: #174EA6;\n",
              "    }\n",
              "\n",
              "    [theme=dark] .colab-df-convert {\n",
              "      background-color: #3B4455;\n",
              "      fill: #D2E3FC;\n",
              "    }\n",
              "\n",
              "    [theme=dark] .colab-df-convert:hover {\n",
              "      background-color: #434B5C;\n",
              "      box-shadow: 0px 1px 3px 1px rgba(0, 0, 0, 0.15);\n",
              "      filter: drop-shadow(0px 1px 2px rgba(0, 0, 0, 0.3));\n",
              "      fill: #FFFFFF;\n",
              "    }\n",
              "  </style>\n",
              "\n",
              "      <script>\n",
              "        const buttonEl =\n",
              "          document.querySelector('#df-9ddb2854-3ce6-4aed-a012-920e24aebb60 button.colab-df-convert');\n",
              "        buttonEl.style.display =\n",
              "          google.colab.kernel.accessAllowed ? 'block' : 'none';\n",
              "\n",
              "        async function convertToInteractive(key) {\n",
              "          const element = document.querySelector('#df-9ddb2854-3ce6-4aed-a012-920e24aebb60');\n",
              "          const dataTable =\n",
              "            await google.colab.kernel.invokeFunction('convertToInteractive',\n",
              "                                                     [key], {});\n",
              "          if (!dataTable) return;\n",
              "\n",
              "          const docLinkHtml = 'Like what you see? Visit the ' +\n",
              "            '<a target=\"_blank\" href=https://colab.research.google.com/notebooks/data_table.ipynb>data table notebook</a>'\n",
              "            + ' to learn more about interactive tables.';\n",
              "          element.innerHTML = '';\n",
              "          dataTable['output_type'] = 'display_data';\n",
              "          await google.colab.output.renderOutput(dataTable, element);\n",
              "          const docLink = document.createElement('div');\n",
              "          docLink.innerHTML = docLinkHtml;\n",
              "          element.appendChild(docLink);\n",
              "        }\n",
              "      </script>\n",
              "    </div>\n",
              "  </div>\n",
              "  "
            ]
          },
          "metadata": {},
          "execution_count": 102
        }
      ],
      "source": [
        "# Showing the results performance.\n",
        "\n",
        "resultsDF = performanceMetricsDF(metrics, y_train, y_pred_proba_train, y_pred_train, y_test, y_pred_proba_test, y_pred_test)\n",
        "resultsDF"
      ]
    },
    {
      "cell_type": "code",
      "execution_count": 102,
      "metadata": {
        "id": "-8vEEjjWRbS7"
      },
      "outputs": [],
      "source": [
        ""
      ]
    },
    {
      "cell_type": "code",
      "execution_count": 102,
      "metadata": {
        "id": "ZmqXJjQlRbS7"
      },
      "outputs": [],
      "source": [
        ""
      ]
    }
  ],
  "metadata": {
    "interpreter": {
      "hash": "d7a18bc08bf6b314cad8b0dd8f53415ad78d1015cc806d14e4873c235fb4e191"
    },
    "kernelspec": {
      "display_name": "Python 3",
      "language": "python",
      "name": "python3"
    },
    "language_info": {
      "codemirror_mode": {
        "name": "ipython",
        "version": 3
      },
      "file_extension": ".py",
      "mimetype": "text/x-python",
      "name": "python",
      "nbconvert_exporter": "python",
      "pygments_lexer": "ipython3",
      "version": "3.8.8"
    },
    "colab": {
      "name": "Project2_GroupD.ipynb",
      "provenance": [],
      "collapsed_sections": [
        "Dxwd_3N7RbSn",
        "10GBq3OhRbSv",
        "aUbpcOVuRbS2"
      ],
      "toc_visible": true,
      "include_colab_link": true
    }
  },
  "nbformat": 4,
  "nbformat_minor": 0
}